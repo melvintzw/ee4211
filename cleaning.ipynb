{
 "cells": [
  {
   "cell_type": "markdown",
   "metadata": {},
   "source": [
    "### Imports and dependencies"
   ]
  },
  {
   "cell_type": "code",
   "execution_count": 111,
   "metadata": {},
   "outputs": [],
   "source": [
    "import matplotlib.pyplot as plt\n",
    "import numpy as np\n",
    "import pandas as pd\n",
    "import seaborn as sns\n",
    "%matplotlib inline\n",
    "sns.set_style(\"ticks\")"
   ]
  },
  {
   "cell_type": "markdown",
   "metadata": {},
   "source": [
    "### Get dataframes by meterids and obtain list of meterids."
   ]
  },
  {
   "cell_type": "code",
   "execution_count": 112,
   "metadata": {},
   "outputs": [
    {
     "name": "stdout",
     "output_type": "stream",
     "text": [
      "[35, 44, 77, 94, 114, 187, 222, 252, 370, 483, 484, 661, 739, 744, 871, 1042, 1086, 1103, 1185, 1283, 1403, 1415, 1507, 1556, 1589, 1619, 1697, 1714, 1718, 1790, 1791, 1792, 1800, 1801, 2018, 2034, 2072, 2094, 2129, 2233, 2335, 2378, 2449, 2461, 2470, 2575, 2638, 2645, 2755, 2814, 2818, 2945, 2946, 2965, 2980, 3036, 3039, 3134, 3310, 3367, 3527, 3544, 3577, 3635, 3723, 3778, 3849, 3893, 3918, 4029, 4031, 4193, 4228, 4296, 4352, 4356, 4373, 4421, 4447, 4514, 4671, 4732, 4767, 4874, 4998, 5129, 5131, 5193, 5275, 5317, 5395, 5403, 5439, 5484, 5545, 5636, 5658, 5785, 5810, 5814, 5892, 5972, 6101, 6412, 6505, 6578, 6673, 6685, 6830, 6836, 6863, 6910, 7016, 7017, 7030, 7117, 7287, 7429, 7460, 7566, 7674, 7682, 7739, 7741, 7794, 7900, 7919, 7965, 7989, 8059, 8084, 8086, 8155, 8156, 8244, 8386, 8467, 8703, 8829, 8890, 8967, 9052, 9121, 9134, 9160, 9278, 9295, 9474, 9600, 9620, 9631, 9639, 9729, 9766, 9849, 9956, 9982]\n"
     ]
    }
   ],
   "source": [
    "df_all = pd.read_csv('data/dataport-export_gas_oct2015-mar2016.csv')\n",
    "df_all = df_all.set_index(pd.to_datetime(df_all['localminute']))\n",
    "df_all = df_all.drop(columns='localminute')\n",
    "groups = df_all.groupby('dataid')\n",
    "keys = groups.groups.keys()  # keys: an iterable of dataids or meter ids\n",
    "keys_list = list(keys)\n",
    "print(keys_list)"
   ]
  },
  {
   "cell_type": "code",
   "execution_count": 113,
   "metadata": {},
   "outputs": [],
   "source": [
    "def zoom(df, start_date, end_date):\n",
    "    # returns a df whose rows are within a particular time period. \n",
    "    # pre-condition: df is indexed by datetime.\n",
    "    start_date = pd.to_datetime(start_date)\n",
    "    end_date = pd.to_datetime(end_date)\n",
    "    mask = (df.index >= start_date) & (df.index <= end_date)\n",
    "\n",
    "    new_df = df.iloc[mask]\n",
    "    return new_df"
   ]
  },
  {
   "cell_type": "code",
   "execution_count": 114,
   "metadata": {},
   "outputs": [
    {
     "data": {
      "text/plain": [
       "13796"
      ]
     },
     "metadata": {},
     "output_type": "display_data"
    },
    {
     "data": {
      "image/png": "[encoded data removed]",
      "text/plain": [
       "<Figure size 432x288 with 1 Axes>"
      ]
     },
     "metadata": {},
     "output_type": "display_data"
    }
   ],
   "source": [
    "key = 9639\n",
    "df_i = groups.get_group(key)\n",
    "df_i['meter_value'].plot()\n",
    "display(len(df_i))"
   ]
  },
  {
   "cell_type": "code",
   "execution_count": 115,
   "metadata": {},
   "outputs": [],
   "source": [
    "# example for zoom\n",
    "df_i_1mth = zoom(df_i, '2016-01-01', '2016-02-01')"
   ]
  },
  {
   "cell_type": "markdown",
   "metadata": {},
   "source": [
    "### Cleaning steps."
   ]
  },
  {
   "cell_type": "code",
   "execution_count": 116,
   "metadata": {},
   "outputs": [],
   "source": [
    "# step 1 (optional part)\n",
    "def remove_mal_data(df):\n",
    "    # this method finds the start datetime and end datetime of the malfunctioning period and returns a new df without data\n",
    "    # from that period. i.e. the entire chunk of data from the faulty period is dropped.\n",
    "    # NOTE that a new column 'marginal_change' is added to the df.\n",
    "    # df: pandas dataframe. contains data from one meterid. contains a column 'meter_value'.\n",
    "    \n",
    "    # from visualising the data, we can arbitrarily define a spike as a marginal change of > 2000 cubic metres\n",
    "    # we have defined malfunction as a marginal change > 2000\n",
    "    # and a marginal change < -2000. this should correspond to the period of 7-14 dec for particular meterids.\n",
    "    threshold = 2000\n",
    "    df = df.assign(marginal_change=df['meter_value'].diff().fillna(0))\n",
    "    \n",
    "    flagged_dates = df[df.marginal_change > threshold].index\n",
    "    flagged_dates = flagged_dates.append(df[df.marginal_change < -1*threshold].index)\n",
    "    \n",
    "    if len(flagged_dates) > 0:\n",
    "        start = flagged_dates[0]\n",
    "        end = flagged_dates[-1]    \n",
    "        mask = (df.index >= start) & (df.index <= end)\n",
    "        return df.loc[~mask]\n",
    "    else:\n",
    "        return df"
   ]
  },
  {
   "cell_type": "code",
   "execution_count": 117,
   "metadata": {},
   "outputs": [
    {
     "data": {
      "text/plain": [
       "13748"
      ]
     },
     "metadata": {},
     "output_type": "display_data"
    },
    {
     "data": {
      "text/html": [
       "<div>\n",
       "<style scoped>\n",
       "    .dataframe tbody tr th:only-of-type {\n",
       "        vertical-align: middle;\n",
       "    }\n",
       "\n",
       "    .dataframe tbody tr th {\n",
       "        vertical-align: top;\n",
       "    }\n",
       "\n",
       "    .dataframe thead th {\n",
       "        text-align: right;\n",
       "    }\n",
       "</style>\n",
       "<table border=\"1\" class=\"dataframe\">\n",
       "  <thead>\n",
       "    <tr style=\"text-align: right;\">\n",
       "      <th></th>\n",
       "      <th>dataid</th>\n",
       "      <th>meter_value</th>\n",
       "      <th>marginal_change</th>\n",
       "    </tr>\n",
       "    <tr>\n",
       "      <th>localminute</th>\n",
       "      <th></th>\n",
       "      <th></th>\n",
       "      <th></th>\n",
       "    </tr>\n",
       "  </thead>\n",
       "  <tbody>\n",
       "    <tr>\n",
       "      <th>2015-10-01 05:06:36</th>\n",
       "      <td>9639</td>\n",
       "      <td>211656</td>\n",
       "      <td>0.0</td>\n",
       "    </tr>\n",
       "    <tr>\n",
       "      <th>2015-10-01 05:07:51</th>\n",
       "      <td>9639</td>\n",
       "      <td>211656</td>\n",
       "      <td>0.0</td>\n",
       "    </tr>\n",
       "    <tr>\n",
       "      <th>2015-10-01 05:11:36</th>\n",
       "      <td>9639</td>\n",
       "      <td>211656</td>\n",
       "      <td>0.0</td>\n",
       "    </tr>\n",
       "    <tr>\n",
       "      <th>2015-10-01 05:24:37</th>\n",
       "      <td>9639</td>\n",
       "      <td>211656</td>\n",
       "      <td>0.0</td>\n",
       "    </tr>\n",
       "    <tr>\n",
       "      <th>2015-10-01 05:29:37</th>\n",
       "      <td>9639</td>\n",
       "      <td>211656</td>\n",
       "      <td>0.0</td>\n",
       "    </tr>\n",
       "  </tbody>\n",
       "</table>\n",
       "</div>"
      ],
      "text/plain": [
       "                     dataid  meter_value  marginal_change\n",
       "localminute                                              \n",
       "2015-10-01 05:06:36    9639       211656              0.0\n",
       "2015-10-01 05:07:51    9639       211656              0.0\n",
       "2015-10-01 05:11:36    9639       211656              0.0\n",
       "2015-10-01 05:24:37    9639       211656              0.0\n",
       "2015-10-01 05:29:37    9639       211656              0.0"
      ]
     },
     "metadata": {},
     "output_type": "display_data"
    },
    {
     "data": {
      "text/plain": [
       "<matplotlib.axes._subplots.AxesSubplot at 0x25397761ba8>"
      ]
     },
     "execution_count": 117,
     "metadata": {},
     "output_type": "execute_result"
    },
    {
     "data": {
      "image/png": "[encoded data removed]",
      "text/plain": [
       "<Figure size 432x288 with 1 Axes>"
      ]
     },
     "metadata": {},
     "output_type": "display_data"
    }
   ],
   "source": [
    "df_no_mal = remove_mal_data(df_i)\n",
    "display(len(df_no_mal), df_no_mal.head())\n",
    "df_no_mal['meter_value'].plot()"
   ]
  },
  {
   "cell_type": "code",
   "execution_count": 118,
   "metadata": {},
   "outputs": [],
   "source": [
    "# step 2. exclude meters with low sampling frequency\n",
    "\n",
    "# list of meters visually inspected and identified to be malfunctioning \n",
    "# based on spikes or irregularities seen on the plot.\n",
    "# to_remove = [1185, 1556, 2335, 2449, 3134, 3544, 4447, 4514,\\\n",
    "#              5129, 5403, 6836, 7030, 7117, 8156, 9134, 9639, 9982]\n",
    "\n",
    "# low_samplefreq = [1874, 2645, 4671, 5545, 6101, 9620]\n",
    "\n",
    "# to_remove.extend(low_samplefreq) \n",
    "\n",
    "# display(to_remove, len(to_remove))\n",
    "\n",
    "# # final meters to use for analysis\n",
    "# to_keep = [elem for elem in keys_list if elem not in to_remove]"
   ]
  },
  {
   "cell_type": "code",
   "execution_count": 119,
   "metadata": {},
   "outputs": [],
   "source": [
    "# step 3. Change cumulative to marginal change.\n",
    "\n",
    "# we already have the 'marginal_change' column. \n",
    "# NOTE: the 'meter_value' or cumulative reading column is NO LONGER VALID after dropping any row.\n",
    "# the only exception is for the very first row which is the first cumulative reading.\n",
    "# if we are going to need cumulative readings again, we must construct them from this first cumulative reading and all\n",
    "# the new (remaining/cleaned) marginal changes."
   ]
  },
  {
   "cell_type": "code",
   "execution_count": 120,
   "metadata": {},
   "outputs": [],
   "source": [
    "# step 4. remove marginal decrease.\n",
    "def remove_negative_marginal(df):\n",
    "    # remove data points where the marginal change (from prev value) is negative.\n",
    "    return df.loc[df['marginal_change'] >= 0]\n",
    "\n",
    "# same notes apply as in step 3."
   ]
  },
  {
   "cell_type": "code",
   "execution_count": 121,
   "metadata": {},
   "outputs": [
    {
     "data": {
      "text/plain": [
       "13748"
      ]
     },
     "metadata": {},
     "output_type": "display_data"
    },
    {
     "data": {
      "text/html": [
       "<div>\n",
       "<style scoped>\n",
       "    .dataframe tbody tr th:only-of-type {\n",
       "        vertical-align: middle;\n",
       "    }\n",
       "\n",
       "    .dataframe tbody tr th {\n",
       "        vertical-align: top;\n",
       "    }\n",
       "\n",
       "    .dataframe thead th {\n",
       "        text-align: right;\n",
       "    }\n",
       "</style>\n",
       "<table border=\"1\" class=\"dataframe\">\n",
       "  <thead>\n",
       "    <tr style=\"text-align: right;\">\n",
       "      <th></th>\n",
       "      <th>dataid</th>\n",
       "      <th>meter_value</th>\n",
       "      <th>marginal_change</th>\n",
       "    </tr>\n",
       "    <tr>\n",
       "      <th>localminute</th>\n",
       "      <th></th>\n",
       "      <th></th>\n",
       "      <th></th>\n",
       "    </tr>\n",
       "  </thead>\n",
       "  <tbody>\n",
       "    <tr>\n",
       "      <th>2016-03-22 13:19:41.004039</th>\n",
       "      <td>9639</td>\n",
       "      <td>254328</td>\n",
       "      <td>0.0</td>\n",
       "    </tr>\n",
       "    <tr>\n",
       "      <th>2016-03-22 13:30:41.506136</th>\n",
       "      <td>9639</td>\n",
       "      <td>254338</td>\n",
       "      <td>10.0</td>\n",
       "    </tr>\n",
       "    <tr>\n",
       "      <th>2016-03-22 13:30:56.006231</th>\n",
       "      <td>9639</td>\n",
       "      <td>254338</td>\n",
       "      <td>0.0</td>\n",
       "    </tr>\n",
       "    <tr>\n",
       "      <th>2016-03-22 17:25:10.992863</th>\n",
       "      <td>9639</td>\n",
       "      <td>254410</td>\n",
       "      <td>72.0</td>\n",
       "    </tr>\n",
       "    <tr>\n",
       "      <th>2016-03-28 14:52:54.831078</th>\n",
       "      <td>9639</td>\n",
       "      <td>255418</td>\n",
       "      <td>1008.0</td>\n",
       "    </tr>\n",
       "  </tbody>\n",
       "</table>\n",
       "</div>"
      ],
      "text/plain": [
       "                            dataid  meter_value  marginal_change\n",
       "localminute                                                     \n",
       "2016-03-22 13:19:41.004039    9639       254328              0.0\n",
       "2016-03-22 13:30:41.506136    9639       254338             10.0\n",
       "2016-03-22 13:30:56.006231    9639       254338              0.0\n",
       "2016-03-22 17:25:10.992863    9639       254410             72.0\n",
       "2016-03-28 14:52:54.831078    9639       255418           1008.0"
      ]
     },
     "metadata": {},
     "output_type": "display_data"
    }
   ],
   "source": [
    "df_no_negative_marginal = remove_negative_marginal(df_no_mal)\n",
    "display(len(df_no_negative_marginal), df_no_negative_marginal.tail())"
   ]
  },
  {
   "cell_type": "code",
   "execution_count": 122,
   "metadata": {},
   "outputs": [],
   "source": [
    "# step 5. Get rate of increase from marginal changes (per second)\n",
    "\n",
    "# df is a dataframe containing data for all meters excluding the ones that have been marked as malfunctioning\n",
    "# structure of df is as such:\n",
    "#\n",
    "# localminute | dataid | meter_value | marginal_change\n",
    "#\n",
    "# where localminute is the index of the dataframe\n",
    "\n",
    "def get_rate_of_increase(df_i):\n",
    "    '''\n",
    "    compute marginal rate of increase for each reading in df_i, assigning these values to a new column.\n",
    "    \n",
    "    groups: groupby object. meter values grouped by dataid (meterid).\n",
    "    keys_list: list. list of meterids to operate on.\n",
    "    '''\n",
    "    rate_list = []\n",
    "    prev_time = df_i.index[0]\n",
    "\n",
    "    for i in range(len(df_i.index)):\n",
    "        curr_time = df_i.index[i]\n",
    "        if i == 0:\n",
    "            rate_list.append(0)\n",
    "        else:\n",
    "            # get the marginal increase from the dataframe; if dataframe structure is changed index has to be also changed\n",
    "            marginal_increase = df_i.iloc[i][2]\n",
    "\n",
    "            # if else statement should not be necessary here if previous steps done correctly but added as a precaution\n",
    "            if marginal_increase > 0:\n",
    "                # get the elapsed time in seconds\n",
    "                time_elapsed = curr_time - prev_time\n",
    "                time_elapsed_in_sec = time_elapsed.total_seconds()\n",
    "\n",
    "                # calculate the rate = marginal increase / elapsed time\n",
    "                rate = marginal_increase / time_elapsed_in_sec\n",
    "                rate_list.append(rate)\n",
    "            else:\n",
    "                rate_list.append(0)\n",
    "\n",
    "        prev_time = curr_time\n",
    "    \n",
    "    # add extra column to the dataframe to record the rate of increase\n",
    "    df_i = df_i.assign(marginal_rate=rate_list)\n",
    "    return df_i"
   ]
  },
  {
   "cell_type": "code",
   "execution_count": 123,
   "metadata": {},
   "outputs": [
    {
     "data": {
      "text/html": [
       "<div>\n",
       "<style scoped>\n",
       "    .dataframe tbody tr th:only-of-type {\n",
       "        vertical-align: middle;\n",
       "    }\n",
       "\n",
       "    .dataframe tbody tr th {\n",
       "        vertical-align: top;\n",
       "    }\n",
       "\n",
       "    .dataframe thead th {\n",
       "        text-align: right;\n",
       "    }\n",
       "</style>\n",
       "<table border=\"1\" class=\"dataframe\">\n",
       "  <thead>\n",
       "    <tr style=\"text-align: right;\">\n",
       "      <th></th>\n",
       "      <th>dataid</th>\n",
       "      <th>meter_value</th>\n",
       "      <th>marginal_change</th>\n",
       "      <th>marginal_rate</th>\n",
       "    </tr>\n",
       "    <tr>\n",
       "      <th>localminute</th>\n",
       "      <th></th>\n",
       "      <th></th>\n",
       "      <th></th>\n",
       "      <th></th>\n",
       "    </tr>\n",
       "  </thead>\n",
       "  <tbody>\n",
       "    <tr>\n",
       "      <th>2016-03-22 13:19:41.004039</th>\n",
       "      <td>9639</td>\n",
       "      <td>254328</td>\n",
       "      <td>0.0</td>\n",
       "      <td>0.000000</td>\n",
       "    </tr>\n",
       "    <tr>\n",
       "      <th>2016-03-22 13:30:41.506136</th>\n",
       "      <td>9639</td>\n",
       "      <td>254338</td>\n",
       "      <td>10.0</td>\n",
       "      <td>0.015140</td>\n",
       "    </tr>\n",
       "    <tr>\n",
       "      <th>2016-03-22 13:30:56.006231</th>\n",
       "      <td>9639</td>\n",
       "      <td>254338</td>\n",
       "      <td>0.0</td>\n",
       "      <td>0.000000</td>\n",
       "    </tr>\n",
       "    <tr>\n",
       "      <th>2016-03-22 17:25:10.992863</th>\n",
       "      <td>9639</td>\n",
       "      <td>254410</td>\n",
       "      <td>72.0</td>\n",
       "      <td>0.005123</td>\n",
       "    </tr>\n",
       "    <tr>\n",
       "      <th>2016-03-28 14:52:54.831078</th>\n",
       "      <td>9639</td>\n",
       "      <td>255418</td>\n",
       "      <td>1008.0</td>\n",
       "      <td>0.001979</td>\n",
       "    </tr>\n",
       "  </tbody>\n",
       "</table>\n",
       "</div>"
      ],
      "text/plain": [
       "                            dataid  meter_value  marginal_change  \\\n",
       "localminute                                                        \n",
       "2016-03-22 13:19:41.004039    9639       254328              0.0   \n",
       "2016-03-22 13:30:41.506136    9639       254338             10.0   \n",
       "2016-03-22 13:30:56.006231    9639       254338              0.0   \n",
       "2016-03-22 17:25:10.992863    9639       254410             72.0   \n",
       "2016-03-28 14:52:54.831078    9639       255418           1008.0   \n",
       "\n",
       "                            marginal_rate  \n",
       "localminute                                \n",
       "2016-03-22 13:19:41.004039       0.000000  \n",
       "2016-03-22 13:30:41.506136       0.015140  \n",
       "2016-03-22 13:30:56.006231       0.000000  \n",
       "2016-03-22 17:25:10.992863       0.005123  \n",
       "2016-03-28 14:52:54.831078       0.001979  "
      ]
     },
     "execution_count": 123,
     "metadata": {},
     "output_type": "execute_result"
    }
   ],
   "source": [
    "df_new = get_rate_of_increase(df_no_negative_marginal)\n",
    "df_new.tail()"
   ]
  },
  {
   "cell_type": "code",
   "execution_count": 124,
   "metadata": {},
   "outputs": [],
   "source": [
    "# step 6 & 7. Mark anomalies from rate of increase with threshold = 0.166/s and remove them\n",
    "def remove_large_increments(df):\n",
    "    return df.loc[df.marginal_rate < 0.166]"
   ]
  },
  {
   "cell_type": "code",
   "execution_count": 125,
   "metadata": {},
   "outputs": [
    {
     "data": {
      "text/plain": [
       "13748"
      ]
     },
     "metadata": {},
     "output_type": "display_data"
    },
    {
     "data": {
      "text/html": [
       "<div>\n",
       "<style scoped>\n",
       "    .dataframe tbody tr th:only-of-type {\n",
       "        vertical-align: middle;\n",
       "    }\n",
       "\n",
       "    .dataframe tbody tr th {\n",
       "        vertical-align: top;\n",
       "    }\n",
       "\n",
       "    .dataframe thead th {\n",
       "        text-align: right;\n",
       "    }\n",
       "</style>\n",
       "<table border=\"1\" class=\"dataframe\">\n",
       "  <thead>\n",
       "    <tr style=\"text-align: right;\">\n",
       "      <th></th>\n",
       "      <th>dataid</th>\n",
       "      <th>meter_value</th>\n",
       "      <th>marginal_change</th>\n",
       "      <th>marginal_rate</th>\n",
       "    </tr>\n",
       "    <tr>\n",
       "      <th>localminute</th>\n",
       "      <th></th>\n",
       "      <th></th>\n",
       "      <th></th>\n",
       "      <th></th>\n",
       "    </tr>\n",
       "  </thead>\n",
       "  <tbody>\n",
       "    <tr>\n",
       "      <th>2015-10-01 05:06:36</th>\n",
       "      <td>9639</td>\n",
       "      <td>211656</td>\n",
       "      <td>0.0</td>\n",
       "      <td>0.0</td>\n",
       "    </tr>\n",
       "    <tr>\n",
       "      <th>2015-10-01 05:07:51</th>\n",
       "      <td>9639</td>\n",
       "      <td>211656</td>\n",
       "      <td>0.0</td>\n",
       "      <td>0.0</td>\n",
       "    </tr>\n",
       "    <tr>\n",
       "      <th>2015-10-01 05:11:36</th>\n",
       "      <td>9639</td>\n",
       "      <td>211656</td>\n",
       "      <td>0.0</td>\n",
       "      <td>0.0</td>\n",
       "    </tr>\n",
       "    <tr>\n",
       "      <th>2015-10-01 05:24:37</th>\n",
       "      <td>9639</td>\n",
       "      <td>211656</td>\n",
       "      <td>0.0</td>\n",
       "      <td>0.0</td>\n",
       "    </tr>\n",
       "    <tr>\n",
       "      <th>2015-10-01 05:29:37</th>\n",
       "      <td>9639</td>\n",
       "      <td>211656</td>\n",
       "      <td>0.0</td>\n",
       "      <td>0.0</td>\n",
       "    </tr>\n",
       "  </tbody>\n",
       "</table>\n",
       "</div>"
      ],
      "text/plain": [
       "                     dataid  meter_value  marginal_change  marginal_rate\n",
       "localminute                                                             \n",
       "2015-10-01 05:06:36    9639       211656              0.0            0.0\n",
       "2015-10-01 05:07:51    9639       211656              0.0            0.0\n",
       "2015-10-01 05:11:36    9639       211656              0.0            0.0\n",
       "2015-10-01 05:24:37    9639       211656              0.0            0.0\n",
       "2015-10-01 05:29:37    9639       211656              0.0            0.0"
      ]
     },
     "metadata": {},
     "output_type": "display_data"
    }
   ],
   "source": [
    "df_clean = remove_large_increments(df_new)\n",
    "display(len(df_clean), df_clean.head())"
   ]
  },
  {
   "cell_type": "code",
   "execution_count": 126,
   "metadata": {},
   "outputs": [
    {
     "data": {
      "text/plain": [
       "<matplotlib.axes._subplots.AxesSubplot at 0x25397836550>"
      ]
     },
     "execution_count": 126,
     "metadata": {},
     "output_type": "execute_result"
    },
    {
     "data": {
      "image/png": "[encoded data removed]",
      "text/plain": [
       "<Figure size 432x288 with 1 Axes>"
      ]
     },
     "metadata": {},
     "output_type": "display_data"
    }
   ],
   "source": [
    "df_clean['marginal_rate'].plot()"
   ]
  },
  {
   "cell_type": "code",
   "execution_count": 127,
   "metadata": {},
   "outputs": [
    {
     "data": {
      "text/plain": [
       "4306"
      ]
     },
     "metadata": {},
     "output_type": "display_data"
    },
    {
     "data": {
      "text/html": [
       "<div>\n",
       "<style scoped>\n",
       "    .dataframe tbody tr th:only-of-type {\n",
       "        vertical-align: middle;\n",
       "    }\n",
       "\n",
       "    .dataframe tbody tr th {\n",
       "        vertical-align: top;\n",
       "    }\n",
       "\n",
       "    .dataframe thead th {\n",
       "        text-align: right;\n",
       "    }\n",
       "</style>\n",
       "<table border=\"1\" class=\"dataframe\">\n",
       "  <thead>\n",
       "    <tr style=\"text-align: right;\">\n",
       "      <th></th>\n",
       "      <th>marginal_change</th>\n",
       "      <th>cumul_value</th>\n",
       "    </tr>\n",
       "    <tr>\n",
       "      <th>localminute</th>\n",
       "      <th></th>\n",
       "      <th></th>\n",
       "    </tr>\n",
       "  </thead>\n",
       "  <tbody>\n",
       "    <tr>\n",
       "      <th>2016-03-28 10:00:00</th>\n",
       "      <td>0.0</td>\n",
       "      <td>254184.0</td>\n",
       "    </tr>\n",
       "    <tr>\n",
       "      <th>2016-03-28 11:00:00</th>\n",
       "      <td>0.0</td>\n",
       "      <td>254184.0</td>\n",
       "    </tr>\n",
       "    <tr>\n",
       "      <th>2016-03-28 12:00:00</th>\n",
       "      <td>0.0</td>\n",
       "      <td>254184.0</td>\n",
       "    </tr>\n",
       "    <tr>\n",
       "      <th>2016-03-28 13:00:00</th>\n",
       "      <td>0.0</td>\n",
       "      <td>254184.0</td>\n",
       "    </tr>\n",
       "    <tr>\n",
       "      <th>2016-03-28 14:00:00</th>\n",
       "      <td>1008.0</td>\n",
       "      <td>255192.0</td>\n",
       "    </tr>\n",
       "  </tbody>\n",
       "</table>\n",
       "</div>"
      ],
      "text/plain": [
       "                     marginal_change  cumul_value\n",
       "localminute                                      \n",
       "2016-03-28 10:00:00              0.0     254184.0\n",
       "2016-03-28 11:00:00              0.0     254184.0\n",
       "2016-03-28 12:00:00              0.0     254184.0\n",
       "2016-03-28 13:00:00              0.0     254184.0\n",
       "2016-03-28 14:00:00           1008.0     255192.0"
      ]
     },
     "metadata": {},
     "output_type": "display_data"
    },
    {
     "data": {
      "image/png": "[encoded data removed]",
      "text/plain": [
       "<Figure size 432x288 with 1 Axes>"
      ]
     },
     "metadata": {},
     "output_type": "display_data"
    }
   ],
   "source": [
    "# step 8. Resample hourly, finding the new hourly marginal reading. Construct cumulative hourly readings as necessary.\n",
    "# step 9. visualise cleaned readings. confirm that results are as intended\n",
    "init_cumul_reading = df_clean['meter_value'].iloc[0]\n",
    "hourly_cumul_readings = [init_cumul_reading]\n",
    "\n",
    "df_resampled = df_clean['marginal_change'].resample('H').sum().fillna(0).to_frame()\n",
    "\n",
    "for i in range(1, len(df_resampled.index)):\n",
    "    hourly_cumul_readings.append(hourly_cumul_readings[i-1] + df_resampled['marginal_change'].iloc[i])\n",
    "\n",
    "display(len(hourly_cumul_readings))\n",
    "\n",
    "df_resampled = df_resampled.assign(cumul_value=hourly_cumul_readings)\n",
    "df_resampled['marginal_change'].plot()\n",
    "display(df_resampled.tail())"
   ]
  },
  {
   "cell_type": "markdown",
   "metadata": {},
   "source": [
    "final plot for meterid 9639 shows that dropping points when marginal_rate >= threshold = 0.166 m^3/s, is not enough to clean the data. With long periods of silence and then a sudden increase in cumulative reading, the hourly marginal reading will spike as shown above. \n",
    "\n",
    "This can be dealt with using 1.5IQR filtering rule on each meterid."
   ]
  },
  {
   "cell_type": "code",
   "execution_count": 128,
   "metadata": {},
   "outputs": [],
   "source": [
    "def remove_outliers(df, coeff=1.5):\n",
    "    # remove outliers using *IQR rule.\n",
    "    tmp_df = df.loc[df.marginal_change > 1]\n",
    "    Q1 = tmp_df['marginal_change'].quantile(0.25)\n",
    "    Q3 = tmp_df['marginal_change'].quantile(0.75)\n",
    "    IQR = Q3 - Q1\n",
    "    \n",
    "    #print(f'{Q1, Q3, IQR}')\n",
    "    \n",
    "    # Filtering Values between Q1-coeff*IQR and Q3+coeff*IQR\n",
    "    return df.query('(@Q1 - @coeff * @IQR) <= marginal_change <= (@Q3 + @coeff * @IQR)')"
   ]
  },
  {
   "cell_type": "code",
   "execution_count": 129,
   "metadata": {},
   "outputs": [
    {
     "data": {
      "text/plain": [
       "<matplotlib.axes._subplots.AxesSubplot at 0x253825e8438>"
      ]
     },
     "execution_count": 129,
     "metadata": {},
     "output_type": "execute_result"
    },
    {
     "data": {
      "image/png": "[encoded data removed]",
      "text/plain": [
       "<Figure size 432x288 with 1 Axes>"
      ]
     },
     "metadata": {},
     "output_type": "display_data"
    }
   ],
   "source": [
    "df_final = remove_outliers(df_resampled, coeff=1.5)\n",
    "df_final['marginal_change'].plot(title='after 1.5IQR filtering')"
   ]
  },
  {
   "cell_type": "markdown",
   "metadata": {},
   "source": [
    "NOTE: all dropping of values/rows must be done before finally reconstructing the cumulative values! in the above example, marginal_change is valid but cumul_value is not valid anymore. The processing is done in the proper order in the following section. The above section was to illustrate the need/usefulness for 1.5 IQR filtering."
   ]
  },
  {
   "cell_type": "markdown",
   "metadata": {},
   "source": [
    "### The above sections demonstrated the cleaning on one meterid. The below sections carries out all the cleaning steps on selected meterids and then compiles them into one csv file."
   ]
  },
  {
   "cell_type": "code",
   "execution_count": 130,
   "metadata": {},
   "outputs": [
    {
     "name": "stdout",
     "output_type": "stream",
     "text": [
      "[35, 44, 77, 94, 114, 187, 222, 252, 370, 483, 484, 661, 739, 744, 871, 1042, 1086, 1103, 1185, 1283, 1403, 1415, 1507, 1556, 1589, 1619, 1697, 1714, 1718, 1790, 1791, 1792, 1800, 1801, 2018, 2034, 2072, 2094, 2129, 2233, 2335, 2378, 2449, 2461, 2470, 2575, 2638, 2645, 2755, 2814, 2818, 2945, 2946, 2965, 2980, 3036, 3039, 3134, 3310, 3367, 3527, 3544, 3577, 3635, 3723, 3778, 3849, 3893, 3918, 4029, 4031, 4193, 4228, 4296, 4352, 4356, 4373, 4421, 4447, 4514, 4671, 4732, 4767, 4874, 4998, 5129, 5131, 5193, 5275, 5317, 5395, 5403, 5439, 5484, 5545, 5636, 5658, 5785, 5810, 5814, 5892, 5972, 6101, 6412, 6505, 6578, 6673, 6685, 6830, 6836, 6863, 6910, 7016, 7017, 7030, 7117, 7287, 7429, 7460, 7566, 7674, 7682, 7739, 7741, 7794, 7900, 7919, 7965, 7989, 8059, 8084, 8086, 8155, 8156, 8244, 8386, 8467, 8703, 8829, 8890, 8967, 9052, 9121, 9134, 9160, 9278, 9295, 9474, 9600, 9620, 9631, 9639, 9729, 9766, 9849, 9956, 9982]\n"
     ]
    }
   ],
   "source": [
    "df_all = pd.read_csv('data/dataport-export_gas_oct2015-mar2016.csv')\n",
    "df_all = df_all.set_index(pd.to_datetime(df_all['localminute']))\n",
    "df_all = df_all.drop(columns='localminute')\n",
    "groups = df_all.groupby('dataid')\n",
    "keys = groups.groups.keys()  # keys: an iterable of dataids or meter ids\n",
    "keys_list = list(keys)\n",
    "print(keys_list)"
   ]
  },
  {
   "cell_type": "code",
   "execution_count": 131,
   "metadata": {},
   "outputs": [
    {
     "data": {
      "text/plain": [
       "[1874, 2645, 4671, 5545, 6101, 9620]"
      ]
     },
     "metadata": {},
     "output_type": "display_data"
    },
    {
     "data": {
      "text/plain": [
       "6"
      ]
     },
     "metadata": {},
     "output_type": "display_data"
    },
    {
     "name": "stderr",
     "output_type": "stream",
     "text": [
      "C:\\Users\\Melvin\\Anaconda3\\lib\\site-packages\\ipykernel_launcher.py:35: RuntimeWarning: divide by zero encountered in double_scalars\n"
     ]
    },
    {
     "data": {
      "text/html": [
       "<div>\n",
       "<style scoped>\n",
       "    .dataframe tbody tr th:only-of-type {\n",
       "        vertical-align: middle;\n",
       "    }\n",
       "\n",
       "    .dataframe tbody tr th {\n",
       "        vertical-align: top;\n",
       "    }\n",
       "\n",
       "    .dataframe thead th {\n",
       "        text-align: right;\n",
       "    }\n",
       "</style>\n",
       "<table border=\"1\" class=\"dataframe\">\n",
       "  <thead>\n",
       "    <tr style=\"text-align: right;\">\n",
       "      <th></th>\n",
       "      <th>localminute</th>\n",
       "      <th>marginal_change</th>\n",
       "      <th>cumul_value</th>\n",
       "      <th>meterid</th>\n",
       "    </tr>\n",
       "  </thead>\n",
       "  <tbody>\n",
       "    <tr>\n",
       "      <th>0</th>\n",
       "      <td>2015-10-01 05:00:00</td>\n",
       "      <td>0.0</td>\n",
       "      <td>93470.0</td>\n",
       "      <td>35</td>\n",
       "    </tr>\n",
       "    <tr>\n",
       "      <th>1</th>\n",
       "      <td>2015-10-01 06:00:00</td>\n",
       "      <td>0.0</td>\n",
       "      <td>93470.0</td>\n",
       "      <td>35</td>\n",
       "    </tr>\n",
       "    <tr>\n",
       "      <th>2</th>\n",
       "      <td>2015-10-01 07:00:00</td>\n",
       "      <td>0.0</td>\n",
       "      <td>93470.0</td>\n",
       "      <td>35</td>\n",
       "    </tr>\n",
       "    <tr>\n",
       "      <th>3</th>\n",
       "      <td>2015-10-01 08:00:00</td>\n",
       "      <td>0.0</td>\n",
       "      <td>93470.0</td>\n",
       "      <td>35</td>\n",
       "    </tr>\n",
       "    <tr>\n",
       "      <th>4</th>\n",
       "      <td>2015-10-01 09:00:00</td>\n",
       "      <td>0.0</td>\n",
       "      <td>93470.0</td>\n",
       "      <td>35</td>\n",
       "    </tr>\n",
       "  </tbody>\n",
       "</table>\n",
       "</div>"
      ],
      "text/plain": [
       "          localminute  marginal_change  cumul_value  meterid\n",
       "0 2015-10-01 05:00:00              0.0      93470.0       35\n",
       "1 2015-10-01 06:00:00              0.0      93470.0       35\n",
       "2 2015-10-01 07:00:00              0.0      93470.0       35\n",
       "3 2015-10-01 08:00:00              0.0      93470.0       35\n",
       "4 2015-10-01 09:00:00              0.0      93470.0       35"
      ]
     },
     "metadata": {},
     "output_type": "display_data"
    }
   ],
   "source": [
    "# these meterids were visually inspected to have many suspicious spikes and dips in meter_value.\n",
    "# to_remove = [1185, 1556, 2335, 2449, 3134, 3544, 4447, 4514,\\\n",
    "#              5129, 5403, 6836, 7030, 7117, 8156, 9134, 9639, 9982]\n",
    "\n",
    "to_remove = []\n",
    "\n",
    "low_samplefreq = [1874, 2645, 4671, 5545, 6101, 9620]\n",
    "\n",
    "to_remove.extend(low_samplefreq) \n",
    "\n",
    "display(to_remove, len(to_remove))\n",
    "\n",
    "# final meters to use for analysis\n",
    "to_keep = [elem for elem in keys_list if elem not in to_remove]\n",
    "\n",
    "df_all_cleaned = pd.DataFrame()\n",
    "\n",
    "for meterid in keys_list:\n",
    "    df_i = groups.get_group(meterid)\n",
    "    df_no_mal = remove_mal_data(df_i)\n",
    "    df_no_negative_marginal = remove_negative_marginal(df_no_mal)\n",
    "    df_new = get_rate_of_increase(df_no_negative_marginal)\n",
    "    df_clean = remove_large_increments(df_new)\n",
    "    #df_clean = remove_outliers(df_clean, coeff=1.5)  \n",
    "    # shouldn't do 1.5IQR filtering on 6months; only on 1 month or less, due to seasonalities.\n",
    "    \n",
    "    # resample by hour, reconstruct cumulative values from marginal values\n",
    "    init_cumul_reading = df_clean['meter_value'].iloc[0]\n",
    "    hourly_cumul_readings = [init_cumul_reading]\n",
    "\n",
    "    df_resampled = df_clean['marginal_change'].resample('H').sum().fillna(0).to_frame()\n",
    "\n",
    "    for i in range(1, len(df_resampled.index)):\n",
    "        hourly_cumul_readings.append(hourly_cumul_readings[i-1] + df_resampled['marginal_change'].iloc[i])\n",
    "\n",
    "    df_resampled = df_resampled.assign(cumul_value=hourly_cumul_readings)\n",
    "    \n",
    "    df_final = df_resampled.assign(meterid=[meterid for i in range(len(df_resampled))]) # add meterid column\n",
    "    \n",
    "    df_final = df_final.reset_index()\n",
    "    \n",
    "    df_all_cleaned = df_all_cleaned.append(df_final, ignore_index=True)\n",
    "\n",
    "display(df_all_cleaned.head())"
   ]
  },
  {
   "cell_type": "code",
   "execution_count": 132,
   "metadata": {},
   "outputs": [
    {
     "data": {
      "text/plain": [
       "606293"
      ]
     },
     "metadata": {},
     "output_type": "display_data"
    },
    {
     "data": {
      "text/html": [
       "<div>\n",
       "<style scoped>\n",
       "    .dataframe tbody tr th:only-of-type {\n",
       "        vertical-align: middle;\n",
       "    }\n",
       "\n",
       "    .dataframe tbody tr th {\n",
       "        vertical-align: top;\n",
       "    }\n",
       "\n",
       "    .dataframe thead th {\n",
       "        text-align: right;\n",
       "    }\n",
       "</style>\n",
       "<table border=\"1\" class=\"dataframe\">\n",
       "  <thead>\n",
       "    <tr style=\"text-align: right;\">\n",
       "      <th></th>\n",
       "      <th>localminute</th>\n",
       "      <th>marginal_change</th>\n",
       "      <th>cumul_value</th>\n",
       "      <th>meterid</th>\n",
       "    </tr>\n",
       "  </thead>\n",
       "  <tbody>\n",
       "    <tr>\n",
       "      <th>606288</th>\n",
       "      <td>2016-03-31 12:00:00</td>\n",
       "      <td>0.0</td>\n",
       "      <td>119638.0</td>\n",
       "      <td>9982</td>\n",
       "    </tr>\n",
       "    <tr>\n",
       "      <th>606289</th>\n",
       "      <td>2016-03-31 13:00:00</td>\n",
       "      <td>0.0</td>\n",
       "      <td>119638.0</td>\n",
       "      <td>9982</td>\n",
       "    </tr>\n",
       "    <tr>\n",
       "      <th>606290</th>\n",
       "      <td>2016-03-31 14:00:00</td>\n",
       "      <td>0.0</td>\n",
       "      <td>119638.0</td>\n",
       "      <td>9982</td>\n",
       "    </tr>\n",
       "    <tr>\n",
       "      <th>606291</th>\n",
       "      <td>2016-03-31 15:00:00</td>\n",
       "      <td>0.0</td>\n",
       "      <td>119638.0</td>\n",
       "      <td>9982</td>\n",
       "    </tr>\n",
       "    <tr>\n",
       "      <th>606292</th>\n",
       "      <td>2016-03-31 16:00:00</td>\n",
       "      <td>72.0</td>\n",
       "      <td>119710.0</td>\n",
       "      <td>9982</td>\n",
       "    </tr>\n",
       "  </tbody>\n",
       "</table>\n",
       "</div>"
      ],
      "text/plain": [
       "               localminute  marginal_change  cumul_value  meterid\n",
       "606288 2016-03-31 12:00:00              0.0     119638.0     9982\n",
       "606289 2016-03-31 13:00:00              0.0     119638.0     9982\n",
       "606290 2016-03-31 14:00:00              0.0     119638.0     9982\n",
       "606291 2016-03-31 15:00:00              0.0     119638.0     9982\n",
       "606292 2016-03-31 16:00:00             72.0     119710.0     9982"
      ]
     },
     "metadata": {},
     "output_type": "display_data"
    }
   ],
   "source": [
    "display(len(df_all_cleaned), df_all_cleaned.tail())"
   ]
  },
  {
   "cell_type": "code",
   "execution_count": 133,
   "metadata": {},
   "outputs": [],
   "source": [
    "# step 10. save combined data into a new csv file.\n",
    "df_all_cleaned.to_csv('data/cleaned.csv')"
   ]
  },
  {
   "cell_type": "code",
   "execution_count": null,
   "metadata": {},
   "outputs": [],
   "source": []
  }
 ],
 "metadata": {
  "kernelspec": {
   "display_name": "Python 3",
   "language": "python",
   "name": "python3"
  },
  "language_info": {
   "codemirror_mode": {
    "name": "ipython",
    "version": 3
   },
   "file_extension": ".py",
   "mimetype": "text/x-python",
   "name": "python",
   "nbconvert_exporter": "python",
   "pygments_lexer": "ipython3",
   "version": "3.6.5"
  }
 },
 "nbformat": 4,
 "nbformat_minor": 4
}
