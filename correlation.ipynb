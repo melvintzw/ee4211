{
 "cells": [
  {
   "cell_type": "code",
   "execution_count": 1,
   "metadata": {},
   "outputs": [],
   "source": [
    "import matplotlib.pyplot as plt\n",
    "import numpy as np\n",
    "import pandas as pd\n",
    "import seaborn as sns\n",
    "%matplotlib inline"
   ]
  },
  {
   "cell_type": "code",
   "execution_count": 2,
   "metadata": {},
   "outputs": [
    {
     "data": {
      "text/plain": [
       "1584823"
      ]
     },
     "execution_count": 2,
     "metadata": {},
     "output_type": "execute_result"
    }
   ],
   "source": [
    "df_all = pd.read_csv('dataport-export_gas_oct2015-mar2016.csv')\n",
    "len(df_all)"
   ]
  },
  {
   "cell_type": "code",
   "execution_count": 3,
   "metadata": {},
   "outputs": [],
   "source": [
    "df_all = df_all.set_index(pd.to_datetime(df_all['localminute']))"
   ]
  },
  {
   "cell_type": "code",
   "execution_count": 4,
   "metadata": {},
   "outputs": [],
   "source": [
    "groups = df_all.groupby('dataid')"
   ]
  },
  {
   "cell_type": "code",
   "execution_count": 18,
   "metadata": {},
   "outputs": [
    {
     "name": "stdout",
     "output_type": "stream",
     "text": [
      "[35, 44, 77, 94, 114, 187, 222, 252, 370, 483, 484, 661, 739, 744, 871, 1042, 1086, 1103, 1185, 1283, 1403, 1415, 1507, 1556, 1589, 1619, 1697, 1714, 1718, 1790, 1791, 1792, 1800, 1801, 2018, 2034, 2072, 2094, 2129, 2233, 2335, 2378, 2449, 2461, 2470, 2575, 2638, 2645, 2755, 2814, 2818, 2945, 2946, 2965, 2980, 3036, 3039, 3134, 3310, 3367, 3527, 3544, 3577, 3635, 3723, 3778, 3849, 3893, 3918, 4029, 4031, 4193, 4228, 4296, 4352, 4356, 4373, 4421, 4447, 4514, 4671, 4732, 4767, 4874, 4998, 5129, 5131, 5193, 5275, 5317, 5395, 5403, 5439, 5484, 5545, 5636, 5658, 5785, 5810, 5814, 5892, 5972, 6101, 6412, 6505, 6578, 6673, 6685, 6830, 6836, 6863, 6910, 7016, 7017, 7030, 7117, 7287, 7429, 7460, 7566, 7674, 7682, 7739, 7741, 7794, 7900, 7919, 7965, 7989, 8059, 8084, 8086, 8155, 8156, 8244, 8386, 8467, 8703, 8829, 8890, 8967, 9052, 9121, 9134, 9160, 9278, 9295, 9474, 9600, 9620, 9631, 9639, 9729, 9766, 9849, 9956, 9982]\n",
      "157\n"
     ]
    }
   ],
   "source": [
    "keys = groups.groups.keys()\n",
    "keys_list = list(keys)\n",
    "print(keys_list)\n",
    "print(len(keys_list))"
   ]
  },
  {
   "cell_type": "code",
   "execution_count": 22,
   "metadata": {},
   "outputs": [
    {
     "name": "stdout",
     "output_type": "stream",
     "text": [
      "[4874, 6101, 4671, 9620, 7566, 5545, 2814, 2946, 2755, 9160, 2645, 6685, 1403, 8703, 9600, 3036, 5658]\n",
      "17\n",
      "[2449, 5129, 6836, 9134, 3544, 4514, 1185, 5403, 7117, 8156, 7030, 3134, 1556, 8890, 9982, 4031, 4193, 2335]\n",
      "18\n"
     ]
    }
   ],
   "source": [
    "low_count_list = [4874, 6101, 4671, 9620, 7566, 5545, 2814, 2946, 2755, 9160, 2645, 6685, 1403, 8703, 9600, 3036, 5658]\n",
    "decrease_error_list = [2449, 5129, 6836, 9134, 3544, 4514, 1185, 5403, 7117, 8156, 7030, 3134, 1556, 8890, 9982, 4031, 4193, 2335]\n",
    "print(low_count_list)\n",
    "print(len(low_count_list))\n",
    "print(decrease_error_list)\n",
    "print(len(decrease_error_list))"
   ]
  },
  {
   "cell_type": "code",
   "execution_count": 23,
   "metadata": {},
   "outputs": [
    {
     "name": "stdout",
     "output_type": "stream",
     "text": [
      "[35, 44, 77, 94, 114, 187, 222, 252, 370, 483, 484, 661, 739, 744, 871, 1042, 1086, 1103, 1185, 1283, 1415, 1507, 1556, 1589, 1619, 1697, 1714, 1718, 1790, 1791, 1792, 1800, 1801, 2018, 2034, 2072, 2094, 2129, 2233, 2335, 2378, 2449, 2461, 2470, 2575, 2638, 2818, 2945, 2965, 2980, 3039, 3134, 3310, 3367, 3527, 3544, 3577, 3635, 3723, 3778, 3849, 3893, 3918, 4029, 4031, 4193, 4228, 4296, 4352, 4356, 4373, 4421, 4447, 4514, 4732, 4767, 4998, 5129, 5131, 5193, 5275, 5317, 5395, 5403, 5439, 5484, 5636, 5785, 5810, 5814, 5892, 5972, 6412, 6505, 6578, 6673, 6830, 6836, 6863, 6910, 7016, 7017, 7030, 7117, 7287, 7429, 7460, 7674, 7682, 7739, 7741, 7794, 7900, 7919, 7965, 7989, 8059, 8084, 8086, 8155, 8156, 8244, 8386, 8467, 8829, 8890, 8967, 9052, 9121, 9134, 9278, 9295, 9474, 9631, 9639, 9729, 9766, 9849, 9956, 9982]\n",
      "140\n"
     ]
    }
   ],
   "source": [
    "functioning_keys_list = [elem for elem in keys_list if elem not in low_count_list]\n",
    "print(functioning_keys_list)\n",
    "print(len(functioning_keys_list))"
   ]
  },
  {
   "cell_type": "code",
   "execution_count": 24,
   "metadata": {},
   "outputs": [
    {
     "name": "stdout",
     "output_type": "stream",
     "text": [
      "[35, 44, 77, 94, 114, 187, 222, 252, 370, 483, 484, 661, 739, 744, 871, 1042, 1086, 1103, 1283, 1415, 1507, 1589, 1619, 1697, 1714, 1718, 1790, 1791, 1792, 1800, 1801, 2018, 2034, 2072, 2094, 2129, 2233, 2378, 2461, 2470, 2575, 2638, 2818, 2945, 2965, 2980, 3039, 3310, 3367, 3527, 3577, 3635, 3723, 3778, 3849, 3893, 3918, 4029, 4228, 4296, 4352, 4356, 4373, 4421, 4447, 4732, 4767, 4998, 5131, 5193, 5275, 5317, 5395, 5439, 5484, 5636, 5785, 5810, 5814, 5892, 5972, 6412, 6505, 6578, 6673, 6830, 6863, 6910, 7016, 7017, 7287, 7429, 7460, 7674, 7682, 7739, 7741, 7794, 7900, 7919, 7965, 7989, 8059, 8084, 8086, 8155, 8244, 8386, 8467, 8829, 8967, 9052, 9121, 9278, 9295, 9474, 9631, 9639, 9729, 9766, 9849, 9956]\n",
      "122\n"
     ]
    }
   ],
   "source": [
    "functioning_keys_list = [elem for elem in functioning_keys_list if elem not in decrease_error_list]\n",
    "print(functioning_keys_list)\n",
    "print(len(functioning_keys_list))"
   ]
  },
  {
   "cell_type": "code",
   "execution_count": null,
   "metadata": {},
   "outputs": [],
   "source": []
  }
 ],
 "metadata": {
  "kernelspec": {
   "display_name": "Python 3",
   "language": "python",
   "name": "python3"
  },
  "language_info": {
   "codemirror_mode": {
    "name": "ipython",
    "version": 3
   },
   "file_extension": ".py",
   "mimetype": "text/x-python",
   "name": "python",
   "nbconvert_exporter": "python",
   "pygments_lexer": "ipython3",
   "version": "3.7.3"
  }
 },
 "nbformat": 4,
 "nbformat_minor": 4
}
