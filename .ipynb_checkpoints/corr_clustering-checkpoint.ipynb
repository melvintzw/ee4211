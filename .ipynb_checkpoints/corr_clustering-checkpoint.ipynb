{
 "cells": [
  {
   "cell_type": "markdown",
   "metadata": {},
   "source": [
    "## KMeans clustering on correlations"
   ]
  },
  {
   "cell_type": "code",
   "execution_count": 9,
   "metadata": {},
   "outputs": [],
   "source": [
    "import matplotlib.pyplot as plt\n",
    "import numpy as np\n",
    "import pandas as pd\n",
    "import seaborn as sns\n",
    "\n",
    "from sklearn.cluster import KMeans\n",
    "%matplotlib inline\n",
    "plt.style.use('seaborn')"
   ]
  },
  {
   "cell_type": "code",
   "execution_count": 17,
   "metadata": {},
   "outputs": [],
   "source": [
    "# read saved dataset.\n",
    "def get_monthly_result(month='nov', n_clusters=3):\n",
    "    #month = 'nov'\n",
    "    df_normalized = pd.read_csv(f'data/normalized_{month}.csv')\n",
    "    df_normalized = df_normalized.drop(columns=['Unnamed: 0'])\n",
    "    df_normalized.head()\n",
    "\n",
    "    # get groups and keys on dataset.\n",
    "\n",
    "    new_groups = df_normalized.groupby('meterid')\n",
    "    new_keys = new_groups.groups.keys()  # keys: an iterable of dataids or meter ids\n",
    "\n",
    "    new_id_list = list(new_keys)\n",
    "    display('number of valid meterids:', len(new_id_list))\n",
    "\n",
    "    #  Construct dataframe over which to run correlation analysis.\n",
    "\n",
    "    df_total = pd.DataFrame()\n",
    "    display(df_total)\n",
    "    for key in new_id_list:\n",
    "        df_i = new_groups.get_group(key).rename(columns={'norm_cumul_value': f'{key}'}).reset_index()    \n",
    "        df_total = pd.concat([df_total, df_i[f'{key}']], axis=1)\n",
    "\n",
    "    display(len(df_total))\n",
    "    display(df_total)  # column names are meterids\n",
    "\n",
    "    # get corr matrix\n",
    "\n",
    "    df_total = df_total.fillna(0)\n",
    "    df_corr = df_total.corr()  # get correlations between meterids for the month's cumulative vals.\n",
    "    df_corr = df_corr.fillna(0)\n",
    "    display(df_corr)\n",
    "\n",
    "    # find top n positive correlations per meterid\n",
    "    n = 10\n",
    "    for meterid in new_id_list[1:2]:    \n",
    "        # slice is to show an example.\n",
    "        df_corr_sorted = df_corr[f'{meterid}'].sort_values(ascending=False)\n",
    "        sr_top5 = df_corr_sorted.iloc[1:1+n]\n",
    "        df_top5 = sr_top5.to_frame()\n",
    "        df_top5 = df_top5.rename(columns={f'{meterid}': 'r'})\n",
    "\n",
    "        data = [meterid for i in range(n)]\n",
    "        df_top5 = df_top5.assign(id=data)\n",
    "        display(df_top5)\n",
    "\n",
    "    # clustering\n",
    "\n",
    "    #n_clusters = 4\n",
    "    kmeans = KMeans(n_clusters=n_clusters)\n",
    "    kmeans.fit(df_corr)\n",
    "    labels = kmeans.labels_\n",
    "    print(labels)\n",
    "\n",
    "    origin_date = df_normalized['index'].iloc[0]\n",
    "\n",
    "    for cluster_label in range(n_clusters):\n",
    "        fig, axes = plt.subplots(nrows=1, ncols=1, figsize=(15,3))\n",
    "        axes.set_title(f'cluster {cluster_label}; count: {list(labels).count(cluster_label)}')\n",
    "        axes.set_xlabel(f'hours elapsed since {origin_date}')\n",
    "        axes.set_ylabel(f'cumul value')\n",
    "        i = 0\n",
    "        for key in new_id_list:\n",
    "            if labels[i] == cluster_label:\n",
    "                axes.scatter(df_total.index, df_total[f'{key}'])\n",
    "\n",
    "            i += 1"
   ]
  },
  {
   "cell_type": "code",
   "execution_count": null,
   "metadata": {},
   "outputs": [],
   "source": [
    "months = ['nov', 'dec', 'jan', 'feb', 'mar']\n",
    "n_clusters = 3\n",
    "for month in months:\n",
    "    get_monthly_result(month, n_clusters)"
   ]
  }
 ],
 "metadata": {
  "kernelspec": {
   "display_name": "Python 3",
   "language": "python",
   "name": "python3"
  },
  "language_info": {
   "codemirror_mode": {
    "name": "ipython",
    "version": 3
   },
   "file_extension": ".py",
   "mimetype": "text/x-python",
   "name": "python",
   "nbconvert_exporter": "python",
   "pygments_lexer": "ipython3",
   "version": "3.6.5"
  }
 },
 "nbformat": 4,
 "nbformat_minor": 2
}
