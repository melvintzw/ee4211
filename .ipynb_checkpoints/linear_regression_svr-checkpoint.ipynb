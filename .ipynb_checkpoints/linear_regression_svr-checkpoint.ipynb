{
 "cells": [
  {
   "cell_type": "code",
   "execution_count": 1,
   "metadata": {},
   "outputs": [
    {
     "name": "stdout",
     "output_type": "stream",
     "text": [
      "Pretty printing has been turned OFF\n"
     ]
    }
   ],
   "source": [
    "import matplotlib.pyplot as plt\n",
    "import numpy as np\n",
    "import pandas as pd\n",
    "import seaborn as sns\n",
    "%matplotlib inline\n",
    "%pprint off\n",
    "#plt.style.use('seaborn')"
   ]
  },
  {
   "cell_type": "code",
   "execution_count": 2,
   "metadata": {},
   "outputs": [],
   "source": [
    "sns.set_style(\"ticks\")"
   ]
  },
  {
   "cell_type": "code",
   "execution_count": 3,
   "metadata": {},
   "outputs": [
    {
     "data": {
      "text/plain": [
       "561735"
      ]
     },
     "execution_count": 3,
     "metadata": {},
     "output_type": "execute_result"
    }
   ],
   "source": [
    "df_all = pd.read_csv('data/cleaned.csv')\n",
    "len(df_all)"
   ]
  },
  {
   "cell_type": "code",
   "execution_count": 4,
   "metadata": {},
   "outputs": [],
   "source": [
    "df_all = df_all.set_index(pd.to_datetime(df_all['localminute']))"
   ]
  },
  {
   "cell_type": "code",
   "execution_count": 5,
   "metadata": {},
   "outputs": [
    {
     "data": {
      "text/html": [
       "<div>\n",
       "<style scoped>\n",
       "    .dataframe tbody tr th:only-of-type {\n",
       "        vertical-align: middle;\n",
       "    }\n",
       "\n",
       "    .dataframe tbody tr th {\n",
       "        vertical-align: top;\n",
       "    }\n",
       "\n",
       "    .dataframe thead th {\n",
       "        text-align: right;\n",
       "    }\n",
       "</style>\n",
       "<table border=\"1\" class=\"dataframe\">\n",
       "  <thead>\n",
       "    <tr style=\"text-align: right;\">\n",
       "      <th></th>\n",
       "      <th>marginal_change</th>\n",
       "      <th>cumul_value</th>\n",
       "      <th>meterid</th>\n",
       "    </tr>\n",
       "    <tr>\n",
       "      <th>localminute</th>\n",
       "      <th></th>\n",
       "      <th></th>\n",
       "      <th></th>\n",
       "    </tr>\n",
       "  </thead>\n",
       "  <tbody>\n",
       "    <tr>\n",
       "      <th>2015-10-01 05:00:00</th>\n",
       "      <td>0.0</td>\n",
       "      <td>211656.0</td>\n",
       "      <td>35</td>\n",
       "    </tr>\n",
       "    <tr>\n",
       "      <th>2015-10-01 06:00:00</th>\n",
       "      <td>2.0</td>\n",
       "      <td>211658.0</td>\n",
       "      <td>35</td>\n",
       "    </tr>\n",
       "    <tr>\n",
       "      <th>2015-10-01 07:00:00</th>\n",
       "      <td>0.0</td>\n",
       "      <td>211658.0</td>\n",
       "      <td>35</td>\n",
       "    </tr>\n",
       "    <tr>\n",
       "      <th>2015-10-01 08:00:00</th>\n",
       "      <td>0.0</td>\n",
       "      <td>211658.0</td>\n",
       "      <td>35</td>\n",
       "    </tr>\n",
       "    <tr>\n",
       "      <th>2015-10-01 09:00:00</th>\n",
       "      <td>0.0</td>\n",
       "      <td>211658.0</td>\n",
       "      <td>35</td>\n",
       "    </tr>\n",
       "  </tbody>\n",
       "</table>\n",
       "</div>"
      ],
      "text/plain": [
       "                     marginal_change  cumul_value  meterid\n",
       "localminute                                               \n",
       "2015-10-01 05:00:00              0.0     211656.0       35\n",
       "2015-10-01 06:00:00              2.0     211658.0       35\n",
       "2015-10-01 07:00:00              0.0     211658.0       35\n",
       "2015-10-01 08:00:00              0.0     211658.0       35\n",
       "2015-10-01 09:00:00              0.0     211658.0       35"
      ]
     },
     "metadata": {},
     "output_type": "display_data"
    }
   ],
   "source": [
    "df_all = df_all.drop(columns='localminute')\n",
    "display(df_all.head())"
   ]
  },
  {
   "cell_type": "code",
   "execution_count": 6,
   "metadata": {},
   "outputs": [],
   "source": [
    "groups = df_all.groupby('meterid')\n",
    "keys = groups.groups.keys()  # keys: an iterable of dataids or meter ids"
   ]
  },
  {
   "cell_type": "code",
   "execution_count": 17,
   "metadata": {},
   "outputs": [
    {
     "data": {
      "text/plain": [
       "[35, 44, 77, 94, 114, 187, 222, 252, 370, 483, 484, 661, 739, 744, 871, 1042, 1086, 1103, 1283, 1403, 1415, 1507, 1589, 1619, 1697, 1714, 1718, 1790, 1791, 1792, 1800, 1801, 2018, 2034, 2072, 2094, 2129, 2233, 2378, 2461, 2470, 2575, 2638, 2755, 2814, 2818, 2945, 2946, 2965, 2980, 3036, 3039, 3310, 3367, 3527, 3577, 3635, 3723, 3778, 3849, 3893, 3918, 4029, 4031, 4193, 4228, 4296, 4352, 4356, 4373, 4421, 4732, 4767, 4874, 4998, 5131, 5193, 5275, 5317, 5395, 5439, 5484, 5636, 5658, 5785, 5810, 5814, 5892, 5972, 6412, 6505, 6578, 6673, 6685, 6830, 6863, 6910, 7016, 7017, 7287, 7429, 7460, 7566, 7674, 7682, 7739, 7741, 7794, 7900, 7919, 7965, 7989, 8059, 8084, 8086, 8155, 8244, 8386, 8467, 8703, 8829, 8890, 8967, 9052, 9121, 9160, 9278, 9295, 9474, 9600, 9631, 9729, 9766, 9849, 9956]"
      ]
     },
     "metadata": {},
     "output_type": "display_data"
    },
    {
     "data": {
      "text/plain": [
       "135"
      ]
     },
     "metadata": {},
     "output_type": "display_data"
    }
   ],
   "source": [
    "id_list = list(keys)\n",
    "display(id_list, len(id_list))"
   ]
  },
  {
   "cell_type": "code",
   "execution_count": null,
   "metadata": {},
   "outputs": [],
   "source": [
    "for i in id_list:\n",
    "    df_i = groups.get_group(i)\n",
    "    plt.cla()\n",
    "    df_i['cumul_value'].plot(figsize=(15,4), title=f'meter {i}, {len(df_i)} samples')\n",
    "    plt.show()"
   ]
  },
  {
   "cell_type": "code",
   "execution_count": 19,
   "metadata": {},
   "outputs": [],
   "source": [
    "df_0 = groups.get_group(id_list[0])\n",
    "df_1 = groups.get_group(id_list[1])"
   ]
  },
  {
   "cell_type": "code",
   "execution_count": 21,
   "metadata": {},
   "outputs": [
    {
     "data": {
      "text/plain": [
       "<matplotlib.axes._subplots.AxesSubplot object at 0x000001CE98C96390>"
      ]
     },
     "execution_count": 21,
     "metadata": {},
     "output_type": "execute_result"
    },
    {
     "data": {
      "image/png": "[encoded data removed]",
      "text/plain": [
       "<Figure size 1080x288 with 1 Axes>"
      ]
     },
     "metadata": {},
     "output_type": "display_data"
    }
   ],
   "source": [
    "df_0['cumul_value'].plot(figsize=(15,4), title=f'meter {id_list[0]}, {len(df_0)} samples')"
   ]
  },
  {
   "cell_type": "code",
   "execution_count": 22,
   "metadata": {},
   "outputs": [
    {
     "data": {
      "text/plain": [
       "<matplotlib.axes._subplots.AxesSubplot object at 0x000001CE817B26D8>"
      ]
     },
     "execution_count": 22,
     "metadata": {},
     "output_type": "execute_result"
    },
    {
     "data": {
      "image/png": "[encoded data removed]",
      "text/plain": [
       "<Figure size 1080x288 with 1 Axes>"
      ]
     },
     "metadata": {},
     "output_type": "display_data"
    }
   ],
   "source": [
    "df_1['cumul_value'].plot(figsize=(15,4), title=f'meter {id_list[1]}, {len(df_1)} samples')"
   ]
  },
  {
   "cell_type": "code",
   "execution_count": 23,
   "metadata": {},
   "outputs": [
    {
     "data": {
      "text/html": [
       "<div>\n",
       "<style scoped>\n",
       "    .dataframe tbody tr th:only-of-type {\n",
       "        vertical-align: middle;\n",
       "    }\n",
       "\n",
       "    .dataframe tbody tr th {\n",
       "        vertical-align: top;\n",
       "    }\n",
       "\n",
       "    .dataframe thead th {\n",
       "        text-align: right;\n",
       "    }\n",
       "</style>\n",
       "<table border=\"1\" class=\"dataframe\">\n",
       "  <thead>\n",
       "    <tr style=\"text-align: right;\">\n",
       "      <th></th>\n",
       "      <th>marginal_change</th>\n",
       "      <th>cumul_value</th>\n",
       "      <th>meterid</th>\n",
       "    </tr>\n",
       "    <tr>\n",
       "      <th>localminute</th>\n",
       "      <th></th>\n",
       "      <th></th>\n",
       "      <th></th>\n",
       "    </tr>\n",
       "  </thead>\n",
       "  <tbody>\n",
       "    <tr>\n",
       "      <th>2015-10-01 05:00:00</th>\n",
       "      <td>0.0</td>\n",
       "      <td>211656.0</td>\n",
       "      <td>35</td>\n",
       "    </tr>\n",
       "    <tr>\n",
       "      <th>2015-10-01 06:00:00</th>\n",
       "      <td>2.0</td>\n",
       "      <td>211658.0</td>\n",
       "      <td>35</td>\n",
       "    </tr>\n",
       "    <tr>\n",
       "      <th>2015-10-01 07:00:00</th>\n",
       "      <td>0.0</td>\n",
       "      <td>211658.0</td>\n",
       "      <td>35</td>\n",
       "    </tr>\n",
       "    <tr>\n",
       "      <th>2015-10-01 08:00:00</th>\n",
       "      <td>0.0</td>\n",
       "      <td>211658.0</td>\n",
       "      <td>35</td>\n",
       "    </tr>\n",
       "    <tr>\n",
       "      <th>2015-10-01 09:00:00</th>\n",
       "      <td>0.0</td>\n",
       "      <td>211658.0</td>\n",
       "      <td>35</td>\n",
       "    </tr>\n",
       "  </tbody>\n",
       "</table>\n",
       "</div>"
      ],
      "text/plain": [
       "                     marginal_change  cumul_value  meterid\n",
       "localminute                                               \n",
       "2015-10-01 05:00:00              0.0     211656.0       35\n",
       "2015-10-01 06:00:00              2.0     211658.0       35\n",
       "2015-10-01 07:00:00              0.0     211658.0       35\n",
       "2015-10-01 08:00:00              0.0     211658.0       35\n",
       "2015-10-01 09:00:00              0.0     211658.0       35"
      ]
     },
     "metadata": {},
     "output_type": "display_data"
    },
    {
     "data": {
      "text/html": [
       "<div>\n",
       "<style scoped>\n",
       "    .dataframe tbody tr th:only-of-type {\n",
       "        vertical-align: middle;\n",
       "    }\n",
       "\n",
       "    .dataframe tbody tr th {\n",
       "        vertical-align: top;\n",
       "    }\n",
       "\n",
       "    .dataframe thead th {\n",
       "        text-align: right;\n",
       "    }\n",
       "</style>\n",
       "<table border=\"1\" class=\"dataframe\">\n",
       "  <thead>\n",
       "    <tr style=\"text-align: right;\">\n",
       "      <th></th>\n",
       "      <th>marginal_change</th>\n",
       "      <th>cumul_value</th>\n",
       "      <th>meterid</th>\n",
       "    </tr>\n",
       "    <tr>\n",
       "      <th>localminute</th>\n",
       "      <th></th>\n",
       "      <th></th>\n",
       "      <th></th>\n",
       "    </tr>\n",
       "  </thead>\n",
       "  <tbody>\n",
       "    <tr>\n",
       "      <th>2015-10-01 05:00:00</th>\n",
       "      <td>0.0</td>\n",
       "      <td>211656.0</td>\n",
       "      <td>44</td>\n",
       "    </tr>\n",
       "    <tr>\n",
       "      <th>2015-10-01 06:00:00</th>\n",
       "      <td>2.0</td>\n",
       "      <td>211658.0</td>\n",
       "      <td>44</td>\n",
       "    </tr>\n",
       "    <tr>\n",
       "      <th>2015-10-01 07:00:00</th>\n",
       "      <td>0.0</td>\n",
       "      <td>211658.0</td>\n",
       "      <td>44</td>\n",
       "    </tr>\n",
       "    <tr>\n",
       "      <th>2015-10-01 08:00:00</th>\n",
       "      <td>0.0</td>\n",
       "      <td>211658.0</td>\n",
       "      <td>44</td>\n",
       "    </tr>\n",
       "    <tr>\n",
       "      <th>2015-10-01 09:00:00</th>\n",
       "      <td>0.0</td>\n",
       "      <td>211658.0</td>\n",
       "      <td>44</td>\n",
       "    </tr>\n",
       "  </tbody>\n",
       "</table>\n",
       "</div>"
      ],
      "text/plain": [
       "                     marginal_change  cumul_value  meterid\n",
       "localminute                                               \n",
       "2015-10-01 05:00:00              0.0     211656.0       44\n",
       "2015-10-01 06:00:00              2.0     211658.0       44\n",
       "2015-10-01 07:00:00              0.0     211658.0       44\n",
       "2015-10-01 08:00:00              0.0     211658.0       44\n",
       "2015-10-01 09:00:00              0.0     211658.0       44"
      ]
     },
     "metadata": {},
     "output_type": "display_data"
    }
   ],
   "source": [
    "display(df_0.head(), df_1.head())"
   ]
  },
  {
   "cell_type": "code",
   "execution_count": 24,
   "metadata": {},
   "outputs": [
    {
     "data": {
      "text/html": [
       "<div>\n",
       "<style scoped>\n",
       "    .dataframe tbody tr th:only-of-type {\n",
       "        vertical-align: middle;\n",
       "    }\n",
       "\n",
       "    .dataframe tbody tr th {\n",
       "        vertical-align: top;\n",
       "    }\n",
       "\n",
       "    .dataframe thead th {\n",
       "        text-align: right;\n",
       "    }\n",
       "</style>\n",
       "<table border=\"1\" class=\"dataframe\">\n",
       "  <thead>\n",
       "    <tr style=\"text-align: right;\">\n",
       "      <th></th>\n",
       "      <th>marginal_change</th>\n",
       "      <th>cumul_value</th>\n",
       "      <th>meterid</th>\n",
       "    </tr>\n",
       "    <tr>\n",
       "      <th>localminute</th>\n",
       "      <th></th>\n",
       "      <th></th>\n",
       "      <th></th>\n",
       "    </tr>\n",
       "  </thead>\n",
       "  <tbody>\n",
       "    <tr>\n",
       "      <th>2016-03-22 09:00:00</th>\n",
       "      <td>0.0</td>\n",
       "      <td>242340.0</td>\n",
       "      <td>35</td>\n",
       "    </tr>\n",
       "    <tr>\n",
       "      <th>2016-03-22 10:00:00</th>\n",
       "      <td>0.0</td>\n",
       "      <td>242340.0</td>\n",
       "      <td>35</td>\n",
       "    </tr>\n",
       "    <tr>\n",
       "      <th>2016-03-22 11:00:00</th>\n",
       "      <td>0.0</td>\n",
       "      <td>242340.0</td>\n",
       "      <td>35</td>\n",
       "    </tr>\n",
       "    <tr>\n",
       "      <th>2016-03-22 12:00:00</th>\n",
       "      <td>0.0</td>\n",
       "      <td>242340.0</td>\n",
       "      <td>35</td>\n",
       "    </tr>\n",
       "    <tr>\n",
       "      <th>2016-03-22 13:00:00</th>\n",
       "      <td>10.0</td>\n",
       "      <td>242350.0</td>\n",
       "      <td>35</td>\n",
       "    </tr>\n",
       "  </tbody>\n",
       "</table>\n",
       "</div>"
      ],
      "text/plain": [
       "                     marginal_change  cumul_value  meterid\n",
       "localminute                                               \n",
       "2016-03-22 09:00:00              0.0     242340.0       35\n",
       "2016-03-22 10:00:00              0.0     242340.0       35\n",
       "2016-03-22 11:00:00              0.0     242340.0       35\n",
       "2016-03-22 12:00:00              0.0     242340.0       35\n",
       "2016-03-22 13:00:00             10.0     242350.0       35"
      ]
     },
     "metadata": {},
     "output_type": "display_data"
    },
    {
     "data": {
      "text/html": [
       "<div>\n",
       "<style scoped>\n",
       "    .dataframe tbody tr th:only-of-type {\n",
       "        vertical-align: middle;\n",
       "    }\n",
       "\n",
       "    .dataframe tbody tr th {\n",
       "        vertical-align: top;\n",
       "    }\n",
       "\n",
       "    .dataframe thead th {\n",
       "        text-align: right;\n",
       "    }\n",
       "</style>\n",
       "<table border=\"1\" class=\"dataframe\">\n",
       "  <thead>\n",
       "    <tr style=\"text-align: right;\">\n",
       "      <th></th>\n",
       "      <th>marginal_change</th>\n",
       "      <th>cumul_value</th>\n",
       "      <th>meterid</th>\n",
       "    </tr>\n",
       "    <tr>\n",
       "      <th>localminute</th>\n",
       "      <th></th>\n",
       "      <th></th>\n",
       "      <th></th>\n",
       "    </tr>\n",
       "  </thead>\n",
       "  <tbody>\n",
       "    <tr>\n",
       "      <th>2016-03-22 09:00:00</th>\n",
       "      <td>0.0</td>\n",
       "      <td>242340.0</td>\n",
       "      <td>44</td>\n",
       "    </tr>\n",
       "    <tr>\n",
       "      <th>2016-03-22 10:00:00</th>\n",
       "      <td>0.0</td>\n",
       "      <td>242340.0</td>\n",
       "      <td>44</td>\n",
       "    </tr>\n",
       "    <tr>\n",
       "      <th>2016-03-22 11:00:00</th>\n",
       "      <td>0.0</td>\n",
       "      <td>242340.0</td>\n",
       "      <td>44</td>\n",
       "    </tr>\n",
       "    <tr>\n",
       "      <th>2016-03-22 12:00:00</th>\n",
       "      <td>0.0</td>\n",
       "      <td>242340.0</td>\n",
       "      <td>44</td>\n",
       "    </tr>\n",
       "    <tr>\n",
       "      <th>2016-03-22 13:00:00</th>\n",
       "      <td>10.0</td>\n",
       "      <td>242350.0</td>\n",
       "      <td>44</td>\n",
       "    </tr>\n",
       "  </tbody>\n",
       "</table>\n",
       "</div>"
      ],
      "text/plain": [
       "                     marginal_change  cumul_value  meterid\n",
       "localminute                                               \n",
       "2016-03-22 09:00:00              0.0     242340.0       44\n",
       "2016-03-22 10:00:00              0.0     242340.0       44\n",
       "2016-03-22 11:00:00              0.0     242340.0       44\n",
       "2016-03-22 12:00:00              0.0     242340.0       44\n",
       "2016-03-22 13:00:00             10.0     242350.0       44"
      ]
     },
     "metadata": {},
     "output_type": "display_data"
    }
   ],
   "source": [
    "display(df_0.tail(), df_1.tail())"
   ]
  },
  {
   "cell_type": "code",
   "execution_count": null,
   "metadata": {},
   "outputs": [],
   "source": []
  }
 ],
 "metadata": {
  "kernelspec": {
   "display_name": "Python 3",
   "language": "python",
   "name": "python3"
  },
  "language_info": {
   "codemirror_mode": {
    "name": "ipython",
    "version": 3
   },
   "file_extension": ".py",
   "mimetype": "text/x-python",
   "name": "python",
   "nbconvert_exporter": "python",
   "pygments_lexer": "ipython3",
   "version": "3.6.5"
  }
 },
 "nbformat": 4,
 "nbformat_minor": 2
}
