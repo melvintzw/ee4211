{
 "cells": [
  {
   "cell_type": "code",
   "execution_count": 136,
   "metadata": {},
   "outputs": [
    {
     "name": "stdout",
     "output_type": "stream",
     "text": [
      "Pretty printing has been turned OFF\n"
     ]
    }
   ],
   "source": [
    "import matplotlib.pyplot as plt\n",
    "import numpy as np\n",
    "import pandas as pd\n",
    "import seaborn as sns\n",
    "%matplotlib inline\n",
    "%pprint off\n",
    "plt.style.use('seaborn')"
   ]
  },
  {
   "cell_type": "code",
   "execution_count": 137,
   "metadata": {},
   "outputs": [
    {
     "data": {
      "text/plain": [
       "593956"
      ]
     },
     "execution_count": 137,
     "metadata": {},
     "output_type": "execute_result"
    }
   ],
   "source": [
    "df_all = pd.read_csv('data/cleaned.csv')\n",
    "len(df_all)"
   ]
  },
  {
   "cell_type": "code",
   "execution_count": 138,
   "metadata": {},
   "outputs": [],
   "source": [
    "df_all = df_all.set_index(pd.to_datetime(df_all['localminute']), drop=True)"
   ]
  },
  {
   "cell_type": "code",
   "execution_count": 139,
   "metadata": {},
   "outputs": [],
   "source": [
    "df_all = df_all.drop(columns=['Unnamed: 0', 'localminute'])"
   ]
  },
  {
   "cell_type": "code",
   "execution_count": 140,
   "metadata": {},
   "outputs": [
    {
     "data": {
      "text/html": [
       "<div>\n",
       "<style scoped>\n",
       "    .dataframe tbody tr th:only-of-type {\n",
       "        vertical-align: middle;\n",
       "    }\n",
       "\n",
       "    .dataframe tbody tr th {\n",
       "        vertical-align: top;\n",
       "    }\n",
       "\n",
       "    .dataframe thead th {\n",
       "        text-align: right;\n",
       "    }\n",
       "</style>\n",
       "<table border=\"1\" class=\"dataframe\">\n",
       "  <thead>\n",
       "    <tr style=\"text-align: right;\">\n",
       "      <th></th>\n",
       "      <th>marginal_change</th>\n",
       "      <th>cumul_value</th>\n",
       "      <th>meterid</th>\n",
       "    </tr>\n",
       "    <tr>\n",
       "      <th>localminute</th>\n",
       "      <th></th>\n",
       "      <th></th>\n",
       "      <th></th>\n",
       "    </tr>\n",
       "  </thead>\n",
       "  <tbody>\n",
       "    <tr>\n",
       "      <th>2015-10-01 05:00:00</th>\n",
       "      <td>0.0</td>\n",
       "      <td>93470.0</td>\n",
       "      <td>35</td>\n",
       "    </tr>\n",
       "    <tr>\n",
       "      <th>2015-10-01 06:00:00</th>\n",
       "      <td>0.0</td>\n",
       "      <td>93470.0</td>\n",
       "      <td>35</td>\n",
       "    </tr>\n",
       "    <tr>\n",
       "      <th>2015-10-01 07:00:00</th>\n",
       "      <td>0.0</td>\n",
       "      <td>93470.0</td>\n",
       "      <td>35</td>\n",
       "    </tr>\n",
       "    <tr>\n",
       "      <th>2015-10-01 08:00:00</th>\n",
       "      <td>0.0</td>\n",
       "      <td>93470.0</td>\n",
       "      <td>35</td>\n",
       "    </tr>\n",
       "    <tr>\n",
       "      <th>2015-10-01 09:00:00</th>\n",
       "      <td>0.0</td>\n",
       "      <td>93470.0</td>\n",
       "      <td>35</td>\n",
       "    </tr>\n",
       "  </tbody>\n",
       "</table>\n",
       "</div>"
      ],
      "text/plain": [
       "                     marginal_change  cumul_value  meterid\n",
       "localminute                                               \n",
       "2015-10-01 05:00:00              0.0      93470.0       35\n",
       "2015-10-01 06:00:00              0.0      93470.0       35\n",
       "2015-10-01 07:00:00              0.0      93470.0       35\n",
       "2015-10-01 08:00:00              0.0      93470.0       35\n",
       "2015-10-01 09:00:00              0.0      93470.0       35"
      ]
     },
     "metadata": {},
     "output_type": "display_data"
    },
    {
     "data": {
      "text/plain": [
       "593956"
      ]
     },
     "metadata": {},
     "output_type": "display_data"
    }
   ],
   "source": [
    "display(df_all.head(), len(df_all))"
   ]
  },
  {
   "cell_type": "code",
   "execution_count": 141,
   "metadata": {},
   "outputs": [],
   "source": [
    "groups = df_all.groupby('meterid')\n",
    "keys = groups.groups.keys()  # keys: an iterable of dataids or meter ids"
   ]
  },
  {
   "cell_type": "code",
   "execution_count": 142,
   "metadata": {},
   "outputs": [
    {
     "data": {
      "text/plain": [
       "[35, 44, 77, 94, 114, 187, 222, 252, 370, 483, 484, 661, 739, 744, 871, 1042, 1086, 1103, 1185, 1283, 1403, 1415, 1507, 1556, 1589, 1619, 1697, 1714, 1718, 1790, 1791, 1792, 1800, 1801, 2018, 2034, 2072, 2094, 2129, 2233, 2335, 2378, 2449, 2461, 2470, 2575, 2638, 2755, 2814, 2818, 2945, 2946, 2965, 2980, 3036, 3039, 3134, 3310, 3367, 3527, 3544, 3577, 3635, 3723, 3778, 3849, 3893, 3918, 4029, 4031, 4193, 4228, 4296, 4352, 4356, 4373, 4421, 4447, 4514, 4732, 4767, 4998, 5129, 5131, 5193, 5275, 5317, 5395, 5403, 5439, 5484, 5636, 5658, 5785, 5810, 5814, 5892, 5972, 6412, 6505, 6578, 6673, 6685, 6830, 6836, 6863, 6910, 7016, 7017, 7030, 7117, 7287, 7429, 7460, 7674, 7682, 7739, 7741, 7794, 7900, 7919, 7965, 7989, 8059, 8084, 8086, 8155, 8156, 8244, 8386, 8467, 8703, 8829, 8890, 8967, 9052, 9121, 9134, 9160, 9278, 9295, 9474, 9600, 9631, 9639, 9729, 9766, 9849, 9956, 9982]"
      ]
     },
     "metadata": {},
     "output_type": "display_data"
    },
    {
     "data": {
      "text/plain": [
       "150"
      ]
     },
     "metadata": {},
     "output_type": "display_data"
    }
   ],
   "source": [
    "id_list = list(keys)\n",
    "display(id_list, len(id_list))"
   ]
  },
  {
   "cell_type": "markdown",
   "metadata": {},
   "source": [
    "### Visualize meter data."
   ]
  },
  {
   "cell_type": "code",
   "execution_count": 143,
   "metadata": {
    "scrolled": true
   },
   "outputs": [],
   "source": [
    "# for i in id_list:\n",
    "#     df_i = groups.get_group(i)\n",
    "#     #df_i['cumul_value'].plot(figsize=(15,4), title=f'meter {i}, {len(df_i)} samples')\n",
    "#     plt.cla()\n",
    "#     fig = plt.gcf()\n",
    "#     fig.set_size_inches(15,4)\n",
    "#     plt.title(f'meter {i}, {len(df_i)} samples')\n",
    "#     plt.scatter(x=df_i.index, y=df_i['cumul_value'])\n",
    "#     plt.show()"
   ]
  },
  {
   "cell_type": "markdown",
   "metadata": {},
   "source": [
    "### LINEAR REGRESSION"
   ]
  },
  {
   "cell_type": "code",
   "execution_count": 144,
   "metadata": {},
   "outputs": [],
   "source": [
    "# combine all meterids' data. create new columns for 1 hot encoding indicating which meterid the datapoint belongs to\n",
    "# it is possible to extend this model by using one-hot encoding to indicate a particular cluster of meterids instead. \n",
    "\n",
    "# df_combinedxy = pd.DataFrame()\n",
    "# for meterid in id_list:\n",
    "#     df_i = groups.get_group(meterid)\n",
    "#     df_x = df_i.index.to_series()\n",
    "#     df_y = df_i[f'cumul_value']\n",
    "#     df_xy = pd.concat([df_x, df_y], axis=1, ignore_index=True)\n",
    "#     df_combinedxy = df_combinedxy.append(df_xy, ignore_index=True)\n",
    "# df_combinedxy.columns = ['localminute', 'cumul_value']\n",
    "# display(df_combinedxy.head(), df_combinedxy.describe())\n",
    "\n",
    "# generate new columns for one-hot encoding."
   ]
  },
  {
   "cell_type": "code",
   "execution_count": 145,
   "metadata": {},
   "outputs": [],
   "source": [
    "# NOTE: need to normalize the cumulative values before fitting the model over the values!!"
   ]
  },
  {
   "cell_type": "code",
   "execution_count": 146,
   "metadata": {},
   "outputs": [],
   "source": [
    "from sklearn.linear_model import LinearRegression"
   ]
  },
  {
   "cell_type": "code",
   "execution_count": 147,
   "metadata": {},
   "outputs": [
    {
     "data": {
      "text/plain": [
       "\"\\nsince different households (HH) have different consumption patterns, with some HH's consumption patterns being quite \\ncorrelated with other HHs, it might be good to fit different models for each of these 'clusters'.\\nThat way, we can get higher prediction accuracy for specific HHs in each cluster.\\nCan we clearly identify different clusters from the corr analysis done in Part 1?\\n\""
      ]
     },
     "execution_count": 147,
     "metadata": {},
     "output_type": "execute_result"
    }
   ],
   "source": [
    "# split dataset into train, val, test (how?)\n",
    "# normalize cumul values?\n",
    "# lr_model.fit(x, y)\n",
    "# score on train set\n",
    "# score on test set\n",
    "# plot timeseries of actual value and timeseries of predicted value on same plot\n",
    "# is this for each meter? or how do we generate a set of actual values representing all meters?\n",
    "# plot predicted value vs actual value. plot predicted value = actual value. analyse variance and bias.\n",
    "\n",
    "\"\"\"\n",
    "if predicting an average consumption pattern, then x and y axis must be normalized. \n",
    "maybe normalize each meterid's y data by subtracting all cumul_values by the first cumul_value. \n",
    "the model then predicts the change from the first available datapoint.\n",
    "!UNCLEAR how to normalize x axis. \n",
    "\"\"\"\n",
    "\n",
    "\"\"\"\n",
    "since different households (HH) have different consumption patterns, with some HH's consumption patterns being quite \n",
    "correlated with other HHs, it might be good to fit different models for each of these 'clusters'.\n",
    "That way, we can get higher prediction accuracy for specific HHs in each cluster.\n",
    "Can we clearly identify different clusters from the corr analysis done in Part 1?\n",
    "\"\"\"\n",
    "\n",
    "# repeat above using SVR, tune parameters with validation dataset."
   ]
  },
  {
   "cell_type": "code",
   "execution_count": 148,
   "metadata": {},
   "outputs": [
    {
     "data": {
      "text/html": [
       "<div>\n",
       "<style scoped>\n",
       "    .dataframe tbody tr th:only-of-type {\n",
       "        vertical-align: middle;\n",
       "    }\n",
       "\n",
       "    .dataframe tbody tr th {\n",
       "        vertical-align: top;\n",
       "    }\n",
       "\n",
       "    .dataframe thead th {\n",
       "        text-align: right;\n",
       "    }\n",
       "</style>\n",
       "<table border=\"1\" class=\"dataframe\">\n",
       "  <thead>\n",
       "    <tr style=\"text-align: right;\">\n",
       "      <th></th>\n",
       "      <th>marginal_change</th>\n",
       "      <th>cumul_value</th>\n",
       "      <th>meterid</th>\n",
       "    </tr>\n",
       "    <tr>\n",
       "      <th>localminute</th>\n",
       "      <th></th>\n",
       "      <th></th>\n",
       "      <th></th>\n",
       "    </tr>\n",
       "  </thead>\n",
       "  <tbody>\n",
       "    <tr>\n",
       "      <th>2015-10-12 23:00:00</th>\n",
       "      <td>0.0</td>\n",
       "      <td>165674.0</td>\n",
       "      <td>44</td>\n",
       "    </tr>\n",
       "    <tr>\n",
       "      <th>2015-10-13 00:00:00</th>\n",
       "      <td>0.0</td>\n",
       "      <td>165674.0</td>\n",
       "      <td>44</td>\n",
       "    </tr>\n",
       "    <tr>\n",
       "      <th>2015-10-13 01:00:00</th>\n",
       "      <td>0.0</td>\n",
       "      <td>165674.0</td>\n",
       "      <td>44</td>\n",
       "    </tr>\n",
       "    <tr>\n",
       "      <th>2015-10-13 02:00:00</th>\n",
       "      <td>10.0</td>\n",
       "      <td>165684.0</td>\n",
       "      <td>44</td>\n",
       "    </tr>\n",
       "    <tr>\n",
       "      <th>2015-10-13 03:00:00</th>\n",
       "      <td>0.0</td>\n",
       "      <td>165684.0</td>\n",
       "      <td>44</td>\n",
       "    </tr>\n",
       "  </tbody>\n",
       "</table>\n",
       "</div>"
      ],
      "text/plain": [
       "                     marginal_change  cumul_value  meterid\n",
       "localminute                                               \n",
       "2015-10-12 23:00:00              0.0     165674.0       44\n",
       "2015-10-13 00:00:00              0.0     165674.0       44\n",
       "2015-10-13 01:00:00              0.0     165674.0       44\n",
       "2015-10-13 02:00:00             10.0     165684.0       44\n",
       "2015-10-13 03:00:00              0.0     165684.0       44"
      ]
     },
     "execution_count": 148,
     "metadata": {},
     "output_type": "execute_result"
    }
   ],
   "source": [
    "# Linear Regression model for one meterid.\n",
    "meterid = 44\n",
    "df_i = groups.get_group(meterid)\n",
    "df_i.head()"
   ]
  },
  {
   "cell_type": "code",
   "execution_count": 149,
   "metadata": {},
   "outputs": [],
   "source": [
    "lr_model = LinearRegression()\n",
    "\n",
    "# convert DateTimeIndex to numerical values for regression.\n",
    "# each hour is now denoted by an integer.\n",
    "X = np.arange(start=0, stop=len(df_i.index), step=1).reshape(-1, 1)\n",
    "\n",
    "y = df_i['cumul_value']\n",
    "# should we shift y axis down by first cumul value? more meaningful? can more easily compare across meterids?"
   ]
  },
  {
   "cell_type": "code",
   "execution_count": 150,
   "metadata": {},
   "outputs": [],
   "source": [
    "# split dataset\n",
    "\n",
    "valid_start, test_start = int(len(df_i)*0.7), int(len(df_i)*0.8)\n",
    "x_train, x_valid, x_test = X[:valid_start,:], X[valid_start:test_start,:], X[test_start:,:]\n",
    "y_train, y_valid, y_test = y[:valid_start], y[valid_start:test_start], y[test_start:]"
   ]
  },
  {
   "cell_type": "code",
   "execution_count": 151,
   "metadata": {},
   "outputs": [
    {
     "data": {
      "text/plain": [
       "LinearRegression(copy_X=True, fit_intercept=True, n_jobs=None, normalize=False)"
      ]
     },
     "execution_count": 151,
     "metadata": {},
     "output_type": "execute_result"
    }
   ],
   "source": [
    "lr_model.fit(x_train, y_train)"
   ]
  },
  {
   "cell_type": "code",
   "execution_count": 152,
   "metadata": {},
   "outputs": [],
   "source": [
    "# run predictions and get scores\n",
    "\n",
    "y_train_pred = lr_model.predict(x_train)\n",
    "r2_train = lr_model.score(x_train, y_train)\n",
    "\n",
    "y_valid_pred = lr_model.predict(x_valid)\n",
    "r2_valid = lr_model.score(x_valid, y_valid)\n",
    "\n",
    "y_test_pred = lr_model.predict(x_test)\n",
    "r2_test = lr_model.score(x_test, y_test)"
   ]
  },
  {
   "cell_type": "code",
   "execution_count": 153,
   "metadata": {},
   "outputs": [
    {
     "data": {
      "text/plain": [
       "<matplotlib.legend.Legend object at 0x000001E8EE220438>"
      ]
     },
     "execution_count": 153,
     "metadata": {},
     "output_type": "execute_result"
    },
    {
     "data": {
      "image/png": "[encoded data removed]",
      "text/plain": [
       "<Figure size 576x396 with 1 Axes>"
      ]
     },
     "metadata": {},
     "output_type": "display_data"
    }
   ],
   "source": [
    "# plot results\n",
    "\n",
    "plt.title(f'meterid {meterid}; r2_train: {r2_train:.3f}; r2_val: {r2_valid:.3f}; r2_test: {r2_test:.3f}')\n",
    "plt.xlabel(f'hours elapsed since {df_i.index[0]}') \n",
    "plt.plot(x_train, y_train, label='actual train')\n",
    "plt.plot(x_train, y_train_pred, label='prediction on train')\n",
    "\n",
    "plt.plot(x_valid, y_valid, label='actual val')\n",
    "plt.plot(x_valid, y_valid_pred, label='prediction on val')\n",
    "\n",
    "plt.plot(x_test, y_test, label='actual test')\n",
    "plt.plot(x_test, y_test_pred, label='prediction on test')\n",
    "\n",
    "plt.legend()"
   ]
  },
  {
   "cell_type": "code",
   "execution_count": 159,
   "metadata": {},
   "outputs": [
    {
     "data": {
      "text/plain": [
       "<matplotlib.legend.Legend object at 0x000001E8EC178978>"
      ]
     },
     "execution_count": 159,
     "metadata": {},
     "output_type": "execute_result"
    },
    {
     "data": {
      "image/png": "[encoded data removed]",
      "text/plain": [
       "<Figure size 576x396 with 1 Axes>"
      ]
     },
     "metadata": {},
     "output_type": "display_data"
    }
   ],
   "source": [
    "# plot actual vs predicted value\n",
    "actual = []\n",
    "actual.extend(y_train)\n",
    "actual.extend(y_valid)\n",
    "actual.extend(y_test)\n",
    "len(actual)\n",
    "\n",
    "predicted = []\n",
    "predicted.extend(y_train_pred)\n",
    "predicted.extend(y_valid_pred)\n",
    "predicted.extend(y_test_pred)\n",
    "len(predicted)\n",
    "\n",
    "plt.scatter(actual, predicted, color='magenta', label='predicted vs actual')\n",
    "plt.plot(actual, actual, label='perfect fit')\n",
    "plt.legend()"
   ]
  },
  {
   "cell_type": "code",
   "execution_count": null,
   "metadata": {},
   "outputs": [],
   "source": []
  }
 ],
 "metadata": {
  "kernelspec": {
   "display_name": "Python 3",
   "language": "python",
   "name": "python3"
  },
  "language_info": {
   "codemirror_mode": {
    "name": "ipython",
    "version": 3
   },
   "file_extension": ".py",
   "mimetype": "text/x-python",
   "name": "python",
   "nbconvert_exporter": "python",
   "pygments_lexer": "ipython3",
   "version": "3.6.5"
  }
 },
 "nbformat": 4,
 "nbformat_minor": 2
}
