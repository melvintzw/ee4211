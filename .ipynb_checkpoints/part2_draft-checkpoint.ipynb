{
 "cells": [
  {
   "cell_type": "code",
   "execution_count": 1,
   "metadata": {},
   "outputs": [],
   "source": [
    "import matplotlib.pyplot as plt\n",
    "import numpy as np\n",
    "import pandas as pd\n",
    "import seaborn as sns\n",
    "%matplotlib inline\n",
    "\n",
    "plt.style.use('seaborn')"
   ]
  },
  {
   "cell_type": "markdown",
   "metadata": {},
   "source": [
    "### Extract data and group by meterid."
   ]
  },
  {
   "cell_type": "code",
   "execution_count": 2,
   "metadata": {},
   "outputs": [
    {
     "data": {
      "text/plain": [
       "593956"
      ]
     },
     "execution_count": 2,
     "metadata": {},
     "output_type": "execute_result"
    }
   ],
   "source": [
    "df_all = pd.read_csv('data/cleaned.csv')\n",
    "len(df_all)"
   ]
  },
  {
   "cell_type": "code",
   "execution_count": 3,
   "metadata": {},
   "outputs": [],
   "source": [
    "df_all = df_all.set_index(pd.to_datetime(df_all['localminute']), drop=True)\n",
    "df_all = df_all.drop(columns=['Unnamed: 0', 'localminute'])"
   ]
  },
  {
   "cell_type": "code",
   "execution_count": 4,
   "metadata": {},
   "outputs": [
    {
     "data": {
      "text/html": [
       "<div>\n",
       "<style scoped>\n",
       "    .dataframe tbody tr th:only-of-type {\n",
       "        vertical-align: middle;\n",
       "    }\n",
       "\n",
       "    .dataframe tbody tr th {\n",
       "        vertical-align: top;\n",
       "    }\n",
       "\n",
       "    .dataframe thead th {\n",
       "        text-align: right;\n",
       "    }\n",
       "</style>\n",
       "<table border=\"1\" class=\"dataframe\">\n",
       "  <thead>\n",
       "    <tr style=\"text-align: right;\">\n",
       "      <th></th>\n",
       "      <th>marginal_change</th>\n",
       "      <th>cumul_value</th>\n",
       "      <th>meterid</th>\n",
       "    </tr>\n",
       "    <tr>\n",
       "      <th>localminute</th>\n",
       "      <th></th>\n",
       "      <th></th>\n",
       "      <th></th>\n",
       "    </tr>\n",
       "  </thead>\n",
       "  <tbody>\n",
       "    <tr>\n",
       "      <th>2015-10-01 05:00:00</th>\n",
       "      <td>0.0</td>\n",
       "      <td>93470.0</td>\n",
       "      <td>35</td>\n",
       "    </tr>\n",
       "    <tr>\n",
       "      <th>2015-10-01 06:00:00</th>\n",
       "      <td>0.0</td>\n",
       "      <td>93470.0</td>\n",
       "      <td>35</td>\n",
       "    </tr>\n",
       "    <tr>\n",
       "      <th>2015-10-01 07:00:00</th>\n",
       "      <td>0.0</td>\n",
       "      <td>93470.0</td>\n",
       "      <td>35</td>\n",
       "    </tr>\n",
       "    <tr>\n",
       "      <th>2015-10-01 08:00:00</th>\n",
       "      <td>0.0</td>\n",
       "      <td>93470.0</td>\n",
       "      <td>35</td>\n",
       "    </tr>\n",
       "    <tr>\n",
       "      <th>2015-10-01 09:00:00</th>\n",
       "      <td>0.0</td>\n",
       "      <td>93470.0</td>\n",
       "      <td>35</td>\n",
       "    </tr>\n",
       "  </tbody>\n",
       "</table>\n",
       "</div>"
      ],
      "text/plain": [
       "                     marginal_change  cumul_value  meterid\n",
       "localminute                                               \n",
       "2015-10-01 05:00:00              0.0      93470.0       35\n",
       "2015-10-01 06:00:00              0.0      93470.0       35\n",
       "2015-10-01 07:00:00              0.0      93470.0       35\n",
       "2015-10-01 08:00:00              0.0      93470.0       35\n",
       "2015-10-01 09:00:00              0.0      93470.0       35"
      ]
     },
     "metadata": {},
     "output_type": "display_data"
    },
    {
     "data": {
      "text/plain": [
       "593956"
      ]
     },
     "metadata": {},
     "output_type": "display_data"
    }
   ],
   "source": [
    "display(df_all.head(), len(df_all))"
   ]
  },
  {
   "cell_type": "code",
   "execution_count": 5,
   "metadata": {},
   "outputs": [],
   "source": [
    "groups = df_all.groupby('meterid')\n",
    "keys = groups.groups.keys()  # keys: an iterable of dataids or meter ids"
   ]
  },
  {
   "cell_type": "code",
   "execution_count": 6,
   "metadata": {},
   "outputs": [
    {
     "data": {
      "text/plain": [
       "149"
      ]
     },
     "metadata": {},
     "output_type": "display_data"
    }
   ],
   "source": [
    "id_list = list(keys)\n",
    "id_list.remove(8703)  # meterid 8703 was found to have data for only 2 weeks in Oct.\n",
    "display(len(id_list))"
   ]
  },
  {
   "cell_type": "code",
   "execution_count": 7,
   "metadata": {},
   "outputs": [],
   "source": [
    "def zoom(df, start_date, end_date):\n",
    "    # pre-condition: df is indexed by datetime.\n",
    "    start_date = pd.to_datetime(start_date)\n",
    "    end_date = pd.to_datetime(end_date)\n",
    "    #mask = (df.localminute >= start_date) & (df.localminute <= end_date)\n",
    "\n",
    "    new_df = df.loc[(df.localminute >= start_date) & (df.localminute <= end_date)]\n",
    "    return new_df"
   ]
  },
  {
   "cell_type": "markdown",
   "metadata": {},
   "source": [
    "### Visualize meter data."
   ]
  },
  {
   "cell_type": "code",
   "execution_count": 8,
   "metadata": {
    "scrolled": true
   },
   "outputs": [],
   "source": [
    "# for i in id_list:\n",
    "#     df_i = groups.get_group(i)\n",
    "#     #df_i['cumul_value'].plot(figsize=(15,4), title=f'meter {i}, {len(df_i)} samples')\n",
    "#     plt.cla()\n",
    "#     fig = plt.gcf()\n",
    "#     fig.set_size_inches(15,4)\n",
    "#     plt.title(f'meter {i}, {len(df_i)} samples')\n",
    "#     plt.scatter(x=df_i.index, y=df_i['cumul_value'])\n",
    "#     plt.show()"
   ]
  },
  {
   "cell_type": "markdown",
   "metadata": {},
   "source": [
    "### Specify relevant time period to study/analyse/model."
   ]
  },
  {
   "cell_type": "code",
   "execution_count": 9,
   "metadata": {},
   "outputs": [
    {
     "data": {
      "text/plain": [
       "138"
      ]
     },
     "metadata": {},
     "output_type": "display_data"
    }
   ],
   "source": [
    "# get list of meterids whose first datapoint is at least as early as pre-specified 'origin_date'.\n",
    "# and whose last datapoint is after some specified 'end_date'?\n",
    "# the reason is to get a set of data that can be normalized and then fed as regression input.\n",
    "\n",
    "origin_date = '2015-11-01'\n",
    "end_date = '2015-12-01'\n",
    "\n",
    "valid_list = []\n",
    "for meterid in id_list:\n",
    "    df_i = groups.get_group(meterid)\n",
    "    if df_i.index[0] <= pd.to_datetime(origin_date):\n",
    "        valid_list.append(meterid)\n",
    "\n",
    "display(len(valid_list))"
   ]
  },
  {
   "cell_type": "code",
   "execution_count": 10,
   "metadata": {},
   "outputs": [
    {
     "data": {
      "text/html": [
       "<div>\n",
       "<style scoped>\n",
       "    .dataframe tbody tr th:only-of-type {\n",
       "        vertical-align: middle;\n",
       "    }\n",
       "\n",
       "    .dataframe tbody tr th {\n",
       "        vertical-align: top;\n",
       "    }\n",
       "\n",
       "    .dataframe thead th {\n",
       "        text-align: right;\n",
       "    }\n",
       "</style>\n",
       "<table border=\"1\" class=\"dataframe\">\n",
       "  <thead>\n",
       "    <tr style=\"text-align: right;\">\n",
       "      <th></th>\n",
       "      <th>marginal_change</th>\n",
       "      <th>meterid</th>\n",
       "      <th>norm_cumul_value</th>\n",
       "    </tr>\n",
       "    <tr>\n",
       "      <th>localminute</th>\n",
       "      <th></th>\n",
       "      <th></th>\n",
       "      <th></th>\n",
       "    </tr>\n",
       "  </thead>\n",
       "  <tbody>\n",
       "    <tr>\n",
       "      <th>2015-11-01 00:00:00</th>\n",
       "      <td>4.0</td>\n",
       "      <td>9982</td>\n",
       "      <td>0.0</td>\n",
       "    </tr>\n",
       "    <tr>\n",
       "      <th>2015-11-01 01:00:00</th>\n",
       "      <td>0.0</td>\n",
       "      <td>9982</td>\n",
       "      <td>0.0</td>\n",
       "    </tr>\n",
       "    <tr>\n",
       "      <th>2015-11-01 02:00:00</th>\n",
       "      <td>0.0</td>\n",
       "      <td>9982</td>\n",
       "      <td>0.0</td>\n",
       "    </tr>\n",
       "    <tr>\n",
       "      <th>2015-11-01 03:00:00</th>\n",
       "      <td>0.0</td>\n",
       "      <td>9982</td>\n",
       "      <td>0.0</td>\n",
       "    </tr>\n",
       "    <tr>\n",
       "      <th>2015-11-01 04:00:00</th>\n",
       "      <td>8.0</td>\n",
       "      <td>9982</td>\n",
       "      <td>8.0</td>\n",
       "    </tr>\n",
       "    <tr>\n",
       "      <th>2015-11-01 05:00:00</th>\n",
       "      <td>0.0</td>\n",
       "      <td>9982</td>\n",
       "      <td>8.0</td>\n",
       "    </tr>\n",
       "    <tr>\n",
       "      <th>2015-11-01 06:00:00</th>\n",
       "      <td>0.0</td>\n",
       "      <td>9982</td>\n",
       "      <td>8.0</td>\n",
       "    </tr>\n",
       "    <tr>\n",
       "      <th>2015-11-01 07:00:00</th>\n",
       "      <td>0.0</td>\n",
       "      <td>9982</td>\n",
       "      <td>8.0</td>\n",
       "    </tr>\n",
       "    <tr>\n",
       "      <th>2015-11-01 08:00:00</th>\n",
       "      <td>0.0</td>\n",
       "      <td>9982</td>\n",
       "      <td>8.0</td>\n",
       "    </tr>\n",
       "    <tr>\n",
       "      <th>2015-11-01 09:00:00</th>\n",
       "      <td>0.0</td>\n",
       "      <td>9982</td>\n",
       "      <td>8.0</td>\n",
       "    </tr>\n",
       "  </tbody>\n",
       "</table>\n",
       "</div>"
      ],
      "text/plain": [
       "                     marginal_change  meterid  norm_cumul_value\n",
       "localminute                                                    \n",
       "2015-11-01 00:00:00              4.0     9982               0.0\n",
       "2015-11-01 01:00:00              0.0     9982               0.0\n",
       "2015-11-01 02:00:00              0.0     9982               0.0\n",
       "2015-11-01 03:00:00              0.0     9982               0.0\n",
       "2015-11-01 04:00:00              8.0     9982               8.0\n",
       "2015-11-01 05:00:00              0.0     9982               8.0\n",
       "2015-11-01 06:00:00              0.0     9982               8.0\n",
       "2015-11-01 07:00:00              0.0     9982               8.0\n",
       "2015-11-01 08:00:00              0.0     9982               8.0\n",
       "2015-11-01 09:00:00              0.0     9982               8.0"
      ]
     },
     "metadata": {},
     "output_type": "display_data"
    },
    {
     "data": {
      "text/html": [
       "<div>\n",
       "<style scoped>\n",
       "    .dataframe tbody tr th:only-of-type {\n",
       "        vertical-align: middle;\n",
       "    }\n",
       "\n",
       "    .dataframe tbody tr th {\n",
       "        vertical-align: top;\n",
       "    }\n",
       "\n",
       "    .dataframe thead th {\n",
       "        text-align: right;\n",
       "    }\n",
       "</style>\n",
       "<table border=\"1\" class=\"dataframe\">\n",
       "  <thead>\n",
       "    <tr style=\"text-align: right;\">\n",
       "      <th></th>\n",
       "      <th>marginal_change</th>\n",
       "      <th>meterid</th>\n",
       "      <th>norm_cumul_value</th>\n",
       "    </tr>\n",
       "    <tr>\n",
       "      <th>localminute</th>\n",
       "      <th></th>\n",
       "      <th></th>\n",
       "      <th></th>\n",
       "    </tr>\n",
       "  </thead>\n",
       "  <tbody>\n",
       "    <tr>\n",
       "      <th>2016-03-31 07:00:00</th>\n",
       "      <td>0.0</td>\n",
       "      <td>9982</td>\n",
       "      <td>12574.0</td>\n",
       "    </tr>\n",
       "    <tr>\n",
       "      <th>2016-03-31 08:00:00</th>\n",
       "      <td>0.0</td>\n",
       "      <td>9982</td>\n",
       "      <td>12574.0</td>\n",
       "    </tr>\n",
       "    <tr>\n",
       "      <th>2016-03-31 09:00:00</th>\n",
       "      <td>0.0</td>\n",
       "      <td>9982</td>\n",
       "      <td>12574.0</td>\n",
       "    </tr>\n",
       "    <tr>\n",
       "      <th>2016-03-31 10:00:00</th>\n",
       "      <td>0.0</td>\n",
       "      <td>9982</td>\n",
       "      <td>12574.0</td>\n",
       "    </tr>\n",
       "    <tr>\n",
       "      <th>2016-03-31 11:00:00</th>\n",
       "      <td>0.0</td>\n",
       "      <td>9982</td>\n",
       "      <td>12574.0</td>\n",
       "    </tr>\n",
       "    <tr>\n",
       "      <th>2016-03-31 12:00:00</th>\n",
       "      <td>0.0</td>\n",
       "      <td>9982</td>\n",
       "      <td>12574.0</td>\n",
       "    </tr>\n",
       "    <tr>\n",
       "      <th>2016-03-31 13:00:00</th>\n",
       "      <td>0.0</td>\n",
       "      <td>9982</td>\n",
       "      <td>12574.0</td>\n",
       "    </tr>\n",
       "    <tr>\n",
       "      <th>2016-03-31 14:00:00</th>\n",
       "      <td>0.0</td>\n",
       "      <td>9982</td>\n",
       "      <td>12574.0</td>\n",
       "    </tr>\n",
       "    <tr>\n",
       "      <th>2016-03-31 15:00:00</th>\n",
       "      <td>0.0</td>\n",
       "      <td>9982</td>\n",
       "      <td>12574.0</td>\n",
       "    </tr>\n",
       "    <tr>\n",
       "      <th>2016-03-31 16:00:00</th>\n",
       "      <td>72.0</td>\n",
       "      <td>9982</td>\n",
       "      <td>12646.0</td>\n",
       "    </tr>\n",
       "  </tbody>\n",
       "</table>\n",
       "</div>"
      ],
      "text/plain": [
       "                     marginal_change  meterid  norm_cumul_value\n",
       "localminute                                                    \n",
       "2016-03-31 07:00:00              0.0     9982           12574.0\n",
       "2016-03-31 08:00:00              0.0     9982           12574.0\n",
       "2016-03-31 09:00:00              0.0     9982           12574.0\n",
       "2016-03-31 10:00:00              0.0     9982           12574.0\n",
       "2016-03-31 11:00:00              0.0     9982           12574.0\n",
       "2016-03-31 12:00:00              0.0     9982           12574.0\n",
       "2016-03-31 13:00:00              0.0     9982           12574.0\n",
       "2016-03-31 14:00:00              0.0     9982           12574.0\n",
       "2016-03-31 15:00:00              0.0     9982           12574.0\n",
       "2016-03-31 16:00:00             72.0     9982           12646.0"
      ]
     },
     "metadata": {},
     "output_type": "display_data"
    }
   ],
   "source": [
    "# normalize the cumulative values of a single meterid\n",
    "# this generally must be done before fitting any model with the data.\n",
    "\n",
    "def normalize_cumul(df, start_date):\n",
    "    '''\n",
    "    normalize the cumul values towards a common start_date.\n",
    "    \n",
    "    df: dataframe. dataframe representing one meterid's data. df must have datetimeindex, and 'cumul_value' column\n",
    "    '''\n",
    "    df1 = df.loc[df.index >= pd.to_datetime(start_date)]\n",
    "    const = df1['cumul_value'].iloc[0]  # get first cumul value.\n",
    "    ser_norm = df1['cumul_value'] - const\n",
    "    df_new = df1.assign(norm_cumul_value=ser_norm).drop(columns=['cumul_value'])\n",
    "    \n",
    "    return df_new\n",
    "\n",
    "df_eg = normalize_cumul(df_i, origin_date)\n",
    "display(df_eg.head(10), df_eg.tail(10))"
   ]
  },
  {
   "cell_type": "code",
   "execution_count": 11,
   "metadata": {},
   "outputs": [
    {
     "data": {
      "text/html": [
       "<div>\n",
       "<style scoped>\n",
       "    .dataframe tbody tr th:only-of-type {\n",
       "        vertical-align: middle;\n",
       "    }\n",
       "\n",
       "    .dataframe tbody tr th {\n",
       "        vertical-align: top;\n",
       "    }\n",
       "\n",
       "    .dataframe thead th {\n",
       "        text-align: right;\n",
       "    }\n",
       "</style>\n",
       "<table border=\"1\" class=\"dataframe\">\n",
       "  <thead>\n",
       "    <tr style=\"text-align: right;\">\n",
       "      <th></th>\n",
       "      <th>localminute</th>\n",
       "      <th>marginal_change</th>\n",
       "      <th>meterid</th>\n",
       "      <th>norm_cumul_value</th>\n",
       "    </tr>\n",
       "  </thead>\n",
       "  <tbody>\n",
       "    <tr>\n",
       "      <th>0</th>\n",
       "      <td>2015-11-01 00:00:00</td>\n",
       "      <td>0.0</td>\n",
       "      <td>35</td>\n",
       "      <td>0.0</td>\n",
       "    </tr>\n",
       "    <tr>\n",
       "      <th>1</th>\n",
       "      <td>2015-11-01 01:00:00</td>\n",
       "      <td>12.0</td>\n",
       "      <td>35</td>\n",
       "      <td>12.0</td>\n",
       "    </tr>\n",
       "    <tr>\n",
       "      <th>2</th>\n",
       "      <td>2015-11-01 02:00:00</td>\n",
       "      <td>0.0</td>\n",
       "      <td>35</td>\n",
       "      <td>12.0</td>\n",
       "    </tr>\n",
       "    <tr>\n",
       "      <th>3</th>\n",
       "      <td>2015-11-01 03:00:00</td>\n",
       "      <td>2.0</td>\n",
       "      <td>35</td>\n",
       "      <td>14.0</td>\n",
       "    </tr>\n",
       "    <tr>\n",
       "      <th>4</th>\n",
       "      <td>2015-11-01 04:00:00</td>\n",
       "      <td>0.0</td>\n",
       "      <td>35</td>\n",
       "      <td>14.0</td>\n",
       "    </tr>\n",
       "  </tbody>\n",
       "</table>\n",
       "</div>"
      ],
      "text/plain": [
       "          localminute  marginal_change  meterid  norm_cumul_value\n",
       "0 2015-11-01 00:00:00              0.0       35               0.0\n",
       "1 2015-11-01 01:00:00             12.0       35              12.0\n",
       "2 2015-11-01 02:00:00              0.0       35              12.0\n",
       "3 2015-11-01 03:00:00              2.0       35              14.0\n",
       "4 2015-11-01 04:00:00              0.0       35              14.0"
      ]
     },
     "metadata": {},
     "output_type": "display_data"
    },
    {
     "data": {
      "text/html": [
       "<div>\n",
       "<style scoped>\n",
       "    .dataframe tbody tr th:only-of-type {\n",
       "        vertical-align: middle;\n",
       "    }\n",
       "\n",
       "    .dataframe tbody tr th {\n",
       "        vertical-align: top;\n",
       "    }\n",
       "\n",
       "    .dataframe thead th {\n",
       "        text-align: right;\n",
       "    }\n",
       "</style>\n",
       "<table border=\"1\" class=\"dataframe\">\n",
       "  <thead>\n",
       "    <tr style=\"text-align: right;\">\n",
       "      <th></th>\n",
       "      <th>localminute</th>\n",
       "      <th>marginal_change</th>\n",
       "      <th>meterid</th>\n",
       "      <th>norm_cumul_value</th>\n",
       "    </tr>\n",
       "  </thead>\n",
       "  <tbody>\n",
       "    <tr>\n",
       "      <th>490048</th>\n",
       "      <td>2016-03-31 12:00:00</td>\n",
       "      <td>0.0</td>\n",
       "      <td>9982</td>\n",
       "      <td>12574.0</td>\n",
       "    </tr>\n",
       "    <tr>\n",
       "      <th>490049</th>\n",
       "      <td>2016-03-31 13:00:00</td>\n",
       "      <td>0.0</td>\n",
       "      <td>9982</td>\n",
       "      <td>12574.0</td>\n",
       "    </tr>\n",
       "    <tr>\n",
       "      <th>490050</th>\n",
       "      <td>2016-03-31 14:00:00</td>\n",
       "      <td>0.0</td>\n",
       "      <td>9982</td>\n",
       "      <td>12574.0</td>\n",
       "    </tr>\n",
       "    <tr>\n",
       "      <th>490051</th>\n",
       "      <td>2016-03-31 15:00:00</td>\n",
       "      <td>0.0</td>\n",
       "      <td>9982</td>\n",
       "      <td>12574.0</td>\n",
       "    </tr>\n",
       "    <tr>\n",
       "      <th>490052</th>\n",
       "      <td>2016-03-31 16:00:00</td>\n",
       "      <td>72.0</td>\n",
       "      <td>9982</td>\n",
       "      <td>12646.0</td>\n",
       "    </tr>\n",
       "  </tbody>\n",
       "</table>\n",
       "</div>"
      ],
      "text/plain": [
       "               localminute  marginal_change  meterid  norm_cumul_value\n",
       "490048 2016-03-31 12:00:00              0.0     9982           12574.0\n",
       "490049 2016-03-31 13:00:00              0.0     9982           12574.0\n",
       "490050 2016-03-31 14:00:00              0.0     9982           12574.0\n",
       "490051 2016-03-31 15:00:00              0.0     9982           12574.0\n",
       "490052 2016-03-31 16:00:00             72.0     9982           12646.0"
      ]
     },
     "metadata": {},
     "output_type": "display_data"
    },
    {
     "data": {
      "text/html": [
       "<div>\n",
       "<style scoped>\n",
       "    .dataframe tbody tr th:only-of-type {\n",
       "        vertical-align: middle;\n",
       "    }\n",
       "\n",
       "    .dataframe tbody tr th {\n",
       "        vertical-align: top;\n",
       "    }\n",
       "\n",
       "    .dataframe thead th {\n",
       "        text-align: right;\n",
       "    }\n",
       "</style>\n",
       "<table border=\"1\" class=\"dataframe\">\n",
       "  <thead>\n",
       "    <tr style=\"text-align: right;\">\n",
       "      <th></th>\n",
       "      <th>marginal_change</th>\n",
       "      <th>meterid</th>\n",
       "      <th>norm_cumul_value</th>\n",
       "    </tr>\n",
       "  </thead>\n",
       "  <tbody>\n",
       "    <tr>\n",
       "      <th>count</th>\n",
       "      <td>490053.000000</td>\n",
       "      <td>490053.000000</td>\n",
       "      <td>490053.000000</td>\n",
       "    </tr>\n",
       "    <tr>\n",
       "      <th>mean</th>\n",
       "      <td>5.109978</td>\n",
       "      <td>4633.380975</td>\n",
       "      <td>9437.259582</td>\n",
       "    </tr>\n",
       "    <tr>\n",
       "      <th>std</th>\n",
       "      <td>17.900346</td>\n",
       "      <td>2930.912281</td>\n",
       "      <td>8410.615437</td>\n",
       "    </tr>\n",
       "    <tr>\n",
       "      <th>min</th>\n",
       "      <td>0.000000</td>\n",
       "      <td>35.000000</td>\n",
       "      <td>0.000000</td>\n",
       "    </tr>\n",
       "    <tr>\n",
       "      <th>25%</th>\n",
       "      <td>0.000000</td>\n",
       "      <td>2034.000000</td>\n",
       "      <td>2548.000000</td>\n",
       "    </tr>\n",
       "    <tr>\n",
       "      <th>50%</th>\n",
       "      <td>0.000000</td>\n",
       "      <td>4352.000000</td>\n",
       "      <td>7658.000000</td>\n",
       "    </tr>\n",
       "    <tr>\n",
       "      <th>75%</th>\n",
       "      <td>2.000000</td>\n",
       "      <td>7287.000000</td>\n",
       "      <td>14500.000000</td>\n",
       "    </tr>\n",
       "    <tr>\n",
       "      <th>max</th>\n",
       "      <td>1640.000000</td>\n",
       "      <td>9982.000000</td>\n",
       "      <td>55700.000000</td>\n",
       "    </tr>\n",
       "  </tbody>\n",
       "</table>\n",
       "</div>"
      ],
      "text/plain": [
       "       marginal_change        meterid  norm_cumul_value\n",
       "count    490053.000000  490053.000000     490053.000000\n",
       "mean          5.109978    4633.380975       9437.259582\n",
       "std          17.900346    2930.912281       8410.615437\n",
       "min           0.000000      35.000000          0.000000\n",
       "25%           0.000000    2034.000000       2548.000000\n",
       "50%           0.000000    4352.000000       7658.000000\n",
       "75%           2.000000    7287.000000      14500.000000\n",
       "max        1640.000000    9982.000000      55700.000000"
      ]
     },
     "metadata": {},
     "output_type": "display_data"
    }
   ],
   "source": [
    "# combine all meterids' data.\n",
    "# maybe create new columns for 1 hot encoding indicating which meterid the datapoint belongs to\n",
    "# it is possible to extend this model by using one-hot encoding to indicate a particular cluster of meterids instead. \n",
    "\n",
    "\n",
    "def normalize_and_combine(origin_date, end_date):\n",
    "    '''\n",
    "    finds all meterids that have a datapoint at origin_date and\n",
    "    normalizes all cumulative readings based on that origin_date by\n",
    "    subtracting the first cumul value from all cumul values for each meterid.\n",
    "    effectively setting the first cumul value to 0 at origin_date, and all subsequent\n",
    "    values are based off that.\n",
    "    \n",
    "    '''\n",
    "    valid_list = []\n",
    "    for meterid in id_list:\n",
    "        df_i = groups.get_group(meterid)\n",
    "        if df_i.index[0] <= pd.to_datetime(origin_date) and df_i.index[-1] >= pd.to_datetime(end_date):\n",
    "            valid_list.append(meterid)\n",
    "    \n",
    "    df_combinedxy = pd.DataFrame()\n",
    "    for meterid in valid_list:\n",
    "        df_i = groups.get_group(meterid)\n",
    "        df_i = normalize_cumul(df_i, origin_date)\n",
    "        df_i = df_i.reset_index()\n",
    "        df_combinedxy = df_combinedxy.append(df_i, ignore_index=True)\n",
    "\n",
    "    return df_combinedxy\n",
    "\n",
    "df_normalized = normalize_and_combine(origin_date, end_date)\n",
    "display(df_normalized.head(), df_normalized.tail(), df_normalized.describe())"
   ]
  },
  {
   "cell_type": "code",
   "execution_count": 12,
   "metadata": {},
   "outputs": [
    {
     "data": {
      "text/plain": [
       "array([  0,   0,   0, ..., 137, 137, 137], dtype=int64)"
      ]
     },
     "metadata": {},
     "output_type": "display_data"
    },
    {
     "data": {
      "text/plain": [
       "490053"
      ]
     },
     "metadata": {},
     "output_type": "display_data"
    },
    {
     "data": {
      "text/html": [
       "<div>\n",
       "<style scoped>\n",
       "    .dataframe tbody tr th:only-of-type {\n",
       "        vertical-align: middle;\n",
       "    }\n",
       "\n",
       "    .dataframe tbody tr th {\n",
       "        vertical-align: top;\n",
       "    }\n",
       "\n",
       "    .dataframe thead th {\n",
       "        text-align: right;\n",
       "    }\n",
       "</style>\n",
       "<table border=\"1\" class=\"dataframe\">\n",
       "  <thead>\n",
       "    <tr style=\"text-align: right;\">\n",
       "      <th></th>\n",
       "      <th>localminute</th>\n",
       "      <th>marginal_change</th>\n",
       "      <th>meterid</th>\n",
       "      <th>norm_cumul_value</th>\n",
       "      <th>label</th>\n",
       "    </tr>\n",
       "  </thead>\n",
       "  <tbody>\n",
       "    <tr>\n",
       "      <th>0</th>\n",
       "      <td>2015-11-01 00:00:00</td>\n",
       "      <td>0.0</td>\n",
       "      <td>35</td>\n",
       "      <td>0.0</td>\n",
       "      <td>0</td>\n",
       "    </tr>\n",
       "    <tr>\n",
       "      <th>1</th>\n",
       "      <td>2015-11-01 01:00:00</td>\n",
       "      <td>12.0</td>\n",
       "      <td>35</td>\n",
       "      <td>12.0</td>\n",
       "      <td>0</td>\n",
       "    </tr>\n",
       "    <tr>\n",
       "      <th>2</th>\n",
       "      <td>2015-11-01 02:00:00</td>\n",
       "      <td>0.0</td>\n",
       "      <td>35</td>\n",
       "      <td>12.0</td>\n",
       "      <td>0</td>\n",
       "    </tr>\n",
       "    <tr>\n",
       "      <th>3</th>\n",
       "      <td>2015-11-01 03:00:00</td>\n",
       "      <td>2.0</td>\n",
       "      <td>35</td>\n",
       "      <td>14.0</td>\n",
       "      <td>0</td>\n",
       "    </tr>\n",
       "    <tr>\n",
       "      <th>4</th>\n",
       "      <td>2015-11-01 04:00:00</td>\n",
       "      <td>0.0</td>\n",
       "      <td>35</td>\n",
       "      <td>14.0</td>\n",
       "      <td>0</td>\n",
       "    </tr>\n",
       "  </tbody>\n",
       "</table>\n",
       "</div>"
      ],
      "text/plain": [
       "          localminute  marginal_change  meterid  norm_cumul_value  label\n",
       "0 2015-11-01 00:00:00              0.0       35               0.0      0\n",
       "1 2015-11-01 01:00:00             12.0       35              12.0      0\n",
       "2 2015-11-01 02:00:00              0.0       35              12.0      0\n",
       "3 2015-11-01 03:00:00              2.0       35              14.0      0\n",
       "4 2015-11-01 04:00:00              0.0       35              14.0      0"
      ]
     },
     "execution_count": 12,
     "metadata": {},
     "output_type": "execute_result"
    }
   ],
   "source": [
    "# Label encoding\n",
    "from sklearn.preprocessing import LabelEncoder\n",
    "le = LabelEncoder()\n",
    "labels = le.fit_transform(df_normalized['meterid'])\n",
    "display(labels, len(labels))\n",
    "\n",
    "df_normalized = df_normalized.assign(label=labels)\n",
    "df_normalized.head()"
   ]
  },
  {
   "cell_type": "code",
   "execution_count": 15,
   "metadata": {},
   "outputs": [],
   "source": [
    "from sklearn.linear_model import LinearRegression"
   ]
  },
  {
   "cell_type": "markdown",
   "metadata": {},
   "source": [
    "### Start with demonstrating Linear Regression model for one meterid."
   ]
  },
  {
   "cell_type": "code",
   "execution_count": 16,
   "metadata": {},
   "outputs": [
    {
     "data": {
      "text/html": [
       "<div>\n",
       "<style scoped>\n",
       "    .dataframe tbody tr th:only-of-type {\n",
       "        vertical-align: middle;\n",
       "    }\n",
       "\n",
       "    .dataframe tbody tr th {\n",
       "        vertical-align: top;\n",
       "    }\n",
       "\n",
       "    .dataframe thead th {\n",
       "        text-align: right;\n",
       "    }\n",
       "</style>\n",
       "<table border=\"1\" class=\"dataframe\">\n",
       "  <thead>\n",
       "    <tr style=\"text-align: right;\">\n",
       "      <th></th>\n",
       "      <th>marginal_change</th>\n",
       "      <th>cumul_value</th>\n",
       "      <th>meterid</th>\n",
       "    </tr>\n",
       "    <tr>\n",
       "      <th>localminute</th>\n",
       "      <th></th>\n",
       "      <th></th>\n",
       "      <th></th>\n",
       "    </tr>\n",
       "  </thead>\n",
       "  <tbody>\n",
       "    <tr>\n",
       "      <th>2015-10-01 05:00:00</th>\n",
       "      <td>0.0</td>\n",
       "      <td>93470.0</td>\n",
       "      <td>35</td>\n",
       "    </tr>\n",
       "    <tr>\n",
       "      <th>2015-10-01 06:00:00</th>\n",
       "      <td>0.0</td>\n",
       "      <td>93470.0</td>\n",
       "      <td>35</td>\n",
       "    </tr>\n",
       "    <tr>\n",
       "      <th>2015-10-01 07:00:00</th>\n",
       "      <td>0.0</td>\n",
       "      <td>93470.0</td>\n",
       "      <td>35</td>\n",
       "    </tr>\n",
       "    <tr>\n",
       "      <th>2015-10-01 08:00:00</th>\n",
       "      <td>0.0</td>\n",
       "      <td>93470.0</td>\n",
       "      <td>35</td>\n",
       "    </tr>\n",
       "    <tr>\n",
       "      <th>2015-10-01 09:00:00</th>\n",
       "      <td>0.0</td>\n",
       "      <td>93470.0</td>\n",
       "      <td>35</td>\n",
       "    </tr>\n",
       "  </tbody>\n",
       "</table>\n",
       "</div>"
      ],
      "text/plain": [
       "                     marginal_change  cumul_value  meterid\n",
       "localminute                                               \n",
       "2015-10-01 05:00:00              0.0      93470.0       35\n",
       "2015-10-01 06:00:00              0.0      93470.0       35\n",
       "2015-10-01 07:00:00              0.0      93470.0       35\n",
       "2015-10-01 08:00:00              0.0      93470.0       35\n",
       "2015-10-01 09:00:00              0.0      93470.0       35"
      ]
     },
     "execution_count": 16,
     "metadata": {},
     "output_type": "execute_result"
    }
   ],
   "source": [
    "meterid = 35\n",
    "df_i = groups.get_group(meterid)\n",
    "df_i.head()"
   ]
  },
  {
   "cell_type": "code",
   "execution_count": 17,
   "metadata": {},
   "outputs": [],
   "source": [
    "lr_model = LinearRegression()\n",
    "\n",
    "# convert DateTimeIndex to numerical values for regression.\n",
    "# each hour is now denoted by an integer.\n",
    "X = np.arange(start=0, stop=len(df_i.index), step=1).reshape(-1, 1)\n",
    "\n",
    "y = df_i['cumul_value']"
   ]
  },
  {
   "cell_type": "code",
   "execution_count": 18,
   "metadata": {},
   "outputs": [],
   "source": [
    "# split dataset\n",
    "\n",
    "valid_start, test_start = int(len(df_i)*0.7), int(len(df_i)*0.8)\n",
    "x_train, x_valid, x_test = X[:valid_start,:], X[valid_start:test_start,:], X[test_start:,:]\n",
    "y_train, y_valid, y_test = y[:valid_start], y[valid_start:test_start], y[test_start:]"
   ]
  },
  {
   "cell_type": "code",
   "execution_count": 19,
   "metadata": {},
   "outputs": [
    {
     "data": {
      "text/plain": [
       "LinearRegression(copy_X=True, fit_intercept=True, n_jobs=None, normalize=False)"
      ]
     },
     "execution_count": 19,
     "metadata": {},
     "output_type": "execute_result"
    }
   ],
   "source": [
    "lr_model.fit(x_train, y_train)"
   ]
  },
  {
   "cell_type": "code",
   "execution_count": 20,
   "metadata": {},
   "outputs": [],
   "source": [
    "# run predictions and get scores\n",
    "\n",
    "y_train_pred = lr_model.predict(x_train)\n",
    "r2_train = lr_model.score(x_train, y_train)\n",
    "\n",
    "y_valid_pred = lr_model.predict(x_valid)\n",
    "r2_valid = lr_model.score(x_valid, y_valid)\n",
    "\n",
    "y_test_pred = lr_model.predict(x_test)\n",
    "r2_test = lr_model.score(x_test, y_test)"
   ]
  },
  {
   "cell_type": "code",
   "execution_count": 21,
   "metadata": {},
   "outputs": [
    {
     "data": {
      "text/plain": [
       "<matplotlib.legend.Legend at 0x276f8f62780>"
      ]
     },
     "execution_count": 21,
     "metadata": {},
     "output_type": "execute_result"
    },
    {
     "data": {
      "image/png": "[encoded data removed]",
      "text/plain": [
       "<Figure size 432x288 with 1 Axes>"
      ]
     },
     "metadata": {},
     "output_type": "display_data"
    }
   ],
   "source": [
    "# plot timeseries of predicted and actual values.\n",
    "\n",
    "plt.title(f'meterid {meterid}; r2_train: {r2_train:.3f}; r2_val: {r2_valid:.3f}; r2_test: {r2_test:.3f}')\n",
    "plt.xlabel(f'hours elapsed since {df_i.index[0]}') \n",
    "plt.plot(x_train, y_train, label='actual train')\n",
    "plt.plot(x_train, y_train_pred, label='prediction on train')\n",
    "\n",
    "plt.plot(x_valid, y_valid, label='actual val')\n",
    "plt.plot(x_valid, y_valid_pred, label='prediction on val')\n",
    "\n",
    "plt.plot(x_test, y_test, label='actual test')\n",
    "plt.plot(x_test, y_test_pred, label='prediction on test')\n",
    "\n",
    "plt.legend()"
   ]
  },
  {
   "cell_type": "code",
   "execution_count": 22,
   "metadata": {},
   "outputs": [
    {
     "data": {
      "text/plain": [
       "<matplotlib.legend.Legend at 0x276f90502e8>"
      ]
     },
     "execution_count": 22,
     "metadata": {},
     "output_type": "execute_result"
    },
    {
     "data": {
      "image/png": "[encoded data removed]",
      "text/plain": [
       "<Figure size 432x288 with 1 Axes>"
      ]
     },
     "metadata": {},
     "output_type": "display_data"
    }
   ],
   "source": [
    "# plot actual vs predicted value\n",
    "actual = []\n",
    "actual.extend(y_train)\n",
    "actual.extend(y_valid)\n",
    "actual.extend(y_test)\n",
    "len(actual)\n",
    "\n",
    "predicted = []\n",
    "predicted.extend(y_train_pred)\n",
    "predicted.extend(y_valid_pred)\n",
    "predicted.extend(y_test_pred)\n",
    "len(predicted)\n",
    "\n",
    "plt.scatter(actual, predicted, color='magenta', label='predicted vs actual')\n",
    "plt.plot(actual, actual, label='perfect fit')\n",
    "plt.legend()"
   ]
  },
  {
   "cell_type": "markdown",
   "metadata": {},
   "source": [
    "### Using the above code, write the script for generating results on all relevant meterids\n",
    "#### Must specify timeperiod of interest.\n",
    "#### This cell generates individual linear regression models for each relevant meterid, saves the model to harddrive, records scores and regression coefficients.\n",
    "#### set show_plot to True to print residual plots and prediction error plots."
   ]
  },
  {
   "cell_type": "code",
   "execution_count": 23,
   "metadata": {
    "scrolled": false
   },
   "outputs": [
    {
     "data": {
      "text/html": [
       "<div>\n",
       "<style scoped>\n",
       "    .dataframe tbody tr th:only-of-type {\n",
       "        vertical-align: middle;\n",
       "    }\n",
       "\n",
       "    .dataframe tbody tr th {\n",
       "        vertical-align: top;\n",
       "    }\n",
       "\n",
       "    .dataframe thead th {\n",
       "        text-align: right;\n",
       "    }\n",
       "</style>\n",
       "<table border=\"1\" class=\"dataframe\">\n",
       "  <thead>\n",
       "    <tr style=\"text-align: right;\">\n",
       "      <th></th>\n",
       "      <th>localminute</th>\n",
       "      <th>marginal_change</th>\n",
       "      <th>meterid</th>\n",
       "      <th>norm_cumul_value</th>\n",
       "    </tr>\n",
       "  </thead>\n",
       "  <tbody>\n",
       "    <tr>\n",
       "      <th>0</th>\n",
       "      <td>2015-12-01 00:00:00</td>\n",
       "      <td>0.0</td>\n",
       "      <td>35</td>\n",
       "      <td>0.0</td>\n",
       "    </tr>\n",
       "    <tr>\n",
       "      <th>1</th>\n",
       "      <td>2015-12-01 01:00:00</td>\n",
       "      <td>6.0</td>\n",
       "      <td>35</td>\n",
       "      <td>6.0</td>\n",
       "    </tr>\n",
       "    <tr>\n",
       "      <th>2</th>\n",
       "      <td>2015-12-01 02:00:00</td>\n",
       "      <td>32.0</td>\n",
       "      <td>35</td>\n",
       "      <td>38.0</td>\n",
       "    </tr>\n",
       "    <tr>\n",
       "      <th>3</th>\n",
       "      <td>2015-12-01 03:00:00</td>\n",
       "      <td>0.0</td>\n",
       "      <td>35</td>\n",
       "      <td>38.0</td>\n",
       "    </tr>\n",
       "    <tr>\n",
       "      <th>4</th>\n",
       "      <td>2015-12-01 04:00:00</td>\n",
       "      <td>0.0</td>\n",
       "      <td>35</td>\n",
       "      <td>38.0</td>\n",
       "    </tr>\n",
       "  </tbody>\n",
       "</table>\n",
       "</div>"
      ],
      "text/plain": [
       "          localminute  marginal_change  meterid  norm_cumul_value\n",
       "0 2015-12-01 00:00:00              0.0       35               0.0\n",
       "1 2015-12-01 01:00:00              6.0       35               6.0\n",
       "2 2015-12-01 02:00:00             32.0       35              38.0\n",
       "3 2015-12-01 03:00:00              0.0       35              38.0\n",
       "4 2015-12-01 04:00:00              0.0       35              38.0"
      ]
     },
     "metadata": {},
     "output_type": "display_data"
    },
    {
     "data": {
      "text/html": [
       "<div>\n",
       "<style scoped>\n",
       "    .dataframe tbody tr th:only-of-type {\n",
       "        vertical-align: middle;\n",
       "    }\n",
       "\n",
       "    .dataframe tbody tr th {\n",
       "        vertical-align: top;\n",
       "    }\n",
       "\n",
       "    .dataframe thead th {\n",
       "        text-align: right;\n",
       "    }\n",
       "</style>\n",
       "<table border=\"1\" class=\"dataframe\">\n",
       "  <thead>\n",
       "    <tr style=\"text-align: right;\">\n",
       "      <th></th>\n",
       "      <th>localminute</th>\n",
       "      <th>marginal_change</th>\n",
       "      <th>meterid</th>\n",
       "      <th>norm_cumul_value</th>\n",
       "    </tr>\n",
       "  </thead>\n",
       "  <tbody>\n",
       "    <tr>\n",
       "      <th>392956</th>\n",
       "      <td>2016-03-31 12:00:00</td>\n",
       "      <td>0.0</td>\n",
       "      <td>9982</td>\n",
       "      <td>10730.0</td>\n",
       "    </tr>\n",
       "    <tr>\n",
       "      <th>392957</th>\n",
       "      <td>2016-03-31 13:00:00</td>\n",
       "      <td>0.0</td>\n",
       "      <td>9982</td>\n",
       "      <td>10730.0</td>\n",
       "    </tr>\n",
       "    <tr>\n",
       "      <th>392958</th>\n",
       "      <td>2016-03-31 14:00:00</td>\n",
       "      <td>0.0</td>\n",
       "      <td>9982</td>\n",
       "      <td>10730.0</td>\n",
       "    </tr>\n",
       "    <tr>\n",
       "      <th>392959</th>\n",
       "      <td>2016-03-31 15:00:00</td>\n",
       "      <td>0.0</td>\n",
       "      <td>9982</td>\n",
       "      <td>10730.0</td>\n",
       "    </tr>\n",
       "    <tr>\n",
       "      <th>392960</th>\n",
       "      <td>2016-03-31 16:00:00</td>\n",
       "      <td>72.0</td>\n",
       "      <td>9982</td>\n",
       "      <td>10802.0</td>\n",
       "    </tr>\n",
       "  </tbody>\n",
       "</table>\n",
       "</div>"
      ],
      "text/plain": [
       "               localminute  marginal_change  meterid  norm_cumul_value\n",
       "392956 2016-03-31 12:00:00              0.0     9982           10730.0\n",
       "392957 2016-03-31 13:00:00              0.0     9982           10730.0\n",
       "392958 2016-03-31 14:00:00              0.0     9982           10730.0\n",
       "392959 2016-03-31 15:00:00              0.0     9982           10730.0\n",
       "392960 2016-03-31 16:00:00             72.0     9982           10802.0"
      ]
     },
     "metadata": {},
     "output_type": "display_data"
    },
    {
     "data": {
      "text/html": [
       "<div>\n",
       "<style scoped>\n",
       "    .dataframe tbody tr th:only-of-type {\n",
       "        vertical-align: middle;\n",
       "    }\n",
       "\n",
       "    .dataframe tbody tr th {\n",
       "        vertical-align: top;\n",
       "    }\n",
       "\n",
       "    .dataframe thead th {\n",
       "        text-align: right;\n",
       "    }\n",
       "</style>\n",
       "<table border=\"1\" class=\"dataframe\">\n",
       "  <thead>\n",
       "    <tr style=\"text-align: right;\">\n",
       "      <th></th>\n",
       "      <th>marginal_change</th>\n",
       "      <th>meterid</th>\n",
       "      <th>norm_cumul_value</th>\n",
       "    </tr>\n",
       "  </thead>\n",
       "  <tbody>\n",
       "    <tr>\n",
       "      <th>count</th>\n",
       "      <td>392961.000000</td>\n",
       "      <td>392961.000000</td>\n",
       "      <td>392961.000000</td>\n",
       "    </tr>\n",
       "    <tr>\n",
       "      <th>mean</th>\n",
       "      <td>5.536478</td>\n",
       "      <td>4634.156242</td>\n",
       "      <td>9144.448431</td>\n",
       "    </tr>\n",
       "    <tr>\n",
       "      <th>std</th>\n",
       "      <td>18.731702</td>\n",
       "      <td>2921.372500</td>\n",
       "      <td>7352.521423</td>\n",
       "    </tr>\n",
       "    <tr>\n",
       "      <th>min</th>\n",
       "      <td>0.000000</td>\n",
       "      <td>35.000000</td>\n",
       "      <td>0.000000</td>\n",
       "    </tr>\n",
       "    <tr>\n",
       "      <th>25%</th>\n",
       "      <td>0.000000</td>\n",
       "      <td>2034.000000</td>\n",
       "      <td>2914.000000</td>\n",
       "    </tr>\n",
       "    <tr>\n",
       "      <th>50%</th>\n",
       "      <td>0.000000</td>\n",
       "      <td>4352.000000</td>\n",
       "      <td>8042.000000</td>\n",
       "    </tr>\n",
       "    <tr>\n",
       "      <th>75%</th>\n",
       "      <td>4.000000</td>\n",
       "      <td>7117.000000</td>\n",
       "      <td>13588.000000</td>\n",
       "    </tr>\n",
       "    <tr>\n",
       "      <th>max</th>\n",
       "      <td>1596.000000</td>\n",
       "      <td>9982.000000</td>\n",
       "      <td>45670.000000</td>\n",
       "    </tr>\n",
       "  </tbody>\n",
       "</table>\n",
       "</div>"
      ],
      "text/plain": [
       "       marginal_change        meterid  norm_cumul_value\n",
       "count    392961.000000  392961.000000     392961.000000\n",
       "mean          5.536478    4634.156242       9144.448431\n",
       "std          18.731702    2921.372500       7352.521423\n",
       "min           0.000000      35.000000          0.000000\n",
       "25%           0.000000    2034.000000       2914.000000\n",
       "50%           0.000000    4352.000000       8042.000000\n",
       "75%           4.000000    7117.000000      13588.000000\n",
       "max        1596.000000    9982.000000      45670.000000"
      ]
     },
     "metadata": {},
     "output_type": "display_data"
    },
    {
     "data": {
      "text/html": [
       "<div>\n",
       "<style scoped>\n",
       "    .dataframe tbody tr th:only-of-type {\n",
       "        vertical-align: middle;\n",
       "    }\n",
       "\n",
       "    .dataframe tbody tr th {\n",
       "        vertical-align: top;\n",
       "    }\n",
       "\n",
       "    .dataframe thead th {\n",
       "        text-align: right;\n",
       "    }\n",
       "</style>\n",
       "<table border=\"1\" class=\"dataframe\">\n",
       "  <thead>\n",
       "    <tr style=\"text-align: right;\">\n",
       "      <th></th>\n",
       "      <th>localminute</th>\n",
       "      <th>marginal_change</th>\n",
       "      <th>meterid</th>\n",
       "      <th>norm_cumul_value</th>\n",
       "      <th>label</th>\n",
       "    </tr>\n",
       "  </thead>\n",
       "  <tbody>\n",
       "    <tr>\n",
       "      <th>0</th>\n",
       "      <td>2015-12-01 00:00:00</td>\n",
       "      <td>0.0</td>\n",
       "      <td>35</td>\n",
       "      <td>0.0</td>\n",
       "      <td>0</td>\n",
       "    </tr>\n",
       "    <tr>\n",
       "      <th>1</th>\n",
       "      <td>2015-12-01 01:00:00</td>\n",
       "      <td>6.0</td>\n",
       "      <td>35</td>\n",
       "      <td>6.0</td>\n",
       "      <td>0</td>\n",
       "    </tr>\n",
       "    <tr>\n",
       "      <th>2</th>\n",
       "      <td>2015-12-01 02:00:00</td>\n",
       "      <td>32.0</td>\n",
       "      <td>35</td>\n",
       "      <td>38.0</td>\n",
       "      <td>0</td>\n",
       "    </tr>\n",
       "    <tr>\n",
       "      <th>3</th>\n",
       "      <td>2015-12-01 03:00:00</td>\n",
       "      <td>0.0</td>\n",
       "      <td>35</td>\n",
       "      <td>38.0</td>\n",
       "      <td>0</td>\n",
       "    </tr>\n",
       "    <tr>\n",
       "      <th>4</th>\n",
       "      <td>2015-12-01 04:00:00</td>\n",
       "      <td>0.0</td>\n",
       "      <td>35</td>\n",
       "      <td>38.0</td>\n",
       "      <td>0</td>\n",
       "    </tr>\n",
       "  </tbody>\n",
       "</table>\n",
       "</div>"
      ],
      "text/plain": [
       "          localminute  marginal_change  meterid  norm_cumul_value  label\n",
       "0 2015-12-01 00:00:00              0.0       35               0.0      0\n",
       "1 2015-12-01 01:00:00              6.0       35               6.0      0\n",
       "2 2015-12-01 02:00:00             32.0       35              38.0      0\n",
       "3 2015-12-01 03:00:00              0.0       35              38.0      0\n",
       "4 2015-12-01 04:00:00              0.0       35              38.0      0"
      ]
     },
     "metadata": {},
     "output_type": "display_data"
    },
    {
     "data": {
      "text/plain": [
       "139"
      ]
     },
     "metadata": {},
     "output_type": "display_data"
    }
   ],
   "source": [
    "from joblib import dump, load\n",
    "\n",
    "# Normalize values and obtain new df with relevant meterids.\n",
    "\n",
    "origin_date = '2015-12-01' # starting date to normalize x axis (time in hours) to.\n",
    "end_date = '2016-01-01' # the df must have data until a datetime >= end_date.\n",
    "\n",
    "df_normalized = normalize_and_combine(origin_date, end_date)\n",
    "display(df_normalized.head(), df_normalized.tail(), df_normalized.describe())\n",
    "\n",
    "le = LabelEncoder()\n",
    "labels = le.fit_transform(df_normalized['meterid'])\n",
    "df_normalized = df_normalized.assign(label=labels)\n",
    "display(df_normalized.head())\n",
    "\n",
    "new_groups = df_normalized.groupby('meterid')\n",
    "new_keys = new_groups.groups.keys()  # keys: an iterable of dataids or meter ids\n",
    "\n",
    "new_id_list = list(new_keys)\n",
    "display(len(new_id_list))\n",
    "\n",
    "coeffs = []\n",
    "scores = []\n",
    "show_plot = False\n",
    "\n",
    "for meterid in new_id_list:\n",
    "    df_i = new_groups.get_group(meterid)\n",
    "    \n",
    "    # zoom in on specified time period.\n",
    "    df_i = zoom(df_i, origin_date, end_date)\n",
    "\n",
    "    # convert DateTimeIndex to numerical values (ints) for regression.\n",
    "    X = np.arange(start=0, stop=len(df_i.index), step=1).reshape(-1, 1)\n",
    "    y = df_i['norm_cumul_value']\n",
    "    \n",
    "    # split dataset\n",
    "    valid_start, test_start = int(len(df_i)*0.8), int(len(df_i)*0.9)\n",
    "    x_train, x_valid, x_test = X[:valid_start,:], X[valid_start:test_start,:], X[test_start:,:]\n",
    "    y_train, y_valid, y_test = y[:valid_start], y[valid_start:test_start], y[test_start:]\n",
    "    \n",
    "    # TODO: make below code generalized for reuse with other models.\n",
    "    \n",
    "    lr_model = LinearRegression()\n",
    "    lr_model.fit(x_train, y_train)\n",
    "    dump(lr_model, f'models/lr_{meterid}.joblib') # save model to hard disk.\n",
    "    \n",
    "    # record coefficients\n",
    "    coeffs.append((lr_model.intercept_, lr_model.coef_))\n",
    "    \n",
    "    #run predictions and get scores\n",
    "    y_train_pred = lr_model.predict(x_train)\n",
    "    r2_train = lr_model.score(x_train, y_train)\n",
    "\n",
    "    y_valid_pred = lr_model.predict(x_valid)\n",
    "    r2_valid = lr_model.score(x_valid, y_valid)\n",
    "\n",
    "    y_test_pred = lr_model.predict(x_test)\n",
    "    r2_test = lr_model.score(x_test, y_test)\n",
    "    \n",
    "    # record scores\n",
    "    scores.append((r2_train, r2_valid, r2_test))\n",
    "    \n",
    "    # show residual plots and prediction error plots.\n",
    "    if show_plot: \n",
    "        #TODO: plot both plots side by side.\n",
    "        \n",
    "        # plot line demarcating end of training data.\n",
    "        test_mark = X[valid_start][0]\n",
    "        plt.plot([test_mark, test_mark], [y_train_pred.min(), y_test_pred.max()], 'k-')\n",
    "\n",
    "        # plot trendline and actual line.\n",
    "        plt.title(f'meterid {meterid}; r2_train: {r2_train:.3f}; r2_val: {r2_valid:.3f}; r2_test: {r2_test:.3f}')\n",
    "        plt.xlabel(f'hours elapsed since {df_i.localminute.iloc[0]}') \n",
    "        plt.plot(x_train, y_train, label='actual train')\n",
    "        plt.plot(x_train, y_train_pred, label='prediction on train')\n",
    "\n",
    "        plt.plot(x_valid, y_valid, label='actual val')\n",
    "        plt.plot(x_valid, y_valid_pred, label='prediction on val')\n",
    "\n",
    "        plt.plot(x_test, y_test, label='actual test')\n",
    "        plt.plot(x_test, y_test_pred, label='prediction on test')\n",
    "\n",
    "        plt.legend()\n",
    "        plt.show()\n",
    "        plt.cla()\n",
    "\n",
    "        # plot prediction error plot (actual vs predicted value)\n",
    "        actual = []\n",
    "        actual.extend(y_train)\n",
    "        actual.extend(y_valid)\n",
    "        actual.extend(y_test)\n",
    "        len(actual)\n",
    "\n",
    "        predicted = []\n",
    "        predicted.extend(y_train_pred)\n",
    "        predicted.extend(y_valid_pred)\n",
    "        predicted.extend(y_test_pred)\n",
    "        len(predicted)\n",
    "\n",
    "        plt.scatter(actual, predicted, color='magenta', label='predicted vs actual')\n",
    "        plt.plot(actual, actual, label='perfect fit')\n",
    "        plt.legend()\n",
    "\n",
    "        plt.show()\n",
    "        plt.cla()"
   ]
  },
  {
   "cell_type": "code",
   "execution_count": 24,
   "metadata": {},
   "outputs": [
    {
     "data": {
      "text/html": [
       "<div>\n",
       "<style scoped>\n",
       "    .dataframe tbody tr th:only-of-type {\n",
       "        vertical-align: middle;\n",
       "    }\n",
       "\n",
       "    .dataframe tbody tr th {\n",
       "        vertical-align: top;\n",
       "    }\n",
       "\n",
       "    .dataframe thead th {\n",
       "        text-align: right;\n",
       "    }\n",
       "</style>\n",
       "<table border=\"1\" class=\"dataframe\">\n",
       "  <thead>\n",
       "    <tr style=\"text-align: right;\">\n",
       "      <th></th>\n",
       "      <th>intercept</th>\n",
       "      <th>coeff</th>\n",
       "      <th>r2_train</th>\n",
       "      <th>r2_valid</th>\n",
       "      <th>r2_test</th>\n",
       "    </tr>\n",
       "  </thead>\n",
       "  <tbody>\n",
       "    <tr>\n",
       "      <th>0</th>\n",
       "      <td>120.340360</td>\n",
       "      <td>2.180459</td>\n",
       "      <td>0.981107</td>\n",
       "      <td>-0.110926</td>\n",
       "      <td>-1.561804</td>\n",
       "    </tr>\n",
       "    <tr>\n",
       "      <th>1</th>\n",
       "      <td>114.837172</td>\n",
       "      <td>1.666105</td>\n",
       "      <td>0.880162</td>\n",
       "      <td>-2.001399</td>\n",
       "      <td>-17.071187</td>\n",
       "    </tr>\n",
       "    <tr>\n",
       "      <th>2</th>\n",
       "      <td>-11.890122</td>\n",
       "      <td>1.414678</td>\n",
       "      <td>0.994812</td>\n",
       "      <td>-6.967014</td>\n",
       "      <td>-8.172406</td>\n",
       "    </tr>\n",
       "    <tr>\n",
       "      <th>3</th>\n",
       "      <td>252.291558</td>\n",
       "      <td>6.579021</td>\n",
       "      <td>0.986536</td>\n",
       "      <td>-1.749135</td>\n",
       "      <td>-0.013842</td>\n",
       "    </tr>\n",
       "    <tr>\n",
       "      <th>4</th>\n",
       "      <td>345.870325</td>\n",
       "      <td>3.989055</td>\n",
       "      <td>0.964241</td>\n",
       "      <td>-0.083106</td>\n",
       "      <td>-1.238599</td>\n",
       "    </tr>\n",
       "  </tbody>\n",
       "</table>\n",
       "</div>"
      ],
      "text/plain": [
       "    intercept     coeff  r2_train  r2_valid    r2_test\n",
       "0  120.340360  2.180459  0.981107 -0.110926  -1.561804\n",
       "1  114.837172  1.666105  0.880162 -2.001399 -17.071187\n",
       "2  -11.890122  1.414678  0.994812 -6.967014  -8.172406\n",
       "3  252.291558  6.579021  0.986536 -1.749135  -0.013842\n",
       "4  345.870325  3.989055  0.964241 -0.083106  -1.238599"
      ]
     },
     "metadata": {},
     "output_type": "display_data"
    },
    {
     "data": {
      "text/html": [
       "<div>\n",
       "<style scoped>\n",
       "    .dataframe tbody tr th:only-of-type {\n",
       "        vertical-align: middle;\n",
       "    }\n",
       "\n",
       "    .dataframe tbody tr th {\n",
       "        vertical-align: top;\n",
       "    }\n",
       "\n",
       "    .dataframe thead th {\n",
       "        text-align: right;\n",
       "    }\n",
       "</style>\n",
       "<table border=\"1\" class=\"dataframe\">\n",
       "  <thead>\n",
       "    <tr style=\"text-align: right;\">\n",
       "      <th></th>\n",
       "      <th>intercept</th>\n",
       "      <th>coeff</th>\n",
       "      <th>r2_train</th>\n",
       "      <th>r2_valid</th>\n",
       "      <th>r2_test</th>\n",
       "    </tr>\n",
       "  </thead>\n",
       "  <tbody>\n",
       "    <tr>\n",
       "      <th>count</th>\n",
       "      <td>139.000000</td>\n",
       "      <td>139.000000</td>\n",
       "      <td>139.000000</td>\n",
       "      <td>139.000000</td>\n",
       "      <td>139.000000</td>\n",
       "    </tr>\n",
       "    <tr>\n",
       "      <th>mean</th>\n",
       "      <td>279.692029</td>\n",
       "      <td>4.735004</td>\n",
       "      <td>0.963255</td>\n",
       "      <td>-83.040789</td>\n",
       "      <td>-20.971870</td>\n",
       "    </tr>\n",
       "    <tr>\n",
       "      <th>std</th>\n",
       "      <td>227.349562</td>\n",
       "      <td>2.488599</td>\n",
       "      <td>0.037029</td>\n",
       "      <td>679.084484</td>\n",
       "      <td>130.610131</td>\n",
       "    </tr>\n",
       "    <tr>\n",
       "      <th>min</th>\n",
       "      <td>-509.552595</td>\n",
       "      <td>0.000000</td>\n",
       "      <td>0.678922</td>\n",
       "      <td>-7883.492040</td>\n",
       "      <td>-1452.670895</td>\n",
       "    </tr>\n",
       "    <tr>\n",
       "      <th>25%</th>\n",
       "      <td>182.705120</td>\n",
       "      <td>3.262643</td>\n",
       "      <td>0.957323</td>\n",
       "      <td>-5.071646</td>\n",
       "      <td>-3.408876</td>\n",
       "    </tr>\n",
       "    <tr>\n",
       "      <th>50%</th>\n",
       "      <td>270.031365</td>\n",
       "      <td>4.437084</td>\n",
       "      <td>0.973239</td>\n",
       "      <td>-1.186116</td>\n",
       "      <td>-0.916856</td>\n",
       "    </tr>\n",
       "    <tr>\n",
       "      <th>75%</th>\n",
       "      <td>369.854187</td>\n",
       "      <td>5.910304</td>\n",
       "      <td>0.981372</td>\n",
       "      <td>0.000000</td>\n",
       "      <td>0.009094</td>\n",
       "    </tr>\n",
       "    <tr>\n",
       "      <th>max</th>\n",
       "      <td>1259.687194</td>\n",
       "      <td>16.398622</td>\n",
       "      <td>1.000000</td>\n",
       "      <td>1.000000</td>\n",
       "      <td>1.000000</td>\n",
       "    </tr>\n",
       "  </tbody>\n",
       "</table>\n",
       "</div>"
      ],
      "text/plain": [
       "         intercept       coeff    r2_train     r2_valid      r2_test\n",
       "count   139.000000  139.000000  139.000000   139.000000   139.000000\n",
       "mean    279.692029    4.735004    0.963255   -83.040789   -20.971870\n",
       "std     227.349562    2.488599    0.037029   679.084484   130.610131\n",
       "min    -509.552595    0.000000    0.678922 -7883.492040 -1452.670895\n",
       "25%     182.705120    3.262643    0.957323    -5.071646    -3.408876\n",
       "50%     270.031365    4.437084    0.973239    -1.186116    -0.916856\n",
       "75%     369.854187    5.910304    0.981372     0.000000     0.009094\n",
       "max    1259.687194   16.398622    1.000000     1.000000     1.000000"
      ]
     },
     "metadata": {},
     "output_type": "display_data"
    }
   ],
   "source": [
    "# put coefficients and scores of each linear regression into a df.\n",
    "\n",
    "list1 = [coeffs[i][0] for i in range(len(coeffs))]\n",
    "list2 = [coeffs[i][1][0] for i in range(len(coeffs))]\n",
    "list3 = [scores[i][0] for i in range(len(scores))]\n",
    "list4 = [scores[i][1] for i in range(len(scores))]\n",
    "list5 = [scores[i][2] for i in range(len(scores))]\n",
    "\n",
    "df_regresults = pd.DataFrame()\n",
    "df_regresults = df_regresults.assign(intercept=list1,\\\n",
    "                                     coeff=list2,\\\n",
    "                                     r2_train=list3,\\\n",
    "                                     r2_valid=list4,\\\n",
    "                                     r2_test=list5)\n",
    "\n",
    "display(df_regresults.head(), df_regresults.describe())"
   ]
  },
  {
   "cell_type": "markdown",
   "metadata": {},
   "source": [
    "### Use one meterid's data to experiment w other models. Split dataset for training and testing."
   ]
  },
  {
   "cell_type": "code",
   "execution_count": 37,
   "metadata": {},
   "outputs": [],
   "source": [
    "def split_data(origin_date, end_date, meterid=35, train_size=0.8, valid_size=0.1):\n",
    "    \n",
    "    df_i = new_groups.get_group(meterid)\n",
    "\n",
    "    # zoom in on specified time period.\n",
    "    df_i = zoom(df_i, origin_date, end_date)\n",
    "\n",
    "    # convert DateTimeIndex to numerical values (ints) for regression.\n",
    "    X = np.arange(start=0, stop=len(df_i.index), step=1).reshape(-1, 1)\n",
    "    y = df_i['norm_cumul_value'].to_numpy().astype('int')\n",
    "\n",
    "    # split dataset\n",
    "    valid_start, test_start = int(len(df_i)*train_size), int(len(df_i)*(train_size+valid_size))\n",
    "    x_train, x_valid, x_test = X[:valid_start,:], X[valid_start:test_start,:], X[test_start:,:]\n",
    "    y_train, y_valid, y_test = y[:valid_start], y[valid_start:test_start], y[test_start:]\n",
    "    return X, x_train, x_valid, x_test, y, y_train, y_valid, y_test"
   ]
  },
  {
   "cell_type": "code",
   "execution_count": 38,
   "metadata": {},
   "outputs": [],
   "source": [
    "X, x_train, x_valid, x_test, y, y_train, y_valid, y_test = split_data(meterid=35)"
   ]
  },
  {
   "cell_type": "markdown",
   "metadata": {},
   "source": [
    "### Walk-forward Validation"
   ]
  },
  {
   "cell_type": "code",
   "execution_count": 39,
   "metadata": {},
   "outputs": [],
   "source": [
    "#TODO: do Walk Forward Validation."
   ]
  },
  {
   "cell_type": "code",
   "execution_count": 40,
   "metadata": {},
   "outputs": [],
   "source": [
    "# # expanding window walk forward validation:\n",
    "# initial_size = 500\n",
    "# for i in range(initial_size, len(X)):\n",
    "#     train, test = X[0:i], X[i:i+1]\n",
    "#     # train model, predict next timestep, record prediction \n",
    "\n",
    "# rolling window walk forward validation:\n",
    "def rolling_walk_forward_val(X, y, window_size=250):\n",
    "    #window_size = 250\n",
    "    predictions = []\n",
    "    for i in range(0, len(X) - window_size):\n",
    "        train_x, test_x = X[i:i+window_size], X[i+window_size:i+window_size+1]\n",
    "        train_y, test_y = y[i:i+window_size], y[i+window_size:i+window_size+1]\n",
    "        # train model, predict next timestep, record prediction\n",
    "        model = LinearRegression()\n",
    "        model.fit(train_x, train_y)\n",
    "        pred = model.predict(test_x)[0]\n",
    "        predictions.append(pred)\n",
    "\n",
    "    predictions_arr = np.asarray(predictions)\n",
    "\n",
    "    # overall evaluation of model performance:\n",
    "    # 1. correlation analysis. does forecast correlate w actual?\n",
    "    # 2. RMSE. compare RMSE for meterid a against meterid b?\n",
    "    # 3. plot residual and prediction error and observe.\n",
    "    # is there some way to determine what a good/bad RMSE value is?\n",
    "\n",
    "    # print(predictions)\n",
    "\n",
    "    plt.cla()\n",
    "    plt.plot(X[window_size:], y[window_size:], label='actual')\n",
    "    plt.plot(X[window_size:], predictions_arr, label='predicted')\n",
    "    plt.title(f'next hour forecast for meterid {meterid}')\n",
    "    plt.xlabel(f'hours elapsed since {df_i.localminute.iloc[0]}') \n",
    "    plt.legend()\n",
    "    plt.show()"
   ]
  },
  {
   "cell_type": "code",
   "execution_count": 41,
   "metadata": {},
   "outputs": [
    {
     "data": {
      "image/png": "[encoded data removed]",
      "text/plain": [
       "<Figure size 432x288 with 1 Axes>"
      ]
     },
     "metadata": {},
     "output_type": "display_data"
    }
   ],
   "source": [
    "rolling_walk_forward_val(X, y, window_size=250)"
   ]
  },
  {
   "cell_type": "code",
   "execution_count": 43,
   "metadata": {
    "scrolled": false
   },
   "outputs": [
    {
     "data": {
      "image/png": "[encoded data removed]",
      "text/plain": [
       "<Figure size 432x288 with 1 Axes>"
      ]
     },
     "metadata": {},
     "output_type": "display_data"
    },
    {
     "data": {
      "image/png": "[encoded data removed]",
      "text/plain": [
       "<Figure size 432x288 with 1 Axes>"
      ]
     },
     "metadata": {},
     "output_type": "display_data"
    },
    {
     "data": {
      "image/png": "[encoded data removed]",
      "text/plain": [
       "<Figure size 432x288 with 1 Axes>"
      ]
     },
     "metadata": {},
     "output_type": "display_data"
    },
    {
     "data": {
      "image/png": "[encoded data removed]",
      "text/plain": [
       "<Figure size 432x288 with 1 Axes>"
      ]
     },
     "metadata": {},
     "output_type": "display_data"
    },
    {
     "data": {
      "image/png": "[encoded data removed]",
      "text/plain": [
       "<Figure size 432x288 with 1 Axes>"
      ]
     },
     "metadata": {},
     "output_type": "display_data"
    },
    {
     "data": {
      "image/png": "[encoded data removed]",
      "text/plain": [
       "<Figure size 432x288 with 1 Axes>"
      ]
     },
     "metadata": {},
     "output_type": "display_data"
    },
    {
     "data": {
      "image/png": "[encoded data removed]",
      "text/plain": [
       "<Figure size 432x288 with 1 Axes>"
      ]
     },
     "metadata": {},
     "output_type": "display_data"
    },
    {
     "data": {
      "image/png": "[encoded data removed]",
      "text/plain": [
       "<Figure size 432x288 with 1 Axes>"
      ]
     },
     "metadata": {},
     "output_type": "display_data"
    },
    {
     "data": {
      "image/png": "[encoded data removed]",
      "text/plain": [
       "<Figure size 432x288 with 1 Axes>"
      ]
     },
     "metadata": {},
     "output_type": "display_data"
    },
    {
     "data": {
      "image/png": "[encoded data removed]",
      "text/plain": [
       "<Figure size 432x288 with 1 Axes>"
      ]
     },
     "metadata": {},
     "output_type": "display_data"
    }
   ],
   "source": [
    "for meterid in new_id_list[0:10]:\n",
    "    X, x_train, x_valid, x_test, y, y_train, y_valid, y_test = split_data(meterid=meterid)\n",
    "    rolling_walk_forward_val(X, y, window_size=250)"
   ]
  },
  {
   "cell_type": "markdown",
   "metadata": {},
   "source": [
    "## SVR"
   ]
  },
  {
   "cell_type": "code",
   "execution_count": 48,
   "metadata": {},
   "outputs": [],
   "source": [
    "from sklearn.svm import SVR\n",
    "model = SVR(kernel='poly', degree=3, C=1e-3, gamma='auto', epsilon=.1)\n",
    "\n",
    "meterid = 35\n",
    "X, x_train, x_valid, x_test, y, y_train, y_valid, y_test = split_data(meterid=meterid)\n",
    "scores = []"
   ]
  },
  {
   "cell_type": "code",
   "execution_count": 49,
   "metadata": {
    "scrolled": true
   },
   "outputs": [],
   "source": [
    "model.fit(X=x_train, y=y_train)\n",
    "dump(model, f'models/svr/svr_{meterid}.joblib') # save model to hard disk.\n",
    "\n",
    "# record coefficients\n",
    "#coeffs.append((model.intercept_, model.coef_))\n",
    "\n",
    "#run predictions and get scores\n",
    "y_train_pred = model.predict(x_train)\n",
    "r2_train = model.score(x_train, y_train)\n",
    "\n",
    "y_valid_pred = model.predict(x_valid)\n",
    "r2_valid = model.score(x_valid, y_valid)\n",
    "\n",
    "y_test_pred = model.predict(x_test)\n",
    "r2_test = model.score(x_test, y_test)\n",
    "\n",
    "# record scores\n",
    "scores.append((r2_train, r2_valid, r2_test))"
   ]
  },
  {
   "cell_type": "code",
   "execution_count": 46,
   "metadata": {},
   "outputs": [],
   "source": [
    "show_plot = True"
   ]
  },
  {
   "cell_type": "code",
   "execution_count": 47,
   "metadata": {},
   "outputs": [
    {
     "data": {
      "image/png": "[encoded data removed]",
      "text/plain": [
       "<Figure size 432x288 with 1 Axes>"
      ]
     },
     "metadata": {},
     "output_type": "display_data"
    },
    {
     "data": {
      "image/png": "[encoded data removed]",
      "text/plain": [
       "<Figure size 432x288 with 1 Axes>"
      ]
     },
     "metadata": {},
     "output_type": "display_data"
    },
    {
     "data": {
      "image/png": "[encoded data removed]",
      "text/plain": [
       "<Figure size 432x288 with 1 Axes>"
      ]
     },
     "metadata": {},
     "output_type": "display_data"
    }
   ],
   "source": [
    "# show residual plots and prediction error plots.\n",
    "if show_plot: \n",
    "    # plot line demarcating end of training data.\n",
    "    test_mark = X[valid_start][0]\n",
    "    plt.plot([test_mark, test_mark], [y_train_pred.min(), y_test_pred.max()], 'k-')\n",
    "\n",
    "    # plot trendline and actual line.\n",
    "    plt.title(f'meterid {meterid}; r2_train: {r2_train:.3f}; r2_val: {r2_valid:.3f}; r2_test: {r2_test:.3f}')\n",
    "    plt.xlabel(f'hours elapsed since {df_i.localminute.iloc[0]}') \n",
    "    plt.plot(x_train, y_train, label='actual train')\n",
    "    plt.plot(x_train, y_train_pred, label='prediction on train')\n",
    "\n",
    "    plt.plot(x_valid, y_valid, label='actual val')\n",
    "    plt.plot(x_valid, y_valid_pred, label='prediction on val')\n",
    "\n",
    "    plt.plot(x_test, y_test, label='actual test')\n",
    "    plt.plot(x_test, y_test_pred, label='prediction on test')\n",
    "\n",
    "    plt.legend()\n",
    "    plt.show()\n",
    "    plt.cla()\n",
    "\n",
    "    # plot prediction error plot (actual vs predicted value)\n",
    "    actual = []\n",
    "    actual.extend(y_train)\n",
    "    actual.extend(y_valid)\n",
    "    actual.extend(y_test)\n",
    "    len(actual)\n",
    "\n",
    "    predicted = []\n",
    "    predicted.extend(y_train_pred)\n",
    "    predicted.extend(y_valid_pred)\n",
    "    predicted.extend(y_test_pred)\n",
    "    len(predicted)\n",
    "\n",
    "    plt.scatter(actual, predicted, color='magenta', label='predicted vs actual')\n",
    "    plt.plot(actual, actual, label='perfect fit')\n",
    "    plt.legend()\n",
    "\n",
    "    plt.show()\n",
    "    plt.cla()"
   ]
  },
  {
   "cell_type": "code",
   "execution_count": null,
   "metadata": {},
   "outputs": [],
   "source": [
    "#TODO: iterate SVR modelling and analysis for all valid meterids"
   ]
  },
  {
   "cell_type": "markdown",
   "metadata": {},
   "source": [
    "### LASSO"
   ]
  },
  {
   "cell_type": "code",
   "execution_count": null,
   "metadata": {},
   "outputs": [],
   "source": [
    "from sklearn.linear_model import Lasso\n",
    "from sklearn.metrics import mean_squared_error\n",
    "\n",
    "## Iterating through the different polynomial degrees\n",
    "## Trend is that after degree 3, MSE seems constant.\n",
    "mse_list = []\n",
    "for deg in range(1,20):\n",
    "    ls = Lasso(alpha=0.005, max_iter = 10000000, tol = 0.008)\n",
    "    ls.fit(np.vander(x_train.flatten(), deg), y_train)\n",
    "    y_train_pred = ls.predict(np.vander(x_train.flatten(), deg))\n",
    "    mse_list.append(mean_squared_error(y_train, y_train_pred))\n",
    "    \n",
    "print(mse_list)\n",
    "fig, ax = plt.subplots(1, 1, figsize=(6, 3)) # plot settings\n",
    "ax.plot(range(1,20),mse_list)\n",
    "plt.title('Model Performance: Mean Squared Error against Polynomial Degree')\n",
    "ax.set_xlim(0,20)"
   ]
  },
  {
   "cell_type": "code",
   "execution_count": null,
   "metadata": {},
   "outputs": [],
   "source": [
    "# Create the Model\n",
    "model = Lasso(alpha=1e-4, max_iter = 1e6, tol = 0.0040)\n",
    "deg = 3  # chosen from graph in previous cell.\n",
    "\n",
    "# Train the model on our training dataset\n",
    "model.fit(np.vander(x_train.flatten(), deg), y_train)\n",
    "dump(model, f'models/svr/svr_{meterid}.joblib') # save model to hard disk.\n",
    "\n",
    "# record coefficients\n",
    "#coeffs.append((model.intercept_, model.coef_))\n",
    "\n",
    "#run predictions and get scores\n",
    "y_train_pred = model.predict(np.vander(x_train.flatten(), deg))\n",
    "r2_train = model.score(np.vander(x_train.flatten(), deg), y_train)\n",
    "\n",
    "y_valid_pred = model.predict(np.vander(x_valid.flatten(), deg))\n",
    "r2_valid = model.score(np.vander(x_valid.flatten(), deg), y_valid)\n",
    "\n",
    "y_test_pred = model.predict(np.vander(x_test.flatten(), deg))\n",
    "r2_test = model.score(np.vander(x_test.flatten(), deg), y_test)\n",
    "\n",
    "# record scores\n",
    "scores.append((r2_train, r2_valid, r2_test))\n",
    "\n",
    "if show_plot: \n",
    "    # plot line demarcating end of training data.\n",
    "    test_mark = X[valid_start][0]\n",
    "    plt.plot([test_mark, test_mark], [y_train_pred.min(), y_test_pred.max()], 'k-')\n",
    "\n",
    "    # plot trendline and actual line.\n",
    "    plt.title(f'meterid {meterid}; r2_train: {r2_train:.3f}; r2_val: {r2_valid:.3f}; r2_test: {r2_test:.3f}')\n",
    "    plt.xlabel(f'hours elapsed since {df_i.localminute.iloc[0]}') \n",
    "    plt.plot(x_train, y_train, label='actual train')\n",
    "    plt.plot(x_train, y_train_pred, label='prediction on train')\n",
    "\n",
    "    plt.plot(x_valid, y_valid, label='actual val')\n",
    "    plt.plot(x_valid, y_valid_pred, label='prediction on val')\n",
    "\n",
    "    plt.plot(x_test, y_test, label='actual test')\n",
    "    plt.plot(x_test, y_test_pred, label='prediction on test')\n",
    "\n",
    "    plt.legend()\n",
    "    plt.show()\n",
    "    plt.cla()\n",
    "\n",
    "    # plot prediction error plot (actual vs predicted value)\n",
    "    actual = []\n",
    "    actual.extend(y_train)\n",
    "    actual.extend(y_valid)\n",
    "    actual.extend(y_test)\n",
    "    len(actual)\n",
    "\n",
    "    predicted = []\n",
    "    predicted.extend(y_train_pred)\n",
    "    predicted.extend(y_valid_pred)\n",
    "    predicted.extend(y_test_pred)\n",
    "    len(predicted)\n",
    "\n",
    "    plt.scatter(actual, predicted, color='magenta', label='predicted vs actual')\n",
    "    plt.plot(actual, actual, label='perfect fit')\n",
    "    plt.legend()\n",
    "\n",
    "    plt.show()\n",
    "    plt.cla()"
   ]
  },
  {
   "cell_type": "code",
   "execution_count": null,
   "metadata": {},
   "outputs": [],
   "source": [
    "#TODO: iterate LASSO modelling and analysis for all valid meterids"
   ]
  }
 ],
 "metadata": {
  "kernelspec": {
   "display_name": "Python 3",
   "language": "python",
   "name": "python3"
  },
  "language_info": {
   "codemirror_mode": {
    "name": "ipython",
    "version": 3
   },
   "file_extension": ".py",
   "mimetype": "text/x-python",
   "name": "python",
   "nbconvert_exporter": "python",
   "pygments_lexer": "ipython3",
   "version": "3.6.5"
  }
 },
 "nbformat": 4,
 "nbformat_minor": 2
}
