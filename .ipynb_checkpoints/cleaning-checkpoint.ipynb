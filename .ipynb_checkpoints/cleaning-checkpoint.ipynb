{
 "cells": [
  {
   "cell_type": "markdown",
   "metadata": {},
   "source": [
    "### Imports and dependencies"
   ]
  },
  {
   "cell_type": "code",
   "execution_count": 3,
   "metadata": {},
   "outputs": [],
   "source": [
    "import matplotlib.pyplot as plt\n",
    "import numpy as np\n",
    "import pandas as pd\n",
    "import seaborn as sns\n",
    "%matplotlib inline\n",
    "sns.set_style(\"ticks\")"
   ]
  },
  {
   "cell_type": "markdown",
   "metadata": {},
   "source": [
    "### Get dataframes by meterids and obtain list of meterids."
   ]
  },
  {
   "cell_type": "code",
   "execution_count": null,
   "metadata": {},
   "outputs": [],
   "source": [
    "df_all = pd.read_csv('data/dataport-export_gas_oct2015-mar2016.csv')\n",
    "df_all = df_all.drop(columns='localminute')\n",
    "groups = df_all.groupby('dataid')\n",
    "keys = groups.groups.keys()  # keys: an iterable of dataids or meter ids\n",
    "keys_list = list(keys)\n",
    "print(keys_list)"
   ]
  },
  {
   "cell_type": "code",
   "execution_count": null,
   "metadata": {},
   "outputs": [],
   "source": [
    "key = 1185\n",
    "df_i = groups.get_group(key).drop(columns='dataid')"
   ]
  },
  {
   "cell_type": "code",
   "execution_count": null,
   "metadata": {},
   "outputs": [],
   "source": [
    "def zoom(df, start_date, end_date):\n",
    "    # returns a df whose rows are within a particular time period. \n",
    "    # pre-condition: df is indexed by datetime.\n",
    "    start_date = pd.to_datetime(start_date)\n",
    "    end_date = pd.to_datetime(end_date)\n",
    "    mask = (df.index >= start_date) & (df.index <= end_date)\n",
    "\n",
    "    new_df = df.iloc[mask]\n",
    "    return new_df"
   ]
  },
  {
   "cell_type": "code",
   "execution_count": null,
   "metadata": {},
   "outputs": [],
   "source": [
    "# example for zoom\n",
    "df_i_1mth = zoom(df_i, '2016-01-01', '2016-02-01')"
   ]
  },
  {
   "cell_type": "markdown",
   "metadata": {},
   "source": [
    "### Cleaning steps."
   ]
  },
  {
   "cell_type": "code",
   "execution_count": 5,
   "metadata": {},
   "outputs": [],
   "source": [
    "# step 1 (optional part)\n",
    "def remove_mal_data(df):\n",
    "    # this method finds the start datetime and end datetime of the malfunctioning period and returns a new df without data\n",
    "    # from that period. i.e. the entire chunk of data from the faulty period is dropped.\n",
    "    # NOTE that a new column 'marginal_change' is added to the df.\n",
    "    # df: pandas dataframe. contains data from one meterid. contains a column 'meter_value'.\n",
    "    \n",
    "    # from visualising the data, we can arbitrarily define a spike as a marginal difference of > 2000 cubic metres\n",
    "    # we have defined malfunction as a marginal change > 2000\n",
    "    # and a marginal change < -2000.\n",
    "    threshold = 2000\n",
    "    df['marginal_change'] = df['meter_value'].diff()\n",
    "    \n",
    "    flagged_dates = df[df.marginal_change > threshold].index\n",
    "    flagged_dates = flagged_dates.append(df[df.marginal_change < -1*threshold].index)\n",
    "    \n",
    "    if len(flagged_dates) > 0:\n",
    "        start = flagged_dates[0]\n",
    "        end = flagged_dates[-1]    \n",
    "        mask = (df.index >= start) & (df.index <= end)\n",
    "        return df.loc[~mask]\n",
    "    else:\n",
    "        return df"
   ]
  },
  {
   "cell_type": "code",
   "execution_count": null,
   "metadata": {},
   "outputs": [],
   "source": [
    "# step 2. exclude meters with low sampling frequency\n",
    "\n",
    "# list of meters visually inspected and identified to be malfunctioning \n",
    "# based on spikes or irregularities seen on the plot.\n",
    "to_remove = [1185, 1556, 2335, 2449, 3134, 3544, 4447, 4514,\\\n",
    "             5129, 5403, 6836, 7030, 7117, 8156, 9134, 9639, 9982]\n",
    "\n",
    "low_samplefreq = [] # TODO\n",
    "\n",
    "to_remove.extend(low_samplefreq) \n",
    "\n",
    "display(to_remove, len(to_remove))\n",
    "\n",
    "# final meters to use for analysis\n",
    "to_keep = [elem for elem in keys_list if elem not in to_remove]"
   ]
  },
  {
   "cell_type": "code",
   "execution_count": null,
   "metadata": {},
   "outputs": [],
   "source": [
    "# step 3. Change cumulative to marginal change.\n",
    "\n",
    "# we already have the 'marginal_change' column. \n",
    "# NOTE: the 'meter_value' or cumulative reading column is NO LONGER VALID after dropping any row.\n",
    "# the only exception is for the very first row which is the first cumulative reading.\n",
    "# if we are going to need cumulative readings again, we must construct them from this first cumulative reading and all\n",
    "# the new (remaining/cleaned) marginal changes."
   ]
  },
  {
   "cell_type": "code",
   "execution_count": 6,
   "metadata": {},
   "outputs": [],
   "source": [
    "# step 4. remove marginal decrease.\n",
    "def remove_negative_marginal(df):\n",
    "    # remove data points where the marginal change (from prev value) is negative.\n",
    "    return df.loc[df['marginal_change'] >= 0]\n",
    "\n",
    "# same notes apply as in step 3."
   ]
  },
  {
   "cell_type": "code",
   "execution_count": 7,
   "metadata": {},
   "outputs": [],
   "source": [
    "# step 5. Get rate of increase from marginal changes (per second)"
   ]
  },
  {
   "cell_type": "code",
   "execution_count": null,
   "metadata": {},
   "outputs": [],
   "source": [
    "# step 6. Mark anomalies from rate of increase with threshold = 0.166/s\n",
    "# step 7. Remove these anomalies\n",
    "# step 8. Resample hourly, finding the new hourly marginal reading. Construct cumulative readings as necessary.\n",
    "# step 9. visualise cleaned readings. confirm that results are as intended\n",
    "# step 10. save combined data into a new csv file."
   ]
  }
 ],
 "metadata": {
  "kernelspec": {
   "display_name": "Python 3",
   "language": "python",
   "name": "python3"
  },
  "language_info": {
   "codemirror_mode": {
    "name": "ipython",
    "version": 3
   },
   "file_extension": ".py",
   "mimetype": "text/x-python",
   "name": "python",
   "nbconvert_exporter": "python",
   "pygments_lexer": "ipython3",
   "version": "3.6.5"
  }
 },
 "nbformat": 4,
 "nbformat_minor": 2
}
