{
 "cells": [
  {
   "cell_type": "code",
   "execution_count": 31,
   "metadata": {},
   "outputs": [
    {
     "name": "stdout",
     "output_type": "stream",
     "text": [
      "Pretty printing has been turned ON\n"
     ]
    }
   ],
   "source": [
    "import matplotlib.pyplot as plt\n",
    "import numpy as np\n",
    "import pandas as pd\n",
    "import seaborn as sns\n",
    "%matplotlib inline\n",
    "%pprint off\n",
    "plt.style.use('seaborn')"
   ]
  },
  {
   "cell_type": "code",
   "execution_count": 32,
   "metadata": {},
   "outputs": [
    {
     "data": {
      "text/plain": [
       "593956"
      ]
     },
     "execution_count": 32,
     "metadata": {},
     "output_type": "execute_result"
    }
   ],
   "source": [
    "df_all = pd.read_csv('data/cleaned.csv')\n",
    "len(df_all)"
   ]
  },
  {
   "cell_type": "code",
   "execution_count": 33,
   "metadata": {},
   "outputs": [],
   "source": [
    "df_all = df_all.set_index(pd.to_datetime(df_all['localminute']), drop=True)"
   ]
  },
  {
   "cell_type": "code",
   "execution_count": 34,
   "metadata": {},
   "outputs": [],
   "source": [
    "df_all = df_all.drop(columns=['Unnamed: 0', 'localminute'])"
   ]
  },
  {
   "cell_type": "code",
   "execution_count": 35,
   "metadata": {},
   "outputs": [
    {
     "data": {
      "text/html": [
       "<div>\n",
       "<style scoped>\n",
       "    .dataframe tbody tr th:only-of-type {\n",
       "        vertical-align: middle;\n",
       "    }\n",
       "\n",
       "    .dataframe tbody tr th {\n",
       "        vertical-align: top;\n",
       "    }\n",
       "\n",
       "    .dataframe thead th {\n",
       "        text-align: right;\n",
       "    }\n",
       "</style>\n",
       "<table border=\"1\" class=\"dataframe\">\n",
       "  <thead>\n",
       "    <tr style=\"text-align: right;\">\n",
       "      <th></th>\n",
       "      <th>marginal_change</th>\n",
       "      <th>cumul_value</th>\n",
       "      <th>meterid</th>\n",
       "    </tr>\n",
       "    <tr>\n",
       "      <th>localminute</th>\n",
       "      <th></th>\n",
       "      <th></th>\n",
       "      <th></th>\n",
       "    </tr>\n",
       "  </thead>\n",
       "  <tbody>\n",
       "    <tr>\n",
       "      <th>2015-10-01 05:00:00</th>\n",
       "      <td>0.0</td>\n",
       "      <td>93470.0</td>\n",
       "      <td>35</td>\n",
       "    </tr>\n",
       "    <tr>\n",
       "      <th>2015-10-01 06:00:00</th>\n",
       "      <td>0.0</td>\n",
       "      <td>93470.0</td>\n",
       "      <td>35</td>\n",
       "    </tr>\n",
       "    <tr>\n",
       "      <th>2015-10-01 07:00:00</th>\n",
       "      <td>0.0</td>\n",
       "      <td>93470.0</td>\n",
       "      <td>35</td>\n",
       "    </tr>\n",
       "    <tr>\n",
       "      <th>2015-10-01 08:00:00</th>\n",
       "      <td>0.0</td>\n",
       "      <td>93470.0</td>\n",
       "      <td>35</td>\n",
       "    </tr>\n",
       "    <tr>\n",
       "      <th>2015-10-01 09:00:00</th>\n",
       "      <td>0.0</td>\n",
       "      <td>93470.0</td>\n",
       "      <td>35</td>\n",
       "    </tr>\n",
       "  </tbody>\n",
       "</table>\n",
       "</div>"
      ],
      "text/plain": [
       "                     marginal_change  cumul_value  meterid\n",
       "localminute                                               \n",
       "2015-10-01 05:00:00              0.0      93470.0       35\n",
       "2015-10-01 06:00:00              0.0      93470.0       35\n",
       "2015-10-01 07:00:00              0.0      93470.0       35\n",
       "2015-10-01 08:00:00              0.0      93470.0       35\n",
       "2015-10-01 09:00:00              0.0      93470.0       35"
      ]
     },
     "metadata": {},
     "output_type": "display_data"
    },
    {
     "data": {
      "text/plain": [
       "593956"
      ]
     },
     "metadata": {},
     "output_type": "display_data"
    }
   ],
   "source": [
    "display(df_all.head(), len(df_all))"
   ]
  },
  {
   "cell_type": "code",
   "execution_count": 36,
   "metadata": {},
   "outputs": [],
   "source": [
    "groups = df_all.groupby('meterid')\n",
    "keys = groups.groups.keys()  # keys: an iterable of dataids or meter ids"
   ]
  },
  {
   "cell_type": "code",
   "execution_count": 37,
   "metadata": {},
   "outputs": [
    {
     "data": {
      "text/plain": [
       "[35,\n",
       " 44,\n",
       " 77,\n",
       " 94,\n",
       " 114,\n",
       " 187,\n",
       " 222,\n",
       " 252,\n",
       " 370,\n",
       " 483,\n",
       " 484,\n",
       " 661,\n",
       " 739,\n",
       " 744,\n",
       " 871,\n",
       " 1042,\n",
       " 1086,\n",
       " 1103,\n",
       " 1185,\n",
       " 1283,\n",
       " 1403,\n",
       " 1415,\n",
       " 1507,\n",
       " 1556,\n",
       " 1589,\n",
       " 1619,\n",
       " 1697,\n",
       " 1714,\n",
       " 1718,\n",
       " 1790,\n",
       " 1791,\n",
       " 1792,\n",
       " 1800,\n",
       " 1801,\n",
       " 2018,\n",
       " 2034,\n",
       " 2072,\n",
       " 2094,\n",
       " 2129,\n",
       " 2233,\n",
       " 2335,\n",
       " 2378,\n",
       " 2449,\n",
       " 2461,\n",
       " 2470,\n",
       " 2575,\n",
       " 2638,\n",
       " 2755,\n",
       " 2814,\n",
       " 2818,\n",
       " 2945,\n",
       " 2946,\n",
       " 2965,\n",
       " 2980,\n",
       " 3036,\n",
       " 3039,\n",
       " 3134,\n",
       " 3310,\n",
       " 3367,\n",
       " 3527,\n",
       " 3544,\n",
       " 3577,\n",
       " 3635,\n",
       " 3723,\n",
       " 3778,\n",
       " 3849,\n",
       " 3893,\n",
       " 3918,\n",
       " 4029,\n",
       " 4031,\n",
       " 4193,\n",
       " 4228,\n",
       " 4296,\n",
       " 4352,\n",
       " 4356,\n",
       " 4373,\n",
       " 4421,\n",
       " 4447,\n",
       " 4514,\n",
       " 4732,\n",
       " 4767,\n",
       " 4998,\n",
       " 5129,\n",
       " 5131,\n",
       " 5193,\n",
       " 5275,\n",
       " 5317,\n",
       " 5395,\n",
       " 5403,\n",
       " 5439,\n",
       " 5484,\n",
       " 5636,\n",
       " 5658,\n",
       " 5785,\n",
       " 5810,\n",
       " 5814,\n",
       " 5892,\n",
       " 5972,\n",
       " 6412,\n",
       " 6505,\n",
       " 6578,\n",
       " 6673,\n",
       " 6685,\n",
       " 6830,\n",
       " 6836,\n",
       " 6863,\n",
       " 6910,\n",
       " 7016,\n",
       " 7017,\n",
       " 7030,\n",
       " 7117,\n",
       " 7287,\n",
       " 7429,\n",
       " 7460,\n",
       " 7674,\n",
       " 7682,\n",
       " 7739,\n",
       " 7741,\n",
       " 7794,\n",
       " 7900,\n",
       " 7919,\n",
       " 7965,\n",
       " 7989,\n",
       " 8059,\n",
       " 8084,\n",
       " 8086,\n",
       " 8155,\n",
       " 8156,\n",
       " 8244,\n",
       " 8386,\n",
       " 8467,\n",
       " 8829,\n",
       " 8890,\n",
       " 8967,\n",
       " 9052,\n",
       " 9121,\n",
       " 9134,\n",
       " 9160,\n",
       " 9278,\n",
       " 9295,\n",
       " 9474,\n",
       " 9600,\n",
       " 9631,\n",
       " 9639,\n",
       " 9729,\n",
       " 9766,\n",
       " 9849,\n",
       " 9956,\n",
       " 9982]"
      ]
     },
     "metadata": {},
     "output_type": "display_data"
    },
    {
     "data": {
      "text/plain": [
       "149"
      ]
     },
     "metadata": {},
     "output_type": "display_data"
    }
   ],
   "source": [
    "id_list = list(keys)\n",
    "id_list.remove(8703)  # meterid 8703 was found to have data for only 2 weeks in Oct.\n",
    "display(id_list, len(id_list))"
   ]
  },
  {
   "cell_type": "markdown",
   "metadata": {},
   "source": [
    "### Visualize meter data."
   ]
  },
  {
   "cell_type": "code",
   "execution_count": 38,
   "metadata": {
    "scrolled": true
   },
   "outputs": [],
   "source": [
    "# for i in id_list:\n",
    "#     df_i = groups.get_group(i)\n",
    "#     #df_i['cumul_value'].plot(figsize=(15,4), title=f'meter {i}, {len(df_i)} samples')\n",
    "#     plt.cla()\n",
    "#     fig = plt.gcf()\n",
    "#     fig.set_size_inches(15,4)\n",
    "#     plt.title(f'meter {i}, {len(df_i)} samples')\n",
    "#     plt.scatter(x=df_i.index, y=df_i['cumul_value'])\n",
    "#     plt.show()"
   ]
  },
  {
   "cell_type": "code",
   "execution_count": 39,
   "metadata": {},
   "outputs": [
    {
     "data": {
      "text/plain": [
       "[35,\n",
       " 44,\n",
       " 77,\n",
       " 94,\n",
       " 114,\n",
       " 187,\n",
       " 222,\n",
       " 252,\n",
       " 370,\n",
       " 483,\n",
       " 484,\n",
       " 661,\n",
       " 739,\n",
       " 744,\n",
       " 871,\n",
       " 1042,\n",
       " 1086,\n",
       " 1103,\n",
       " 1185,\n",
       " 1283,\n",
       " 1415,\n",
       " 1507,\n",
       " 1556,\n",
       " 1589,\n",
       " 1619,\n",
       " 1697,\n",
       " 1714,\n",
       " 1718,\n",
       " 1790,\n",
       " 1791,\n",
       " 1792,\n",
       " 1800,\n",
       " 1801,\n",
       " 2018,\n",
       " 2034,\n",
       " 2072,\n",
       " 2094,\n",
       " 2129,\n",
       " 2233,\n",
       " 2335,\n",
       " 2378,\n",
       " 2449,\n",
       " 2461,\n",
       " 2470,\n",
       " 2575,\n",
       " 2638,\n",
       " 2818,\n",
       " 2945,\n",
       " 2965,\n",
       " 2980,\n",
       " 3039,\n",
       " 3134,\n",
       " 3310,\n",
       " 3367,\n",
       " 3527,\n",
       " 3544,\n",
       " 3577,\n",
       " 3635,\n",
       " 3723,\n",
       " 3778,\n",
       " 3849,\n",
       " 3893,\n",
       " 3918,\n",
       " 4029,\n",
       " 4031,\n",
       " 4193,\n",
       " 4228,\n",
       " 4296,\n",
       " 4352,\n",
       " 4356,\n",
       " 4373,\n",
       " 4421,\n",
       " 4447,\n",
       " 4514,\n",
       " 4732,\n",
       " 4767,\n",
       " 4998,\n",
       " 5129,\n",
       " 5131,\n",
       " 5193,\n",
       " 5275,\n",
       " 5395,\n",
       " 5403,\n",
       " 5439,\n",
       " 5484,\n",
       " 5636,\n",
       " 5785,\n",
       " 5810,\n",
       " 5814,\n",
       " 5892,\n",
       " 5972,\n",
       " 6412,\n",
       " 6505,\n",
       " 6578,\n",
       " 6685,\n",
       " 6830,\n",
       " 6836,\n",
       " 6863,\n",
       " 6910,\n",
       " 7016,\n",
       " 7017,\n",
       " 7030,\n",
       " 7117,\n",
       " 7287,\n",
       " 7429,\n",
       " 7460,\n",
       " 7674,\n",
       " 7682,\n",
       " 7739,\n",
       " 7741,\n",
       " 7794,\n",
       " 7900,\n",
       " 7919,\n",
       " 7965,\n",
       " 7989,\n",
       " 8059,\n",
       " 8084,\n",
       " 8086,\n",
       " 8155,\n",
       " 8156,\n",
       " 8386,\n",
       " 8467,\n",
       " 8829,\n",
       " 8890,\n",
       " 8967,\n",
       " 9052,\n",
       " 9121,\n",
       " 9134,\n",
       " 9278,\n",
       " 9295,\n",
       " 9474,\n",
       " 9631,\n",
       " 9639,\n",
       " 9729,\n",
       " 9766,\n",
       " 9849,\n",
       " 9956,\n",
       " 9982]"
      ]
     },
     "metadata": {},
     "output_type": "display_data"
    },
    {
     "data": {
      "text/plain": [
       "138"
      ]
     },
     "metadata": {},
     "output_type": "display_data"
    }
   ],
   "source": [
    "# get list of meterids whose first datapoint is at least as early as pre-specified 'origin_date'.\n",
    "# and whose last datapoint is after some specified 'end_date'?\n",
    "# the reason is to get a set of data that can be normalized and then fed as regression input.\n",
    "\n",
    "origin_date = '2015-11-01'\n",
    "\n",
    "valid_list = []\n",
    "for meterid in id_list:\n",
    "    df_i = groups.get_group(meterid)\n",
    "    if df_i.index[0] <= pd.to_datetime(origin_date):\n",
    "        valid_list.append(meterid)\n",
    "\n",
    "display(valid_list, len(valid_list))"
   ]
  },
  {
   "cell_type": "code",
   "execution_count": 40,
   "metadata": {},
   "outputs": [
    {
     "data": {
      "text/html": [
       "<div>\n",
       "<style scoped>\n",
       "    .dataframe tbody tr th:only-of-type {\n",
       "        vertical-align: middle;\n",
       "    }\n",
       "\n",
       "    .dataframe tbody tr th {\n",
       "        vertical-align: top;\n",
       "    }\n",
       "\n",
       "    .dataframe thead th {\n",
       "        text-align: right;\n",
       "    }\n",
       "</style>\n",
       "<table border=\"1\" class=\"dataframe\">\n",
       "  <thead>\n",
       "    <tr style=\"text-align: right;\">\n",
       "      <th></th>\n",
       "      <th>marginal_change</th>\n",
       "      <th>meterid</th>\n",
       "      <th>norm_cumul_value</th>\n",
       "    </tr>\n",
       "    <tr>\n",
       "      <th>localminute</th>\n",
       "      <th></th>\n",
       "      <th></th>\n",
       "      <th></th>\n",
       "    </tr>\n",
       "  </thead>\n",
       "  <tbody>\n",
       "    <tr>\n",
       "      <th>2015-11-01 00:00:00</th>\n",
       "      <td>4.0</td>\n",
       "      <td>9982</td>\n",
       "      <td>0.0</td>\n",
       "    </tr>\n",
       "    <tr>\n",
       "      <th>2015-11-01 01:00:00</th>\n",
       "      <td>0.0</td>\n",
       "      <td>9982</td>\n",
       "      <td>0.0</td>\n",
       "    </tr>\n",
       "    <tr>\n",
       "      <th>2015-11-01 02:00:00</th>\n",
       "      <td>0.0</td>\n",
       "      <td>9982</td>\n",
       "      <td>0.0</td>\n",
       "    </tr>\n",
       "    <tr>\n",
       "      <th>2015-11-01 03:00:00</th>\n",
       "      <td>0.0</td>\n",
       "      <td>9982</td>\n",
       "      <td>0.0</td>\n",
       "    </tr>\n",
       "    <tr>\n",
       "      <th>2015-11-01 04:00:00</th>\n",
       "      <td>8.0</td>\n",
       "      <td>9982</td>\n",
       "      <td>8.0</td>\n",
       "    </tr>\n",
       "    <tr>\n",
       "      <th>2015-11-01 05:00:00</th>\n",
       "      <td>0.0</td>\n",
       "      <td>9982</td>\n",
       "      <td>8.0</td>\n",
       "    </tr>\n",
       "    <tr>\n",
       "      <th>2015-11-01 06:00:00</th>\n",
       "      <td>0.0</td>\n",
       "      <td>9982</td>\n",
       "      <td>8.0</td>\n",
       "    </tr>\n",
       "    <tr>\n",
       "      <th>2015-11-01 07:00:00</th>\n",
       "      <td>0.0</td>\n",
       "      <td>9982</td>\n",
       "      <td>8.0</td>\n",
       "    </tr>\n",
       "    <tr>\n",
       "      <th>2015-11-01 08:00:00</th>\n",
       "      <td>0.0</td>\n",
       "      <td>9982</td>\n",
       "      <td>8.0</td>\n",
       "    </tr>\n",
       "    <tr>\n",
       "      <th>2015-11-01 09:00:00</th>\n",
       "      <td>0.0</td>\n",
       "      <td>9982</td>\n",
       "      <td>8.0</td>\n",
       "    </tr>\n",
       "  </tbody>\n",
       "</table>\n",
       "</div>"
      ],
      "text/plain": [
       "                     marginal_change  meterid  norm_cumul_value\n",
       "localminute                                                    \n",
       "2015-11-01 00:00:00              4.0     9982               0.0\n",
       "2015-11-01 01:00:00              0.0     9982               0.0\n",
       "2015-11-01 02:00:00              0.0     9982               0.0\n",
       "2015-11-01 03:00:00              0.0     9982               0.0\n",
       "2015-11-01 04:00:00              8.0     9982               8.0\n",
       "2015-11-01 05:00:00              0.0     9982               8.0\n",
       "2015-11-01 06:00:00              0.0     9982               8.0\n",
       "2015-11-01 07:00:00              0.0     9982               8.0\n",
       "2015-11-01 08:00:00              0.0     9982               8.0\n",
       "2015-11-01 09:00:00              0.0     9982               8.0"
      ]
     },
     "metadata": {},
     "output_type": "display_data"
    },
    {
     "data": {
      "text/html": [
       "<div>\n",
       "<style scoped>\n",
       "    .dataframe tbody tr th:only-of-type {\n",
       "        vertical-align: middle;\n",
       "    }\n",
       "\n",
       "    .dataframe tbody tr th {\n",
       "        vertical-align: top;\n",
       "    }\n",
       "\n",
       "    .dataframe thead th {\n",
       "        text-align: right;\n",
       "    }\n",
       "</style>\n",
       "<table border=\"1\" class=\"dataframe\">\n",
       "  <thead>\n",
       "    <tr style=\"text-align: right;\">\n",
       "      <th></th>\n",
       "      <th>marginal_change</th>\n",
       "      <th>meterid</th>\n",
       "      <th>norm_cumul_value</th>\n",
       "    </tr>\n",
       "    <tr>\n",
       "      <th>localminute</th>\n",
       "      <th></th>\n",
       "      <th></th>\n",
       "      <th></th>\n",
       "    </tr>\n",
       "  </thead>\n",
       "  <tbody>\n",
       "    <tr>\n",
       "      <th>2016-03-31 07:00:00</th>\n",
       "      <td>0.0</td>\n",
       "      <td>9982</td>\n",
       "      <td>12574.0</td>\n",
       "    </tr>\n",
       "    <tr>\n",
       "      <th>2016-03-31 08:00:00</th>\n",
       "      <td>0.0</td>\n",
       "      <td>9982</td>\n",
       "      <td>12574.0</td>\n",
       "    </tr>\n",
       "    <tr>\n",
       "      <th>2016-03-31 09:00:00</th>\n",
       "      <td>0.0</td>\n",
       "      <td>9982</td>\n",
       "      <td>12574.0</td>\n",
       "    </tr>\n",
       "    <tr>\n",
       "      <th>2016-03-31 10:00:00</th>\n",
       "      <td>0.0</td>\n",
       "      <td>9982</td>\n",
       "      <td>12574.0</td>\n",
       "    </tr>\n",
       "    <tr>\n",
       "      <th>2016-03-31 11:00:00</th>\n",
       "      <td>0.0</td>\n",
       "      <td>9982</td>\n",
       "      <td>12574.0</td>\n",
       "    </tr>\n",
       "    <tr>\n",
       "      <th>2016-03-31 12:00:00</th>\n",
       "      <td>0.0</td>\n",
       "      <td>9982</td>\n",
       "      <td>12574.0</td>\n",
       "    </tr>\n",
       "    <tr>\n",
       "      <th>2016-03-31 13:00:00</th>\n",
       "      <td>0.0</td>\n",
       "      <td>9982</td>\n",
       "      <td>12574.0</td>\n",
       "    </tr>\n",
       "    <tr>\n",
       "      <th>2016-03-31 14:00:00</th>\n",
       "      <td>0.0</td>\n",
       "      <td>9982</td>\n",
       "      <td>12574.0</td>\n",
       "    </tr>\n",
       "    <tr>\n",
       "      <th>2016-03-31 15:00:00</th>\n",
       "      <td>0.0</td>\n",
       "      <td>9982</td>\n",
       "      <td>12574.0</td>\n",
       "    </tr>\n",
       "    <tr>\n",
       "      <th>2016-03-31 16:00:00</th>\n",
       "      <td>72.0</td>\n",
       "      <td>9982</td>\n",
       "      <td>12646.0</td>\n",
       "    </tr>\n",
       "  </tbody>\n",
       "</table>\n",
       "</div>"
      ],
      "text/plain": [
       "                     marginal_change  meterid  norm_cumul_value\n",
       "localminute                                                    \n",
       "2016-03-31 07:00:00              0.0     9982           12574.0\n",
       "2016-03-31 08:00:00              0.0     9982           12574.0\n",
       "2016-03-31 09:00:00              0.0     9982           12574.0\n",
       "2016-03-31 10:00:00              0.0     9982           12574.0\n",
       "2016-03-31 11:00:00              0.0     9982           12574.0\n",
       "2016-03-31 12:00:00              0.0     9982           12574.0\n",
       "2016-03-31 13:00:00              0.0     9982           12574.0\n",
       "2016-03-31 14:00:00              0.0     9982           12574.0\n",
       "2016-03-31 15:00:00              0.0     9982           12574.0\n",
       "2016-03-31 16:00:00             72.0     9982           12646.0"
      ]
     },
     "metadata": {},
     "output_type": "display_data"
    }
   ],
   "source": [
    "# normalize the cumulative values before fitting the model over the values!!\n",
    "\n",
    "def normalize_cumul(df, start_date):\n",
    "    '''\n",
    "    normalize the cumul values towards a common start_date.\n",
    "    \n",
    "    df: dataframe. dataframe representing one meterid's data. df must have datetimeindex, and 'cumul_value' column\n",
    "    '''\n",
    "    df1 = df.loc[df.index >= pd.to_datetime(start_date)]\n",
    "    const = df1['cumul_value'].iloc[0]  # get first cumul value.\n",
    "    ser_norm = df1['cumul_value'] - const\n",
    "    df_new = df1.assign(norm_cumul_value=ser_norm).drop(columns=['cumul_value'])\n",
    "    \n",
    "    return df_new\n",
    "\n",
    "df_eg = normalize_cumul(df_i, origin_date)\n",
    "display(df_eg.head(10), df_eg.tail(10))"
   ]
  },
  {
   "cell_type": "markdown",
   "metadata": {},
   "source": [
    "### Aggregate/combined Linear Regression model (stuck here). "
   ]
  },
  {
   "cell_type": "code",
   "execution_count": 41,
   "metadata": {},
   "outputs": [
    {
     "data": {
      "text/html": [
       "<div>\n",
       "<style scoped>\n",
       "    .dataframe tbody tr th:only-of-type {\n",
       "        vertical-align: middle;\n",
       "    }\n",
       "\n",
       "    .dataframe tbody tr th {\n",
       "        vertical-align: top;\n",
       "    }\n",
       "\n",
       "    .dataframe thead th {\n",
       "        text-align: right;\n",
       "    }\n",
       "</style>\n",
       "<table border=\"1\" class=\"dataframe\">\n",
       "  <thead>\n",
       "    <tr style=\"text-align: right;\">\n",
       "      <th></th>\n",
       "      <th>localminute</th>\n",
       "      <th>marginal_change</th>\n",
       "      <th>meterid</th>\n",
       "      <th>norm_cumul_value</th>\n",
       "    </tr>\n",
       "  </thead>\n",
       "  <tbody>\n",
       "    <tr>\n",
       "      <th>0</th>\n",
       "      <td>2015-11-01 00:00:00</td>\n",
       "      <td>0.0</td>\n",
       "      <td>35</td>\n",
       "      <td>0.0</td>\n",
       "    </tr>\n",
       "    <tr>\n",
       "      <th>1</th>\n",
       "      <td>2015-11-01 01:00:00</td>\n",
       "      <td>12.0</td>\n",
       "      <td>35</td>\n",
       "      <td>12.0</td>\n",
       "    </tr>\n",
       "    <tr>\n",
       "      <th>2</th>\n",
       "      <td>2015-11-01 02:00:00</td>\n",
       "      <td>0.0</td>\n",
       "      <td>35</td>\n",
       "      <td>12.0</td>\n",
       "    </tr>\n",
       "    <tr>\n",
       "      <th>3</th>\n",
       "      <td>2015-11-01 03:00:00</td>\n",
       "      <td>2.0</td>\n",
       "      <td>35</td>\n",
       "      <td>14.0</td>\n",
       "    </tr>\n",
       "    <tr>\n",
       "      <th>4</th>\n",
       "      <td>2015-11-01 04:00:00</td>\n",
       "      <td>0.0</td>\n",
       "      <td>35</td>\n",
       "      <td>14.0</td>\n",
       "    </tr>\n",
       "  </tbody>\n",
       "</table>\n",
       "</div>"
      ],
      "text/plain": [
       "          localminute  marginal_change  meterid  norm_cumul_value\n",
       "0 2015-11-01 00:00:00              0.0       35               0.0\n",
       "1 2015-11-01 01:00:00             12.0       35              12.0\n",
       "2 2015-11-01 02:00:00              0.0       35              12.0\n",
       "3 2015-11-01 03:00:00              2.0       35              14.0\n",
       "4 2015-11-01 04:00:00              0.0       35              14.0"
      ]
     },
     "metadata": {},
     "output_type": "display_data"
    },
    {
     "data": {
      "text/html": [
       "<div>\n",
       "<style scoped>\n",
       "    .dataframe tbody tr th:only-of-type {\n",
       "        vertical-align: middle;\n",
       "    }\n",
       "\n",
       "    .dataframe tbody tr th {\n",
       "        vertical-align: top;\n",
       "    }\n",
       "\n",
       "    .dataframe thead th {\n",
       "        text-align: right;\n",
       "    }\n",
       "</style>\n",
       "<table border=\"1\" class=\"dataframe\">\n",
       "  <thead>\n",
       "    <tr style=\"text-align: right;\">\n",
       "      <th></th>\n",
       "      <th>localminute</th>\n",
       "      <th>marginal_change</th>\n",
       "      <th>meterid</th>\n",
       "      <th>norm_cumul_value</th>\n",
       "    </tr>\n",
       "  </thead>\n",
       "  <tbody>\n",
       "    <tr>\n",
       "      <th>490048</th>\n",
       "      <td>2016-03-31 12:00:00</td>\n",
       "      <td>0.0</td>\n",
       "      <td>9982</td>\n",
       "      <td>12574.0</td>\n",
       "    </tr>\n",
       "    <tr>\n",
       "      <th>490049</th>\n",
       "      <td>2016-03-31 13:00:00</td>\n",
       "      <td>0.0</td>\n",
       "      <td>9982</td>\n",
       "      <td>12574.0</td>\n",
       "    </tr>\n",
       "    <tr>\n",
       "      <th>490050</th>\n",
       "      <td>2016-03-31 14:00:00</td>\n",
       "      <td>0.0</td>\n",
       "      <td>9982</td>\n",
       "      <td>12574.0</td>\n",
       "    </tr>\n",
       "    <tr>\n",
       "      <th>490051</th>\n",
       "      <td>2016-03-31 15:00:00</td>\n",
       "      <td>0.0</td>\n",
       "      <td>9982</td>\n",
       "      <td>12574.0</td>\n",
       "    </tr>\n",
       "    <tr>\n",
       "      <th>490052</th>\n",
       "      <td>2016-03-31 16:00:00</td>\n",
       "      <td>72.0</td>\n",
       "      <td>9982</td>\n",
       "      <td>12646.0</td>\n",
       "    </tr>\n",
       "  </tbody>\n",
       "</table>\n",
       "</div>"
      ],
      "text/plain": [
       "               localminute  marginal_change  meterid  norm_cumul_value\n",
       "490048 2016-03-31 12:00:00              0.0     9982           12574.0\n",
       "490049 2016-03-31 13:00:00              0.0     9982           12574.0\n",
       "490050 2016-03-31 14:00:00              0.0     9982           12574.0\n",
       "490051 2016-03-31 15:00:00              0.0     9982           12574.0\n",
       "490052 2016-03-31 16:00:00             72.0     9982           12646.0"
      ]
     },
     "metadata": {},
     "output_type": "display_data"
    },
    {
     "data": {
      "text/html": [
       "<div>\n",
       "<style scoped>\n",
       "    .dataframe tbody tr th:only-of-type {\n",
       "        vertical-align: middle;\n",
       "    }\n",
       "\n",
       "    .dataframe tbody tr th {\n",
       "        vertical-align: top;\n",
       "    }\n",
       "\n",
       "    .dataframe thead th {\n",
       "        text-align: right;\n",
       "    }\n",
       "</style>\n",
       "<table border=\"1\" class=\"dataframe\">\n",
       "  <thead>\n",
       "    <tr style=\"text-align: right;\">\n",
       "      <th></th>\n",
       "      <th>marginal_change</th>\n",
       "      <th>meterid</th>\n",
       "      <th>norm_cumul_value</th>\n",
       "    </tr>\n",
       "  </thead>\n",
       "  <tbody>\n",
       "    <tr>\n",
       "      <th>count</th>\n",
       "      <td>490053.000000</td>\n",
       "      <td>490053.000000</td>\n",
       "      <td>490053.000000</td>\n",
       "    </tr>\n",
       "    <tr>\n",
       "      <th>mean</th>\n",
       "      <td>5.109978</td>\n",
       "      <td>4633.380975</td>\n",
       "      <td>9437.259582</td>\n",
       "    </tr>\n",
       "    <tr>\n",
       "      <th>std</th>\n",
       "      <td>17.900346</td>\n",
       "      <td>2930.912281</td>\n",
       "      <td>8410.615437</td>\n",
       "    </tr>\n",
       "    <tr>\n",
       "      <th>min</th>\n",
       "      <td>0.000000</td>\n",
       "      <td>35.000000</td>\n",
       "      <td>0.000000</td>\n",
       "    </tr>\n",
       "    <tr>\n",
       "      <th>25%</th>\n",
       "      <td>0.000000</td>\n",
       "      <td>2034.000000</td>\n",
       "      <td>2548.000000</td>\n",
       "    </tr>\n",
       "    <tr>\n",
       "      <th>50%</th>\n",
       "      <td>0.000000</td>\n",
       "      <td>4352.000000</td>\n",
       "      <td>7658.000000</td>\n",
       "    </tr>\n",
       "    <tr>\n",
       "      <th>75%</th>\n",
       "      <td>2.000000</td>\n",
       "      <td>7287.000000</td>\n",
       "      <td>14500.000000</td>\n",
       "    </tr>\n",
       "    <tr>\n",
       "      <th>max</th>\n",
       "      <td>1640.000000</td>\n",
       "      <td>9982.000000</td>\n",
       "      <td>55700.000000</td>\n",
       "    </tr>\n",
       "  </tbody>\n",
       "</table>\n",
       "</div>"
      ],
      "text/plain": [
       "       marginal_change        meterid  norm_cumul_value\n",
       "count    490053.000000  490053.000000     490053.000000\n",
       "mean          5.109978    4633.380975       9437.259582\n",
       "std          17.900346    2930.912281       8410.615437\n",
       "min           0.000000      35.000000          0.000000\n",
       "25%           0.000000    2034.000000       2548.000000\n",
       "50%           0.000000    4352.000000       7658.000000\n",
       "75%           2.000000    7287.000000      14500.000000\n",
       "max        1640.000000    9982.000000      55700.000000"
      ]
     },
     "metadata": {},
     "output_type": "display_data"
    }
   ],
   "source": [
    "# combine all meterids' data.\n",
    "# maybe create new columns for 1 hot encoding indicating which meterid the datapoint belongs to\n",
    "# it is possible to extend this model by using one-hot encoding to indicate a particular cluster of meterids instead. \n",
    "\n",
    "\n",
    "def normalize_and_combine(origin_date):\n",
    "    '''\n",
    "    finds all meterids that have a datapoint at origin_date and\n",
    "    normalizes all cumulative readings based on that origin_date by\n",
    "    subtracting the first cumul value from all cumul values for each meterid.\n",
    "    effectively setting the first cumul value to 0 at origin_date, and all subsequent\n",
    "    values are based off that.\n",
    "    \n",
    "    '''\n",
    "    valid_list = []\n",
    "    for meterid in id_list:\n",
    "        df_i = groups.get_group(meterid)\n",
    "        if df_i.index[0] <= pd.to_datetime(origin_date):\n",
    "            valid_list.append(meterid)\n",
    "    \n",
    "    df_combinedxy = pd.DataFrame()\n",
    "    for meterid in valid_list:\n",
    "        df_i = groups.get_group(meterid)\n",
    "        df_i = normalize_cumul(df_i, origin_date)\n",
    "        df_i = df_i.reset_index()\n",
    "        df_combinedxy = df_combinedxy.append(df_i, ignore_index=True)\n",
    "\n",
    "    return df_combinedxy\n",
    "\n",
    "df_normalized = normalize_and_combine(origin_date)\n",
    "display(df_normalized.head(), df_normalized.tail(), df_normalized.describe())"
   ]
  },
  {
   "cell_type": "code",
   "execution_count": 42,
   "metadata": {},
   "outputs": [
    {
     "data": {
      "text/plain": [
       "array([  0,   0,   0, ..., 137, 137, 137], dtype=int64)"
      ]
     },
     "metadata": {},
     "output_type": "display_data"
    },
    {
     "data": {
      "text/plain": [
       "490053"
      ]
     },
     "metadata": {},
     "output_type": "display_data"
    },
    {
     "data": {
      "text/html": [
       "<div>\n",
       "<style scoped>\n",
       "    .dataframe tbody tr th:only-of-type {\n",
       "        vertical-align: middle;\n",
       "    }\n",
       "\n",
       "    .dataframe tbody tr th {\n",
       "        vertical-align: top;\n",
       "    }\n",
       "\n",
       "    .dataframe thead th {\n",
       "        text-align: right;\n",
       "    }\n",
       "</style>\n",
       "<table border=\"1\" class=\"dataframe\">\n",
       "  <thead>\n",
       "    <tr style=\"text-align: right;\">\n",
       "      <th></th>\n",
       "      <th>localminute</th>\n",
       "      <th>marginal_change</th>\n",
       "      <th>meterid</th>\n",
       "      <th>norm_cumul_value</th>\n",
       "      <th>label</th>\n",
       "    </tr>\n",
       "  </thead>\n",
       "  <tbody>\n",
       "    <tr>\n",
       "      <th>0</th>\n",
       "      <td>2015-11-01 00:00:00</td>\n",
       "      <td>0.0</td>\n",
       "      <td>35</td>\n",
       "      <td>0.0</td>\n",
       "      <td>0</td>\n",
       "    </tr>\n",
       "    <tr>\n",
       "      <th>1</th>\n",
       "      <td>2015-11-01 01:00:00</td>\n",
       "      <td>12.0</td>\n",
       "      <td>35</td>\n",
       "      <td>12.0</td>\n",
       "      <td>0</td>\n",
       "    </tr>\n",
       "    <tr>\n",
       "      <th>2</th>\n",
       "      <td>2015-11-01 02:00:00</td>\n",
       "      <td>0.0</td>\n",
       "      <td>35</td>\n",
       "      <td>12.0</td>\n",
       "      <td>0</td>\n",
       "    </tr>\n",
       "    <tr>\n",
       "      <th>3</th>\n",
       "      <td>2015-11-01 03:00:00</td>\n",
       "      <td>2.0</td>\n",
       "      <td>35</td>\n",
       "      <td>14.0</td>\n",
       "      <td>0</td>\n",
       "    </tr>\n",
       "    <tr>\n",
       "      <th>4</th>\n",
       "      <td>2015-11-01 04:00:00</td>\n",
       "      <td>0.0</td>\n",
       "      <td>35</td>\n",
       "      <td>14.0</td>\n",
       "      <td>0</td>\n",
       "    </tr>\n",
       "  </tbody>\n",
       "</table>\n",
       "</div>"
      ],
      "text/plain": [
       "          localminute  marginal_change  meterid  norm_cumul_value  label\n",
       "0 2015-11-01 00:00:00              0.0       35               0.0      0\n",
       "1 2015-11-01 01:00:00             12.0       35              12.0      0\n",
       "2 2015-11-01 02:00:00              0.0       35              12.0      0\n",
       "3 2015-11-01 03:00:00              2.0       35              14.0      0\n",
       "4 2015-11-01 04:00:00              0.0       35              14.0      0"
      ]
     },
     "execution_count": 42,
     "metadata": {},
     "output_type": "execute_result"
    }
   ],
   "source": [
    "# Label encoding\n",
    "from sklearn.preprocessing import LabelEncoder\n",
    "le = LabelEncoder()\n",
    "labels = le.fit_transform(df_normalized['meterid'])\n",
    "display(labels, len(labels))\n",
    "\n",
    "df_normalized = df_normalized.assign(label=labels)\n",
    "df_normalized.head()"
   ]
  },
  {
   "cell_type": "code",
   "execution_count": 43,
   "metadata": {},
   "outputs": [],
   "source": [
    "from sklearn.linear_model import LinearRegression"
   ]
  },
  {
   "cell_type": "code",
   "execution_count": 44,
   "metadata": {},
   "outputs": [
    {
     "data": {
      "text/plain": [
       "\"\\nsince different households (HH) have different consumption patterns, with some HH's consumption patterns being quite \\ncorrelated with other HHs, it might be good to fit different models for each of these 'clusters'.\\nThat way, we can get higher prediction accuracy for specific HHs in each cluster.\\nCan we clearly identify different clusters from the corr analysis done in Part 1?\\n\""
      ]
     },
     "execution_count": 44,
     "metadata": {},
     "output_type": "execute_result"
    }
   ],
   "source": [
    "# split dataset into train, val, test (how?)\n",
    "# normalize cumul values?\n",
    "# lr_model.fit(x, y)\n",
    "# score on train set\n",
    "# score on test set\n",
    "# plot timeseries of actual value and timeseries of predicted value on same plot\n",
    "# is this for each meter? or how do we generate a set of actual values representing all meters?\n",
    "# plot predicted value vs actual value. plot predicted value = actual value. analyse variance and bias.\n",
    "\n",
    "\"\"\"\n",
    "if predicting an average consumption pattern, then x and y axis must be normalized. \n",
    "maybe normalize each meterid's y data by subtracting all cumul_values by the first cumul_value. \n",
    "the model then predicts the change from the first available datapoint.\n",
    "!UNCLEAR how to normalize x axis. \n",
    "\"\"\"\n",
    "\n",
    "\"\"\"\n",
    "since different households (HH) have different consumption patterns, with some HH's consumption patterns being quite \n",
    "correlated with other HHs, it might be good to fit different models for each of these 'clusters'.\n",
    "That way, we can get higher prediction accuracy for specific HHs in each cluster.\n",
    "Can we clearly identify different clusters from the corr analysis done in Part 1?\n",
    "\"\"\"\n",
    "\n",
    "# repeat above using SVR, tune parameters with validation dataset."
   ]
  },
  {
   "cell_type": "markdown",
   "metadata": {},
   "source": [
    "### Linear Regression model for one meterid."
   ]
  },
  {
   "cell_type": "code",
   "execution_count": 45,
   "metadata": {},
   "outputs": [
    {
     "data": {
      "text/html": [
       "<div>\n",
       "<style scoped>\n",
       "    .dataframe tbody tr th:only-of-type {\n",
       "        vertical-align: middle;\n",
       "    }\n",
       "\n",
       "    .dataframe tbody tr th {\n",
       "        vertical-align: top;\n",
       "    }\n",
       "\n",
       "    .dataframe thead th {\n",
       "        text-align: right;\n",
       "    }\n",
       "</style>\n",
       "<table border=\"1\" class=\"dataframe\">\n",
       "  <thead>\n",
       "    <tr style=\"text-align: right;\">\n",
       "      <th></th>\n",
       "      <th>marginal_change</th>\n",
       "      <th>cumul_value</th>\n",
       "      <th>meterid</th>\n",
       "    </tr>\n",
       "    <tr>\n",
       "      <th>localminute</th>\n",
       "      <th></th>\n",
       "      <th></th>\n",
       "      <th></th>\n",
       "    </tr>\n",
       "  </thead>\n",
       "  <tbody>\n",
       "    <tr>\n",
       "      <th>2015-10-01 05:00:00</th>\n",
       "      <td>0.0</td>\n",
       "      <td>93470.0</td>\n",
       "      <td>35</td>\n",
       "    </tr>\n",
       "    <tr>\n",
       "      <th>2015-10-01 06:00:00</th>\n",
       "      <td>0.0</td>\n",
       "      <td>93470.0</td>\n",
       "      <td>35</td>\n",
       "    </tr>\n",
       "    <tr>\n",
       "      <th>2015-10-01 07:00:00</th>\n",
       "      <td>0.0</td>\n",
       "      <td>93470.0</td>\n",
       "      <td>35</td>\n",
       "    </tr>\n",
       "    <tr>\n",
       "      <th>2015-10-01 08:00:00</th>\n",
       "      <td>0.0</td>\n",
       "      <td>93470.0</td>\n",
       "      <td>35</td>\n",
       "    </tr>\n",
       "    <tr>\n",
       "      <th>2015-10-01 09:00:00</th>\n",
       "      <td>0.0</td>\n",
       "      <td>93470.0</td>\n",
       "      <td>35</td>\n",
       "    </tr>\n",
       "  </tbody>\n",
       "</table>\n",
       "</div>"
      ],
      "text/plain": [
       "                     marginal_change  cumul_value  meterid\n",
       "localminute                                               \n",
       "2015-10-01 05:00:00              0.0      93470.0       35\n",
       "2015-10-01 06:00:00              0.0      93470.0       35\n",
       "2015-10-01 07:00:00              0.0      93470.0       35\n",
       "2015-10-01 08:00:00              0.0      93470.0       35\n",
       "2015-10-01 09:00:00              0.0      93470.0       35"
      ]
     },
     "execution_count": 45,
     "metadata": {},
     "output_type": "execute_result"
    }
   ],
   "source": [
    "meterid = 35\n",
    "df_i = groups.get_group(meterid)\n",
    "df_i.head()"
   ]
  },
  {
   "cell_type": "code",
   "execution_count": 46,
   "metadata": {},
   "outputs": [],
   "source": [
    "lr_model = LinearRegression()\n",
    "\n",
    "# convert DateTimeIndex to numerical values for regression.\n",
    "# each hour is now denoted by an integer.\n",
    "X = np.arange(start=0, stop=len(df_i.index), step=1).reshape(-1, 1)\n",
    "\n",
    "y = df_i['cumul_value']\n",
    "# should we shift y axis down by first cumul value? more meaningful? can more easily compare across meterids?"
   ]
  },
  {
   "cell_type": "code",
   "execution_count": 47,
   "metadata": {},
   "outputs": [],
   "source": [
    "# split dataset\n",
    "\n",
    "valid_start, test_start = int(len(df_i)*0.7), int(len(df_i)*0.8)\n",
    "x_train, x_valid, x_test = X[:valid_start,:], X[valid_start:test_start,:], X[test_start:,:]\n",
    "y_train, y_valid, y_test = y[:valid_start], y[valid_start:test_start], y[test_start:]"
   ]
  },
  {
   "cell_type": "code",
   "execution_count": 48,
   "metadata": {},
   "outputs": [
    {
     "data": {
      "text/plain": [
       "LinearRegression(copy_X=True, fit_intercept=True, n_jobs=None, normalize=False)"
      ]
     },
     "execution_count": 48,
     "metadata": {},
     "output_type": "execute_result"
    }
   ],
   "source": [
    "lr_model.fit(x_train, y_train)"
   ]
  },
  {
   "cell_type": "code",
   "execution_count": 49,
   "metadata": {},
   "outputs": [],
   "source": [
    "# run predictions and get scores\n",
    "\n",
    "y_train_pred = lr_model.predict(x_train)\n",
    "r2_train = lr_model.score(x_train, y_train)\n",
    "\n",
    "y_valid_pred = lr_model.predict(x_valid)\n",
    "r2_valid = lr_model.score(x_valid, y_valid)\n",
    "\n",
    "y_test_pred = lr_model.predict(x_test)\n",
    "r2_test = lr_model.score(x_test, y_test)"
   ]
  },
  {
   "cell_type": "code",
   "execution_count": 50,
   "metadata": {},
   "outputs": [
    {
     "data": {
      "text/plain": [
       "<matplotlib.legend.Legend at 0x164abde3ba8>"
      ]
     },
     "execution_count": 50,
     "metadata": {},
     "output_type": "execute_result"
    },
    {
     "data": {
      "image/png": "[encoded data removed]",
      "text/plain": [
       "<Figure size 576x396 with 1 Axes>"
      ]
     },
     "metadata": {},
     "output_type": "display_data"
    }
   ],
   "source": [
    "# plot results\n",
    "\n",
    "plt.title(f'meterid {meterid}; r2_train: {r2_train:.3f}; r2_val: {r2_valid:.3f}; r2_test: {r2_test:.3f}')\n",
    "plt.xlabel(f'hours elapsed since {df_i.index[0]}') \n",
    "plt.plot(x_train, y_train, label='actual train')\n",
    "plt.plot(x_train, y_train_pred, label='prediction on train')\n",
    "\n",
    "plt.plot(x_valid, y_valid, label='actual val')\n",
    "plt.plot(x_valid, y_valid_pred, label='prediction on val')\n",
    "\n",
    "plt.plot(x_test, y_test, label='actual test')\n",
    "plt.plot(x_test, y_test_pred, label='prediction on test')\n",
    "\n",
    "plt.legend()"
   ]
  },
  {
   "cell_type": "code",
   "execution_count": 51,
   "metadata": {},
   "outputs": [
    {
     "data": {
      "text/plain": [
       "<matplotlib.legend.Legend at 0x164a0de00b8>"
      ]
     },
     "execution_count": 51,
     "metadata": {},
     "output_type": "execute_result"
    },
    {
     "data": {
      "image/png": "[encoded data removed]",
      "text/plain": [
       "<Figure size 576x396 with 1 Axes>"
      ]
     },
     "metadata": {},
     "output_type": "display_data"
    }
   ],
   "source": [
    "# plot actual vs predicted value\n",
    "actual = []\n",
    "actual.extend(y_train)\n",
    "actual.extend(y_valid)\n",
    "actual.extend(y_test)\n",
    "len(actual)\n",
    "\n",
    "predicted = []\n",
    "predicted.extend(y_train_pred)\n",
    "predicted.extend(y_valid_pred)\n",
    "predicted.extend(y_test_pred)\n",
    "len(predicted)\n",
    "\n",
    "plt.scatter(actual, predicted, color='magenta', label='predicted vs actual')\n",
    "plt.plot(actual, actual, label='perfect fit')\n",
    "plt.legend()"
   ]
  },
  {
   "cell_type": "code",
   "execution_count": 52,
   "metadata": {},
   "outputs": [],
   "source": [
    "# x_train.shape\n",
    "# y_train.shape\n",
    "# length"
   ]
  },
  {
   "cell_type": "code",
   "execution_count": 53,
   "metadata": {},
   "outputs": [],
   "source": [
    "train_x_pork = x_train.astype(float)\n",
    "train_y_pork = y_train.astype(float)"
   ]
  },
  {
   "cell_type": "code",
   "execution_count": 54,
   "metadata": {},
   "outputs": [
    {
     "data": {
      "text/plain": [
       "dtype('float64')"
      ]
     },
     "execution_count": 54,
     "metadata": {},
     "output_type": "execute_result"
    }
   ],
   "source": [
    "# train_x_pork.dtype\n",
    "train_y_pork.dtype"
   ]
  },
  {
   "cell_type": "code",
   "execution_count": 68,
   "metadata": {},
   "outputs": [],
   "source": [
    "import tensorflow as tf"
   ]
  },
  {
   "cell_type": "code",
   "execution_count": 69,
   "metadata": {},
   "outputs": [
    {
     "ename": "AttributeError",
     "evalue": "module 'tensorflow' has no attribute 'Session'",
     "output_type": "error",
     "traceback": [
      "\u001b[1;31m---------------------------------------------------------------------------\u001b[0m",
      "\u001b[1;31mAttributeError\u001b[0m                            Traceback (most recent call last)",
      "\u001b[1;32m<ipython-input-69-7f8553349a2a>\u001b[0m in \u001b[0;36m<module>\u001b[1;34m\u001b[0m\n\u001b[1;32m----> 1\u001b[1;33m \u001b[1;32mimport\u001b[0m \u001b[0mgpflow\u001b[0m\u001b[1;33m\u001b[0m\u001b[1;33m\u001b[0m\u001b[0m\n\u001b[0m\u001b[0;32m      2\u001b[0m \u001b[1;31m### length is the length of the training set input\u001b[0m\u001b[1;33m\u001b[0m\u001b[1;33m\u001b[0m\u001b[1;33m\u001b[0m\u001b[0m\n\u001b[0;32m      3\u001b[0m \u001b[0mdims\u001b[0m \u001b[1;33m=\u001b[0m \u001b[1;36m1\u001b[0m\u001b[1;33m\u001b[0m\u001b[1;33m\u001b[0m\u001b[0m\n\u001b[0;32m      4\u001b[0m \u001b[0mlength\u001b[0m \u001b[1;33m=\u001b[0m \u001b[0mlen\u001b[0m\u001b[1;33m(\u001b[0m\u001b[0mx_train\u001b[0m\u001b[1;33m)\u001b[0m\u001b[1;33m\u001b[0m\u001b[1;33m\u001b[0m\u001b[0m\n\u001b[0;32m      5\u001b[0m \u001b[1;33m\u001b[0m\u001b[0m\n",
      "\u001b[1;32mD:\\Anaconda3\\lib\\site-packages\\gpflow\\__init__.py\u001b[0m in \u001b[0;36m<module>\u001b[1;34m\u001b[0m\n\u001b[0;32m     19\u001b[0m \u001b[1;32mfrom\u001b[0m \u001b[1;33m.\u001b[0m\u001b[0m_settings\u001b[0m \u001b[1;32mimport\u001b[0m \u001b[0mSETTINGS\u001b[0m \u001b[1;32mas\u001b[0m \u001b[0msettings\u001b[0m\u001b[1;33m\u001b[0m\u001b[1;33m\u001b[0m\u001b[0m\n\u001b[0;32m     20\u001b[0m \u001b[1;33m\u001b[0m\u001b[0m\n\u001b[1;32m---> 21\u001b[1;33m \u001b[1;32mfrom\u001b[0m \u001b[1;33m.\u001b[0m\u001b[0msession_manager\u001b[0m \u001b[1;32mimport\u001b[0m \u001b[0mget_session\u001b[0m\u001b[1;33m\u001b[0m\u001b[1;33m\u001b[0m\u001b[0m\n\u001b[0m\u001b[0;32m     22\u001b[0m \u001b[1;32mfrom\u001b[0m \u001b[1;33m.\u001b[0m\u001b[0msession_manager\u001b[0m \u001b[1;32mimport\u001b[0m \u001b[0mget_default_session\u001b[0m\u001b[1;33m\u001b[0m\u001b[1;33m\u001b[0m\u001b[0m\n\u001b[0;32m     23\u001b[0m \u001b[1;32mfrom\u001b[0m \u001b[1;33m.\u001b[0m\u001b[0msession_manager\u001b[0m \u001b[1;32mimport\u001b[0m \u001b[0mreset_default_session\u001b[0m\u001b[1;33m\u001b[0m\u001b[1;33m\u001b[0m\u001b[0m\n",
      "\u001b[1;32mD:\\Anaconda3\\lib\\site-packages\\gpflow\\session_manager.py\u001b[0m in \u001b[0;36m<module>\u001b[1;34m\u001b[0m\n\u001b[0;32m     29\u001b[0m \u001b[1;33m\u001b[0m\u001b[0m\n\u001b[0;32m     30\u001b[0m \u001b[1;33m\u001b[0m\u001b[0m\n\u001b[1;32m---> 31\u001b[1;33m \u001b[1;32mclass\u001b[0m \u001b[0mTracerSession\u001b[0m\u001b[1;33m(\u001b[0m\u001b[0mtf\u001b[0m\u001b[1;33m.\u001b[0m\u001b[0mSession\u001b[0m\u001b[1;33m)\u001b[0m\u001b[1;33m:\u001b[0m\u001b[1;33m\u001b[0m\u001b[1;33m\u001b[0m\u001b[0m\n\u001b[0m\u001b[0;32m     32\u001b[0m     def __init__(self, output_file_name=None, output_directory=None,\n\u001b[0;32m     33\u001b[0m                  each_time=None, **kwargs):\n",
      "\u001b[1;31mAttributeError\u001b[0m: module 'tensorflow' has no attribute 'Session'"
     ]
    }
   ],
   "source": [
    "import gpflow\n",
    "### length is the length of the training set input\n",
    "dims = 1\n",
    "length = len(x_train)\n",
    "\n",
    "k = gpflow.kernels.Matern32(input_dim=dims, variance=1.,lengthscales=0.5)\n",
    "\n",
    "meanf = gpflow.mean_functions.Linear(np.zeros((dims,length)),np.zeros(length))\n",
    "\n",
    "m = gpflow.models.GPR(np.array(train_x_pork), np.array(train_y_pork.values).reshape(length,1), k, meanf)\n",
    "m.likelihood.variance = 0.01"
   ]
  },
  {
   "cell_type": "code",
   "execution_count": null,
   "metadata": {},
   "outputs": [],
   "source": [
    "m.as_pandas_table()"
   ]
  },
  {
   "cell_type": "code",
   "execution_count": null,
   "metadata": {},
   "outputs": [],
   "source": [
    "gpflow.train.ScipyOptimizer().minimize(m)\n",
    "# plot(m)\n",
    "m.as_pandas_table()"
   ]
  },
  {
   "cell_type": "code",
   "execution_count": null,
   "metadata": {},
   "outputs": [],
   "source": [
    "# Q is the \"X\" (input) of the test set\n",
    "\n",
    "mean, var = m.predict_y(x_test)\n",
    "mean"
   ]
  },
  {
   "cell_type": "code",
   "execution_count": null,
   "metadata": {},
   "outputs": [],
   "source": [
    "results = np.zeros(688)\n",
    "for i in range(0,688):    \n",
    "    results[i] = mean[i][0]\n",
    "results"
   ]
  },
  {
   "cell_type": "code",
   "execution_count": null,
   "metadata": {},
   "outputs": [],
   "source": [
    "# plot actual vs predicted value\n",
    "actual = []\n",
    "# actual.extend(y_train)\n",
    "# actual.extend(y_valid)\n",
    "actual.extend(y_test.values)\n",
    "len(actual)\n",
    "\n",
    "predicted = []\n",
    "# predicted.extend(y_train_pred)\n",
    "# predicted.extend(y_valid_pred)\n",
    "predicted.extend(results)\n",
    "len(predicted)\n",
    "\n",
    "plt.scatter(actual, predicted, color='magenta', label='predicted vs actual')\n",
    "plt.plot(actual, actual, label='perfect fit')\n",
    "plt.legend()"
   ]
  },
  {
   "cell_type": "code",
   "execution_count": null,
   "metadata": {},
   "outputs": [],
   "source": [
    "# np.array(results).shape"
   ]
  },
  {
   "cell_type": "code",
   "execution_count": null,
   "metadata": {},
   "outputs": [],
   "source": [
    "# results[0][1][0]"
   ]
  },
  {
   "cell_type": "code",
   "execution_count": null,
   "metadata": {},
   "outputs": [],
   "source": [
    "# test = np.zeros(length)\n",
    "# for i in range(length):\n",
    "#     test[i] = results[0][0][i]\n",
    "# plt.scatter(y_test, test)\n",
    "# # plt.plot(np.arange(-120, 120), np.arange(-120, 120))\n",
    "# plt.show()"
   ]
  },
  {
   "cell_type": "code",
   "execution_count": null,
   "metadata": {},
   "outputs": [],
   "source": [
    "# plt.scatter(y_test, test)\n",
    "# # plt.plot(np.arange(-120, 120), np.arange(-120, 120))\n",
    "# plt.show()"
   ]
  },
  {
   "cell_type": "markdown",
   "metadata": {},
   "source": [
    "### Combined code"
   ]
  },
  {
   "cell_type": "code",
   "execution_count": null,
   "metadata": {},
   "outputs": [],
   "source": [
    "def plot(m):\n",
    "    mean, var = m.predict_y(x_test)\n",
    "    plt.figure(figsize=(12, 6))\n",
    "    plt.plot(x_train, y_train, 'kx', mew=2)\n",
    "    plt.plot(x_test, mean, 'b', lw=2)\n",
    "    plt.fill_between(x_test[:,0], mean[:,0] - 2*np.sqrt(var[:,0]), mean[:,0] + 2*np.sqrt(var[:,0]), color='blue', alpha=0.2)\n",
    "    plt.xlim(-0.1, 1.1)\n",
    "plot(m)"
   ]
  },
  {
   "cell_type": "code",
   "execution_count": null,
   "metadata": {},
   "outputs": [],
   "source": [
    "origin_date = '2015-11-01' # starting date to normalize x axis (time in hours) to.\n",
    "\n",
    "df_normalized = normalize_and_combine(origin_date)\n",
    "display(df_normalized.head(), df_normalized.tail(), df_normalized.describe())\n",
    "\n",
    "le = LabelEncoder()\n",
    "labels = le.fit_transform(df_normalized['meterid'])\n",
    "df_normalized = df_normalized.assign(label=labels)\n",
    "display(df_normalized.head())\n",
    "\n",
    "new_groups = df_normalized.groupby('meterid')\n",
    "new_keys = groups.groups.keys()  # keys: an iterable of dataids or meter ids\n",
    "\n",
    "new_id_list = list(new_keys)\n",
    "display(new_id_list, len(new_id_list))\n",
    "\n",
    "for meterid in new_id_list:\n",
    "    # do linear models."
   ]
  }
 ],
 "metadata": {
  "kernelspec": {
   "display_name": "Python 3",
   "language": "python",
   "name": "python3"
  },
  "language_info": {
   "codemirror_mode": {
    "name": "ipython",
    "version": 3
   },
   "file_extension": ".py",
   "mimetype": "text/x-python",
   "name": "python",
   "nbconvert_exporter": "python",
   "pygments_lexer": "ipython3",
   "version": "3.7.3"
  }
 },
 "nbformat": 4,
 "nbformat_minor": 4
}
